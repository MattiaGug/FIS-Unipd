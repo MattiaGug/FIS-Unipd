{
 "cells": [
  {
   "cell_type": "markdown",
   "metadata": {
    "slideshow": {
     "slide_type": "slide"
    }
   },
   "source": [
    "# Fundamentals of Information Systems\n",
    "\n",
    "## Python Programming (for Data Science)\n",
    "\n",
    "### Master's Degree in Data Science\n",
    "\n",
    "\n",
    "\n",
    "### Giorgio Maria Di Nunzio\n",
    "#### (Courtesy of Gabriele Tolomei FIS 2018-2019)\n",
    "<a href=\"mailto:giorgiomaria.dinunzio@unipd.it\">giorgiomaria.dinunzio@unipd.it</a><br/>\n",
    "University of Padua, Italy<br/>\n",
    "2023/2024<br/>"
   ]
  },
  {
   "cell_type": "markdown",
   "metadata": {},
   "source": [
    "#### Notes from the lecture:"
   ]
  },
  {
   "cell_type": "code",
   "execution_count": 1,
   "metadata": {},
   "outputs": [],
   "source": [
    "studentIDs = [123, 148, 201, 331]"
   ]
  },
  {
   "cell_type": "code",
   "execution_count": 2,
   "metadata": {},
   "outputs": [
    {
     "data": {
      "text/plain": [
       "[123, 148, 201, 331]"
      ]
     },
     "execution_count": 2,
     "metadata": {},
     "output_type": "execute_result"
    }
   ],
   "source": [
    "studentIDs"
   ]
  },
  {
   "cell_type": "code",
   "execution_count": 3,
   "metadata": {},
   "outputs": [
    {
     "data": {
      "text/plain": [
       "(123, 148)"
      ]
     },
     "execution_count": 3,
     "metadata": {},
     "output_type": "execute_result"
    }
   ],
   "source": [
    "studentIDs[0],studentIDs[1]"
   ]
  },
  {
   "cell_type": "markdown",
   "metadata": {},
   "source": [
    "#### Notes from the moodle: "
   ]
  },
  {
   "cell_type": "markdown",
   "metadata": {
    "slideshow": {
     "slide_type": "slide"
    }
   },
   "source": [
    "# Lecture 1: Python Language Basics"
   ]
  },
  {
   "cell_type": "markdown",
   "metadata": {
    "slideshow": {
     "slide_type": "slide"
    }
   },
   "source": [
    "# Language Syntax"
   ]
  },
  {
   "cell_type": "markdown",
   "metadata": {
    "slideshow": {
     "slide_type": "slide"
    }
   },
   "source": [
    "## Indentation rather than Braces\n",
    "\n",
    "-  Python uses whitespaces (tabs or spaces) to structure code instead of using braces <code>**{}**</code> as in many other languages like R, C++, Java, and Perl."
   ]
  },
  {
   "cell_type": "code",
   "execution_count": 4,
   "metadata": {
    "slideshow": {
     "slide_type": "slide"
    }
   },
   "outputs": [
    {
     "name": "stdout",
     "output_type": "stream",
     "text": [
      "x = 12 is strictly positive\n",
      "x = -3 is strictly negative\n",
      "x = 5 is strictly positive\n",
      "x = -6 is strictly negative\n"
     ]
    }
   ],
   "source": [
    "\"\"\"\n",
    "A colon ':' denotes the start of an indented code block after which all of the code \n",
    "must be indented by the same amount of whitespaces until the end of the block.\n",
    "\"\"\"\n",
    "\n",
    "\"\"\"\n",
    "for x in array:\n",
    "    if x < 0:\n",
    "        print(\"x = {} is strictly negative\".format(x))\n",
    "    elif x > 0:\n",
    "        print(\"x = {} is strictly positive\".format(x))\n",
    "    else:\n",
    "        print(\"x is {}\".format(x))\n",
    "\"\"\"\n",
    "\n",
    "\"\"\" \n",
    "-------> Array needs to be defined first!  <-------\n",
    "\"\"\"\n",
    "array = [12, -3, 5, -6] # <------- I create \"array\" as a list of values\n",
    "\n",
    "for x in array:    # <------- I iterate through the list\n",
    "    if x < 0:      # <------- if statement\n",
    "        print(\"x = {} is strictly negative\".format(x)) # <------- Format function\n",
    "    elif x > 0:\n",
    "        print(\"x = {} is strictly positive\".format(x))\n",
    "    else:\n",
    "        print(\"x is {}\".format(x))"
   ]
  },
  {
   "cell_type": "markdown",
   "metadata": {
    "slideshow": {
     "slide_type": "slide"
    }
   },
   "source": [
    "<span style=\"color: red\"><b>Note:</b></span> *We strongly recommend that you use **4 spaces** as your default indentation and that your editor replace tabs with 4 spaces. Many text editors have a setting that will replace tab stops with spaces automatically (do this!).*"
   ]
  },
  {
   "cell_type": "markdown",
   "metadata": {
    "slideshow": {
     "slide_type": "slide"
    }
   },
   "source": [
    "## No Need for Semicolons\n",
    "\n",
    "-  Python statements **do not** need to be terminated by semicolon \"<code>**;**</code>\".\n",
    "\n",
    "-  Unless you want to separate multiple statements on the same line:\n",
    "\n",
    "```python\n",
    "x = 3; y = 4; z = 5\n",
    "```\n",
    "\n",
    "-  Putting multiple statements on one line is generally discouraged, as it makes code less readable."
   ]
  },
  {
   "cell_type": "markdown",
   "metadata": {
    "slideshow": {
     "slide_type": "slide"
    }
   },
   "source": [
    "## Comments\n",
    "\n",
    "-  Any text preceded by the hash mark (pound sign) \"<code>**#**</code>\" is ignored by the Python interpreter. \n",
    "\n",
    "-  This is often used to add comments to code or to (temporarily) exclude certain blocks of code without deleting them.\n",
    "\n",
    "-  Comments spawning across multiple lines need to be included within <code>\"\"\"MULTILINE COMMENT HERE\"\"\"</code>."
   ]
  },
  {
   "cell_type": "code",
   "execution_count": 5,
   "metadata": {
    "slideshow": {
     "slide_type": "slide"
    }
   },
   "outputs": [
    {
     "ename": "NameError",
     "evalue": "name 'file_handle' is not defined",
     "output_type": "error",
     "traceback": [
      "\u001b[0;31m---------------------------------------------------------------------------\u001b[0m",
      "\u001b[0;31mNameError\u001b[0m                                 Traceback (most recent call last)",
      "\u001b[0;32m/var/folders/pg/ccyl3brd18x3ytjk5l39tgy00000gn/T/ipykernel_5253/1519945054.py\u001b[0m in \u001b[0;36m<module>\u001b[0;34m\u001b[0m\n\u001b[1;32m      7\u001b[0m \u001b[0;34m\u001b[0m\u001b[0m\n\u001b[1;32m      8\u001b[0m \u001b[0mresults\u001b[0m \u001b[0;34m=\u001b[0m \u001b[0;34m[\u001b[0m\u001b[0;34m]\u001b[0m \u001b[0;31m# This is an inline comment\u001b[0m\u001b[0;34m\u001b[0m\u001b[0;34m\u001b[0m\u001b[0m\n\u001b[0;32m----> 9\u001b[0;31m \u001b[0;32mfor\u001b[0m \u001b[0mline\u001b[0m \u001b[0;32min\u001b[0m \u001b[0mfile_handle\u001b[0m\u001b[0;34m:\u001b[0m\u001b[0;34m\u001b[0m\u001b[0;34m\u001b[0m\u001b[0m\n\u001b[0m\u001b[1;32m     10\u001b[0m     \u001b[0;31m# This is a comment\u001b[0m\u001b[0;34m\u001b[0m\u001b[0;34m\u001b[0m\u001b[0m\n\u001b[1;32m     11\u001b[0m     \"\"\"This is a multiline\n",
      "\u001b[0;31mNameError\u001b[0m: name 'file_handle' is not defined"
     ]
    }
   ],
   "source": [
    "\"\"\"\n",
    "Difference between inline/multiline comment \n",
    "# vs \"\"\" \"\"\"\n",
    "\n",
    "\"\"\"\n",
    "\n",
    "\n",
    "results = [] # This is an inline comment    \n",
    "for line in file_handle:\n",
    "    # This is a comment\n",
    "    \"\"\"This is a multiline\n",
    "    comment\n",
    "    \"\"\"\n",
    "    '''This is\n",
    "    also a multiline comment\n",
    "    '''\n",
    "    # The following two lines of code are excluded from execution\n",
    "    # if len(line) == 0:\n",
    "    #   continue\n",
    "    results.append(line.replace('foo', 'bar'))  # <----- It replaces the word foo with bar "
   ]
  },
  {
   "cell_type": "markdown",
   "metadata": {
    "slideshow": {
     "slide_type": "slide"
    }
   },
   "source": [
    "## Variables\n",
    "\n",
    "-  There are many cases where *values* (being they strings, numbers, etc.) should be (temporarily) \"saved\" into *variables*.\n",
    "\n",
    "-  In a nutshell, a variable is just the **name** of the container for a **value**.\n",
    "\n",
    "-  A variable allows us to refer to the same value (possibly multiple times in our code) without having to explicitly write such a value down."
   ]
  },
  {
   "cell_type": "markdown",
   "metadata": {
    "slideshow": {
     "slide_type": "slide"
    }
   },
   "source": [
    "## Naming Rules (1 of 2)\n",
    "\n",
    "-  Variable names can only contain **letters**, **numbers**, and **underscores**. \n",
    "\n",
    "-  Variable names can start with a letter or an underscore, but **cannot start with a number**.\n",
    "\n",
    "-  Spaces are not allowed, so we use underscores instead of spaces. For example, use <code>**student_name**</code> instead of <code>**student name**</code>."
   ]
  },
  {
   "cell_type": "markdown",
   "metadata": {
    "slideshow": {
     "slide_type": "slide"
    }
   },
   "source": [
    "## Naming Rules (2 of 2)\n",
    "\n",
    "-  Variable names cannot be Python keywords (e.g., <code>**for**</code>, <code>**import**</code>, <code>**from**</code>, etc.).\n",
    "-  Variable names should be descriptive, without being too long.\n",
    "-  Be careful about using the lowercase letter <code>**l**</code> and the uppercase letter <code>**O**</code> where they could be confused with the numbers <code>**1**</code> (one) and <code>**0**</code> (zero)."
   ]
  },
  {
   "cell_type": "markdown",
   "metadata": {
    "slideshow": {
     "slide_type": "slide"
    }
   },
   "source": [
    "# Python's Object Model"
   ]
  },
  {
   "cell_type": "markdown",
   "metadata": {
    "slideshow": {
     "slide_type": "slide"
    }
   },
   "source": [
    "## Everything is an Object\n",
    "\n",
    "-  Every number, string, data structure, function, class, module, and so on exists in the Python interpreter in its own \"box\", which is referred to as a Python **object**. \n",
    "\n",
    "-  Each object has an associated **type** (e.g., string or function) and internal **data**. \n",
    "\n",
    "-  This makes the language very *flexible*, as even functions can be treated like any other object."
   ]
  },
  {
   "cell_type": "markdown",
   "metadata": {
    "slideshow": {
     "slide_type": "slide"
    }
   },
   "source": [
    "## Variables as References\n",
    "\n",
    "-  When you assign a **variable** (or name) in Python, you are in fact creating a **reference** to the object on the right hand side of the assignment expression.\n",
    "\n",
    "```python\n",
    "# The variable named 'arr' is actually a reference \n",
    "# to the list object [1, 2, 3]\n",
    "arr = [1, 2, 3]\n",
    "```"
   ]
  },
  {
   "cell_type": "markdown",
   "metadata": {
    "slideshow": {
     "slide_type": "slide"
    }
   },
   "source": [
    "## Variables as References\n",
    "\n",
    "-  Assignment is also referred to as **binding**, as we are binding a name to an object. \n",
    "\n",
    "-  Variable names that have been assigned may occasionally be referred to as *bound variables*."
   ]
  },
  {
   "cell_type": "markdown",
   "metadata": {
    "slideshow": {
     "slide_type": "slide"
    }
   },
   "source": [
    "## Value vs. Reference\n",
    "\n",
    "-  Suppose we assign (the value referenced by) <code>arr</code> to another variable <code>arr2</code>.\n",
    "```python\n",
    "arr2 = arr\n",
    "```\n",
    "\n",
    "-  In some languages, this assignment would cause the data referenced by <code>arr</code> (i.e., the list <code>[1, 2, 3]</code>) to be copied."
   ]
  },
  {
   "cell_type": "markdown",
   "metadata": {
    "slideshow": {
     "slide_type": "slide"
    }
   },
   "source": [
    "## Value vs. Reference\n",
    "\n",
    "-  In Python, <code>arr</code> and <code>arr2</code> now actually refer to the *same* object, namely the original list."
   ]
  },
  {
   "cell_type": "code",
   "execution_count": null,
   "metadata": {
    "slideshow": {
     "slide_type": "slide"
    }
   },
   "outputs": [],
   "source": [
    "# Assign the list object to the variable named arr\n",
    "arr = [1, 2, 3]\n",
    "\n",
    "# Print this variable\n",
    "print(\"The value referenced by arr is: {}\".format(arr))\n",
    "\n",
    "# Assign arr to another variable arr2 \n",
    "# (i.e., make arr2 point to the same object pointed by arr)\n",
    "arr2 = arr\n",
    "\n",
    "# Print arr2 so as to check the value printed out is actually the same of arr\n",
    "print(\"The value referenced by arr2 is: {}\".format(arr2))\n",
    "\n",
    "# Modify arr by appending a new element to the original list\n",
    "arr.append(4)\n",
    "\n",
    "# Print arr2 to see if it is affected too\n",
    "print(\"After modifying the value referenced by arr, arr2 points to: {}\".format(arr2))\n",
    "\n",
    "# Note that arr2 is NOT affected if arr is re-assigned (i.e., re-bound)\n",
    "# to a different object!\n",
    "arr = [5, 6, 7]\n",
    "\n",
    "# Now arr is re-bound to a new list object\n",
    "print(\"After rebinding arr, the value it references now is: {}\".format(arr))   # <----- be careful when rebinding\n",
    "print(\"After rebinding arr, the value referenced by arr2 is: {}\".format(arr2)) # <----- be careful when rebinding"
   ]
  },
  {
   "cell_type": "markdown",
   "metadata": {
    "slideshow": {
     "slide_type": "slide"
    }
   },
   "source": [
    "## Object's Attributes and Methods\n",
    "\n",
    "-  Objects in Python typically have both **attributes** and **methods**.\n",
    "\n",
    "    -  Attributes are other Python objects stored \"inside\" the object and representing its *internal state*;\n",
    "    -  Methods are functions associated with an object which can have access to/manipulate the object's internal state. \n",
    "    \n",
    "-  Both of them are accessed via the syntax <code>**obj.attribute_name**</code> or <code>**obj.method_name(args...)**</code> where <code>**(args...)**</code> are the input arguments of the method."
   ]
  },
  {
   "cell_type": "code",
   "execution_count": null,
   "metadata": {
    "slideshow": {
     "slide_type": "slide"
    }
   },
   "outputs": [],
   "source": [
    "# The list of available attributes/methods of an object\n",
    "# can be found by typing obj.<TAB>\n",
    "# for example arr."
   ]
  },
  {
   "cell_type": "markdown",
   "metadata": {
    "slideshow": {
     "slide_type": "slide"
    }
   },
   "source": [
    "## Object's Attributes and Methods\n",
    "\n",
    "-  In the previous example:\n",
    "```python\n",
    "# arr is a list object; \n",
    "# append is invoked to insert a new element\n",
    "arr.append(4)\n",
    "```"
   ]
  },
  {
   "cell_type": "markdown",
   "metadata": {
    "slideshow": {
     "slide_type": "slide"
    }
   },
   "source": [
    "## Mutable vs. Immutable Objects\n",
    "\n",
    "-  Many objects in Python are **mutable**, such as lists, dictionaries, sets, or most user-defined types (classes). \n",
    "\n",
    "-  This means that the object or values that they contain can be modified.\n",
    "\n",
    "-  Others, like integers, strings, and tuples are **immutable**."
   ]
  },
  {
   "cell_type": "code",
   "execution_count": null,
   "metadata": {
    "slideshow": {
     "slide_type": "slide"
    }
   },
   "outputs": [],
   "source": [
    "# Defining a (mutable) list object\n",
    "a_list = [1, 2, 3]\n",
    "print(a_list)\n",
    "\n",
    "# Modify the content of the object referenced by a_list\n",
    "a_list[1] = True\n",
    "print(a_list)"
   ]
  },
  {
   "cell_type": "code",
   "execution_count": null,
   "metadata": {
    "slideshow": {
     "slide_type": "slide"
    }
   },
   "outputs": [],
   "source": [
    "# Defining a string object (immutable)\n",
    "a_string = 'This is an immutable string'\n",
    "print(a_string)\n",
    "\n",
    "# Try to modify the object referenced by a_string\n",
    "a_string[0] = 't'\n",
    "print(a_string)"
   ]
  },
  {
   "cell_type": "code",
   "execution_count": null,
   "metadata": {
    "slideshow": {
     "slide_type": "slide"
    }
   },
   "outputs": [],
   "source": [
    "# Defining a (mutable) list object\n",
    "a_list = [1, 2, 3]\n",
    "\n",
    "# make `another_list` reference to the same object referenced by `a_list`\n",
    "another_list = a_list \n",
    "print(\"a_list: {}\".format(a_list))\n",
    "print(\"another_list: {}\".format(another_list))\n",
    "\n",
    "# check if the two (symbolic) names actually refer to the same object\n",
    "print(\"a_list (id): {}\".format(id(a_list)))                           #  <----- id function, returns id (object)\n",
    "print(\"another_list (id): {}\".format(id(another_list)))               #  <----- id function, returns id (object)   \n",
    "\n",
    "# Modify the content of the object referenced by a_list\n",
    "a_list.extend([4, 5]) # the same as a_list += [4, 5]                  #. <----- Either i use += or .extend() to append\n",
    "print(\"a_list: {}\".format(a_list))\n",
    "print(\"another_list: {}\".format(another_list))\n",
    "print(\"a_list (id): {}\".format(id(a_list)))\n",
    "print(\"another_list (id): {}\".format(id(another_list)))"
   ]
  },
  {
   "cell_type": "code",
   "execution_count": null,
   "metadata": {
    "slideshow": {
     "slide_type": "slide"
    }
   },
   "outputs": [],
   "source": [
    "# Defining an (immutable) integer object\n",
    "x = 42\n",
    "\n",
    "# make `y` reference to the same object referenced by `x`\n",
    "y = x\n",
    "print(\"x: {}\".format(x))\n",
    "print(\"y: {}\".format(y))\n",
    "\n",
    "# check if the two (symbolic) names actually refer to the same object\n",
    "print(\"x (id): {}\".format(id(x)))\n",
    "print(\"y (id): {}\".format(id(y)))\n",
    "\n",
    "# Modify the content of the object referenced by x\n",
    "\n",
    "x += 5 # 42 can't be mutated, a NEW object is created here (and make it referenced by x)\n",
    "\n",
    "print(\"x: {}\".format(x))\n",
    "print(\"y: {}\".format(y))\n",
    "print(\"x (id): {}\".format(id(x)))\n",
    "print(\"y (id): {}\".format(id(y)))\n",
    "print(\"x: {}\".format(x))\n",
    "print(\"x: {}\".format(id(x)))"
   ]
  },
  {
   "cell_type": "code",
   "execution_count": null,
   "metadata": {
    "slideshow": {
     "slide_type": "slide"
    }
   },
   "outputs": [],
   "source": [
    "# Defining a (mutable) list object containing heterogeneous\n",
    "# and possibly immutable elements\n",
    "a_list = [1, 'foo', [2,3], (4,5)]\n",
    "\n",
    "# What will you expect if we modify the 2nd element of the list?\n",
    "a_list[1] = 'bar'\n",
    "print(a_list)"
   ]
  },
  {
   "cell_type": "code",
   "execution_count": null,
   "metadata": {
    "slideshow": {
     "slide_type": "slide"
    }
   },
   "outputs": [],
   "source": [
    "# Defining a (mutable) list object containing heterogeneous\n",
    "# and possibly immutable elements\n",
    "a_list = [1, 'foo', [2,3], (4,5)]\n",
    "\n",
    "# What will you expect if we modify the 2nd element of the list?\n",
    "a_list[1] = 'bar'\n",
    "print(a_list)\n",
    "\n",
    "# What if, instead, we try the following:\n",
    "a_list[1][0] = 'z'                                # <----- Here tries to change the word bar to zar but it cannot\n"
   ]
  },
  {
   "cell_type": "code",
   "execution_count": null,
   "metadata": {},
   "outputs": [],
   "source": [
    "a_list[1][0]"
   ]
  },
  {
   "cell_type": "markdown",
   "metadata": {
    "slideshow": {
     "slide_type": "slide"
    }
   },
   "source": [
    "## Function Call (1 of 2)\n",
    "\n",
    "-  Functions are called using parentheses and passing zero or more arguments.\n",
    "\n",
    "-  Optionally, the returned value can be assigned to a variable:\n",
    "\n",
    "```python\n",
    "foo()\n",
    "result = bar(a, b)\n",
    "```"
   ]
  },
  {
   "cell_type": "markdown",
   "metadata": {
    "slideshow": {
     "slide_type": "slide"
    }
   },
   "source": [
    "## Function Call (2 of 2)\n",
    "\n",
    "-  Functions can take both *positional* and *keyword* arguments:  \n",
    "\n",
    "``` python\n",
    "result = bar(a, b, c=42, d='baz')\n",
    "```"
   ]
  },
  {
   "cell_type": "markdown",
   "metadata": {
    "slideshow": {
     "slide_type": "slide"
    }
   },
   "source": [
    "## Passing Arguments into a Function\n",
    "\n",
    "-  Arguments are *passed by assignment*. The rationale behind this is twofold:\n",
    "    -  The parameter passed in is actually a **reference** to an object (*but the reference itself is **passed by value***);\n",
    "    -  As we have already seen, some data types are mutable, but others aren't.\n"
   ]
  },
  {
   "cell_type": "markdown",
   "metadata": {
    "slideshow": {
     "slide_type": "slide"
    }
   },
   "source": [
    "## Passing *Mutable* Arguments into a Function\n",
    "\n",
    "-  If you pass a **_mutable_** object into a function (method), the function gets a *reference* to that same object.\n",
    "\n",
    "-  Within the function's body you can modify the referenced object as you like, and any change to it is also \"visible\" outside the method (*side effects*).\n",
    "\n",
    "-  Instead, if you rebind the reference in the function's body, the outer scope will know nothing about it, and after the function returns the outer reference will still point at the original object."
   ]
  },
  {
   "cell_type": "code",
   "execution_count": 6,
   "metadata": {
    "slideshow": {
     "slide_type": "slide"
    }
   },
   "outputs": [
    {
     "name": "stdout",
     "output_type": "stream",
     "text": [
      "Before function call, the list is:  [1, 2, 3]\n",
      "Input list received by the function:  [1, 2, 3]\n",
      "Modified list by the function:  [1, 2, 3, 4]\n",
      "After function call, the list is:  [1, 2, 3, 4]\n"
     ]
    }
   ],
   "source": [
    "'''\n",
    "This example shows that changes to a mutable object (i.e., a list)\n",
    "inside a function are also reflected outside of it.\n",
    "'''\n",
    "def try_to_change_list_content(a_list):        # The argument can be literally anything\n",
    "    print('Input list received by the function: ', a_list)\n",
    "    a_list.append(4)\n",
    "    print('Modified list by the function: ', a_list)\n",
    "\n",
    "# define input list\n",
    "input_list = [1, 2, 3]                         # I define the input_list by giving him the values 1, 2, 3\n",
    "print('Before function call, the list is: ', input_list)\n",
    "\n",
    "# call function\n",
    "try_to_change_list_content(input_list)         # I literally call the function passing the input list as argument\n",
    "print('After function call, the list is: ', input_list)\n"
   ]
  },
  {
   "cell_type": "code",
   "execution_count": 7,
   "metadata": {
    "slideshow": {
     "slide_type": "slide"
    }
   },
   "outputs": [
    {
     "name": "stdout",
     "output_type": "stream",
     "text": [
      "Before function call, the list is:  [1, 2, 3]\n",
      "Input list received by the function:  [1, 2, 3]\n",
      "Rebind list by the function to:  [5, 6, 7]\n",
      "After function call, the list is:  [1, 2, 3]\n"
     ]
    }
   ],
   "source": [
    "'''\n",
    "This example shows that rebinding the reference to a mutable object (i.e., a list)\n",
    "inside a function does NOT rebind the outer reference.\n",
    "'''\n",
    "def try_to_change_list_reference(a_list):\n",
    "    print('Input list received by the function: ', a_list)\n",
    "    a_list = [5, 6, 7]\n",
    "    print('Rebind list by the function to: ', a_list)\n",
    "\n",
    "# defint input list\n",
    "input_list = [1, 2, 3]\n",
    "print('Before function call, the list is: ', input_list)\n",
    "\n",
    "# call function\n",
    "try_to_change_list_reference(input_list)\n",
    "print('After function call, the list is: ', input_list)"
   ]
  },
  {
   "cell_type": "markdown",
   "metadata": {
    "slideshow": {
     "slide_type": "slide"
    }
   },
   "source": [
    "## Passing *Immutable* Arguments into a Function\n",
    "\n",
    "-  If you pass an **_immutable_** object to a method, you still can't rebind the outer reference **and** you can't even modify the object."
   ]
  },
  {
   "cell_type": "code",
   "execution_count": 8,
   "metadata": {
    "slideshow": {
     "slide_type": "slide"
    }
   },
   "outputs": [
    {
     "name": "stdout",
     "output_type": "stream",
     "text": [
      "Before function call, the string is:  Bar\n",
      "Input string received by the function:  Bar\n"
     ]
    },
    {
     "ename": "TypeError",
     "evalue": "'str' object does not support item assignment",
     "output_type": "error",
     "traceback": [
      "\u001b[0;31m---------------------------------------------------------------------------\u001b[0m",
      "\u001b[0;31mTypeError\u001b[0m                                 Traceback (most recent call last)",
      "\u001b[0;32m/var/folders/pg/ccyl3brd18x3ytjk5l39tgy00000gn/T/ipykernel_5253/3912728243.py\u001b[0m in \u001b[0;36m<module>\u001b[0;34m\u001b[0m\n\u001b[1;32m     13\u001b[0m \u001b[0;34m\u001b[0m\u001b[0m\n\u001b[1;32m     14\u001b[0m \u001b[0;31m# call function\u001b[0m\u001b[0;34m\u001b[0m\u001b[0;34m\u001b[0m\u001b[0m\n\u001b[0;32m---> 15\u001b[0;31m \u001b[0mtry_to_change_string_content\u001b[0m\u001b[0;34m(\u001b[0m\u001b[0minput_string\u001b[0m\u001b[0;34m)\u001b[0m\u001b[0;34m\u001b[0m\u001b[0;34m\u001b[0m\u001b[0m\n\u001b[0m\u001b[1;32m     16\u001b[0m \u001b[0mprint\u001b[0m\u001b[0;34m(\u001b[0m\u001b[0;34m'After function call, the string is: '\u001b[0m\u001b[0;34m,\u001b[0m \u001b[0minput_string\u001b[0m\u001b[0;34m)\u001b[0m\u001b[0;34m\u001b[0m\u001b[0;34m\u001b[0m\u001b[0m\n",
      "\u001b[0;32m/var/folders/pg/ccyl3brd18x3ytjk5l39tgy00000gn/T/ipykernel_5253/3912728243.py\u001b[0m in \u001b[0;36mtry_to_change_string_content\u001b[0;34m(a_string)\u001b[0m\n\u001b[1;32m      5\u001b[0m \u001b[0;32mdef\u001b[0m \u001b[0mtry_to_change_string_content\u001b[0m\u001b[0;34m(\u001b[0m\u001b[0ma_string\u001b[0m\u001b[0;34m)\u001b[0m\u001b[0;34m:\u001b[0m\u001b[0;34m\u001b[0m\u001b[0;34m\u001b[0m\u001b[0m\n\u001b[1;32m      6\u001b[0m     \u001b[0mprint\u001b[0m\u001b[0;34m(\u001b[0m\u001b[0;34m'Input string received by the function: '\u001b[0m\u001b[0;34m,\u001b[0m \u001b[0ma_string\u001b[0m\u001b[0;34m)\u001b[0m\u001b[0;34m\u001b[0m\u001b[0;34m\u001b[0m\u001b[0m\n\u001b[0;32m----> 7\u001b[0;31m     \u001b[0ma_string\u001b[0m\u001b[0;34m[\u001b[0m\u001b[0;36m2\u001b[0m\u001b[0;34m]\u001b[0m \u001b[0;34m=\u001b[0m \u001b[0;34m'z'\u001b[0m\u001b[0;34m\u001b[0m\u001b[0;34m\u001b[0m\u001b[0m\n\u001b[0m\u001b[1;32m      8\u001b[0m     \u001b[0mprint\u001b[0m\u001b[0;34m(\u001b[0m\u001b[0;34m'Modified string by the function: '\u001b[0m\u001b[0;34m,\u001b[0m \u001b[0ma_string\u001b[0m\u001b[0;34m)\u001b[0m\u001b[0;34m\u001b[0m\u001b[0;34m\u001b[0m\u001b[0m\n\u001b[1;32m      9\u001b[0m \u001b[0;34m\u001b[0m\u001b[0m\n",
      "\u001b[0;31mTypeError\u001b[0m: 'str' object does not support item assignment"
     ]
    }
   ],
   "source": [
    "'''\n",
    "This example shows that any attempt of change to an immutable object (i.e., a string)\n",
    "inside a function cannot be performed. \n",
    "'''\n",
    "def try_to_change_string_content(a_string):\n",
    "    print('Input string received by the function: ', a_string)\n",
    "    a_string[2] = 'z'\n",
    "    print('Modified string by the function: ', a_string)\n",
    "\n",
    "# define string\n",
    "input_string = 'Bar'\n",
    "print('Before function call, the string is: ', input_string)\n",
    "\n",
    "# call function\n",
    "try_to_change_string_content(input_string)\n",
    "print('After function call, the string is: ', input_string)"
   ]
  },
  {
   "cell_type": "code",
   "execution_count": 10,
   "metadata": {
    "slideshow": {
     "slide_type": "slide"
    }
   },
   "outputs": [
    {
     "name": "stdout",
     "output_type": "stream",
     "text": [
      "Before function call, the string is Hello World!\n",
      "Input string received by the function:  Hello World!\n",
      "Rebind string by the function to:  Ciao Mondo!\n",
      "After function call, the string is Hello World!\n"
     ]
    }
   ],
   "source": [
    "'''\n",
    "This example shows that rebinding the reference to an immutable object (i.e., a string)\n",
    "inside a function does not rebind the outer reference.\n",
    "'''\n",
    "def try_to_change_string_reference(a_string):\n",
    "    print('Input string received by the function: ', a_string)\n",
    "    a_string = 'Ciao Mondo!'\n",
    "    print('Rebind string by the function to: ', a_string)\n",
    "\n",
    "# define object\n",
    "input_string = 'Hello World!'\n",
    "print('Before function call, the string is', input_string)\n",
    "\n",
    "# call function\n",
    "try_to_change_string_reference(input_string)\n",
    "\n",
    "# print the a_string and see that it hasn't been rebinded as it represents the outer reference\n",
    "\n",
    "print('After function call, the string is', input_string)"
   ]
  },
  {
   "cell_type": "markdown",
   "metadata": {
    "slideshow": {
     "slide_type": "slide"
    }
   },
   "source": [
    "## Dynamic References, Strong Types\n",
    "\n",
    "-  In contrast with many **statically-typed** languages, such as Java and C++, object references in Python have **no type** associated with them.\n",
    "\n",
    "-  A language is statically typed if the type of a variable must be known at compile time (i.e., the programmer has to specify the type of the variables she declares)."
   ]
  },
  {
   "cell_type": "markdown",
   "metadata": {
    "slideshow": {
     "slide_type": "slide"
    }
   },
   "source": [
    "```Java\n",
    "/* A variable definition in Java.\n",
    "The programmer needs to explicitly inform the compiler \n",
    "about its type (String) at this stage. */\n",
    "String x = new String(\"Hello World!\");\n",
    "```\n",
    "```python\n",
    "# A variable definition in Python.\n",
    "# No information about its type is needed.\n",
    "x = 'Hello World!'\n",
    "# The same name can be rebound to a different type.\n",
    "x = 5\n",
    "```"
   ]
  },
  {
   "cell_type": "code",
   "execution_count": 11,
   "metadata": {
    "slideshow": {
     "slide_type": "slide"
    }
   },
   "outputs": [
    {
     "name": "stdout",
     "output_type": "stream",
     "text": [
      "<class 'str'>\n",
      "<class 'int'>\n"
     ]
    }
   ],
   "source": [
    "# 1. Assign x to a reference to a string object\n",
    "x = 'foo'\n",
    "\n",
    "# 2. Verify the type associated with x\n",
    "print(type(x))\n",
    "\n",
    "# 3. Rebind x to a reference to an integer object\n",
    "x = 5\n",
    "\n",
    "# 4. Verify the (new) type associated with x\n",
    "print(type(x))"
   ]
  },
  {
   "cell_type": "markdown",
   "metadata": {
    "slideshow": {
     "slide_type": "slide"
    }
   },
   "source": [
    "## Dynamic References, Strong Types\n",
    "\n",
    "-  Variables are just names (identifiers) for objects within a particular namespace.\n",
    "\n",
    "-  The type information is stored in the object itself and can be inferred at runtime.\n",
    "\n",
    "-  <span style=\"color: red\"><b>Note:</b></span> You might be tempted to conclude that Python is not a \"typed language\". **This is not true!**\n",
    "\n"
   ]
  },
  {
   "cell_type": "code",
   "execution_count": 12,
   "metadata": {
    "slideshow": {
     "slide_type": "slide"
    }
   },
   "outputs": [
    {
     "ename": "TypeError",
     "evalue": "can only concatenate str (not \"int\") to str",
     "output_type": "error",
     "traceback": [
      "\u001b[0;31m---------------------------------------------------------------------------\u001b[0m",
      "\u001b[0;31mTypeError\u001b[0m                                 Traceback (most recent call last)",
      "\u001b[0;32m/var/folders/pg/ccyl3brd18x3ytjk5l39tgy00000gn/T/ipykernel_5253/3115806093.py\u001b[0m in \u001b[0;36m<module>\u001b[0;34m\u001b[0m\n\u001b[1;32m      1\u001b[0m \u001b[0;31m# Let's see what happens if we try to sum a string and an integer\u001b[0m\u001b[0;34m\u001b[0m\u001b[0;34m\u001b[0m\u001b[0m\n\u001b[0;32m----> 2\u001b[0;31m \u001b[0;34m'7'\u001b[0m \u001b[0;34m+\u001b[0m \u001b[0;36m7\u001b[0m\u001b[0;34m\u001b[0m\u001b[0;34m\u001b[0m\u001b[0m\n\u001b[0m",
      "\u001b[0;31mTypeError\u001b[0m: can only concatenate str (not \"int\") to str"
     ]
    }
   ],
   "source": [
    "# Let's see what happens if we try to sum a string and an integer\n",
    "'7' + 7"
   ]
  },
  {
   "cell_type": "markdown",
   "metadata": {
    "slideshow": {
     "slide_type": "slide"
    }
   },
   "source": [
    "## Dynamic References, Strong Types\n",
    "\n",
    "-  In some languages, such as Visual Basic, the string <code>**'7'**</code> might get implicitly converted (or casted) to an integer, thus yielding <code>**14**</code>. \n",
    "\n",
    "-  Yet in other languages, such as JavaScript, the integer <code>**7**</code> might be casted to a string, yielding the concatenated string <code>**'77'**</code>. \n",
    "\n",
    "-  Python is considered a **strongly-typed** language, which means that every object has a specific type (or *class*), and implicit conversions will occur only in some circumstances."
   ]
  },
  {
   "cell_type": "code",
   "execution_count": 20,
   "metadata": {
    "slideshow": {
     "slide_type": "slide"
    }
   },
   "outputs": [
    {
     "data": {
      "text/plain": [
       "True"
      ]
     },
     "execution_count": 20,
     "metadata": {},
     "output_type": "execute_result"
    }
   ],
   "source": [
    "# Use the isinstance() method to check the type associated with an object.\n",
    "x = 7\n",
    "\n",
    "# The method takes as input a tuple of types to test against of.\n",
    "# It returns true if there exists at least one type in the tuple \n",
    "# which corresponds to the correct type.\n",
    "isinstance(x, (int, str))          # <------ returns true because x is either a int or a str\n"
   ]
  },
  {
   "cell_type": "markdown",
   "metadata": {
    "slideshow": {
     "slide_type": "slide"
    }
   },
   "source": [
    "# Structuring Your Python Code"
   ]
  },
  {
   "cell_type": "markdown",
   "metadata": {
    "slideshow": {
     "slide_type": "slide"
    }
   },
   "source": [
    "## Importing Modules\n",
    "\n",
    "-  In Python a **_module_** is simply a <code>**.py**</code> file containing function and variable definitions along with such things imported from other <code>**.py**</code> files."
   ]
  },
  {
   "cell_type": "code",
   "execution_count": null,
   "metadata": {
    "slideshow": {
     "slide_type": "slide"
    }
   },
   "outputs": [],
   "source": [
    "# Consider the following code snippet is contained in a file named 'my_module.py'\n",
    "# Define a constant\n",
    "PI = 3.14159\n",
    "\n",
    "# Define function foo\n",
    "def foo(x):\n",
    "    return x * 2\n",
    "\n",
    "# Define function bar\n",
    "def bar(a, b):\n",
    "    return a - b"
   ]
  },
  {
   "cell_type": "code",
   "execution_count": 21,
   "metadata": {
    "slideshow": {
     "slide_type": "slide"
    }
   },
   "outputs": [
    {
     "ename": "ModuleNotFoundError",
     "evalue": "No module named 'my_module'",
     "output_type": "error",
     "traceback": [
      "\u001b[0;31m---------------------------------------------------------------------------\u001b[0m",
      "\u001b[0;31mModuleNotFoundError\u001b[0m                       Traceback (most recent call last)",
      "\u001b[0;32m/var/folders/pg/ccyl3brd18x3ytjk5l39tgy00000gn/T/ipykernel_5253/1674157870.py\u001b[0m in \u001b[0;36m<module>\u001b[0;34m\u001b[0m\n\u001b[1;32m      3\u001b[0m \u001b[0;34m\u001b[0m\u001b[0m\n\u001b[1;32m      4\u001b[0m \u001b[0;31m#Beware of being in the same directory\u001b[0m\u001b[0;34m\u001b[0m\u001b[0;34m\u001b[0m\u001b[0m\n\u001b[0;32m----> 5\u001b[0;31m \u001b[0;32mimport\u001b[0m \u001b[0mmy_module\u001b[0m\u001b[0;34m\u001b[0m\u001b[0;34m\u001b[0m\u001b[0m\n\u001b[0m\u001b[1;32m      6\u001b[0m \u001b[0mresult\u001b[0m \u001b[0;34m=\u001b[0m \u001b[0mmy_module\u001b[0m\u001b[0;34m.\u001b[0m\u001b[0mfoo\u001b[0m\u001b[0;34m(\u001b[0m\u001b[0;36m5\u001b[0m\u001b[0;34m)\u001b[0m\u001b[0;34m\u001b[0m\u001b[0;34m\u001b[0m\u001b[0m\n\u001b[1;32m      7\u001b[0m \u001b[0mpi\u001b[0m \u001b[0;34m=\u001b[0m \u001b[0mmy_module\u001b[0m\u001b[0;34m.\u001b[0m\u001b[0mPI\u001b[0m\u001b[0;34m\u001b[0m\u001b[0;34m\u001b[0m\u001b[0m\n",
      "\u001b[0;31mModuleNotFoundError\u001b[0m: No module named 'my_module'"
     ]
    }
   ],
   "source": [
    "# If we want to access the variables and functions defined in 'my_module.py'\n",
    "# from another file in the SAME directory we could do as follows\n",
    "\n",
    "#Beware of being in the same directory \n",
    "import my_module\n",
    "result = my_module.foo(5)\n",
    "pi = my_module.PI\n",
    "\n",
    "# Or, equivalently                   #<---- same as the above\n",
    "from my_module import foo, bar, PI\n",
    "result = bar(42, PI)\n",
    "\n",
    "# Finally, using the 'as' keyword you can give imports different variable names\n",
    "\n",
    "import my_module as mm\n",
    "from my_module import PI as pi, bar as g\n",
    "\n",
    "x = mm.foo(pi)\n",
    "y = g(6, pi)"
   ]
  },
  {
   "cell_type": "markdown",
   "metadata": {
    "slideshow": {
     "slide_type": "slide"
    }
   },
   "source": [
    "## Module Search Path\n",
    "\n",
    "-  In the example above, we show how a Python module called <code>**my_module**</code> can be imported to another Python file in the **same** directory.\n",
    "\n",
    "-  When <code>**my_module**</code> is imported (from another Python file) the interpreter searches for it as follows:\n",
    "    1.  First, it searches for a built-in module with that name (<code>**my_module**</code>)\n",
    "    2.  If no standard module is found, it then searches for a file named <code>**my_module.py**</code> in a list of directories given by the variable <code>**sys.path**</code>."
   ]
  },
  {
   "cell_type": "markdown",
   "metadata": {
    "slideshow": {
     "slide_type": "slide"
    }
   },
   "source": [
    "## Module Search Path: <code>sys.path</code>\n",
    "\n",
    "-  <code>**sys.path**</code> is initialized from these locations:\n",
    "    -  The directory containing the input script (or the current directory when no file is specified);\n",
    "    -  <code>**PYTHONPATH**</code> environment variable (i.e., a list of directory names, with the same syntax as the shell variable <code>**PATH**</code>);\n",
    "    -  The installation-dependent default.\n",
    "-  More information on Python modules can be found [here](https://docs.python.org/3/tutorial/modules.html)."
   ]
  },
  {
   "cell_type": "markdown",
   "metadata": {
    "slideshow": {
     "slide_type": "slide"
    }
   },
   "source": [
    "# Summary\n",
    "\n",
    "-  Python language basic syntax:\n",
    "    -  indentation rather than braces!\n",
    "-  Object model:\n",
    "    -  variables as *references* to object\n",
    "    -  dynamic binding/typing\n",
    "    -  strongly-typed\n",
    "-  Python modules"
   ]
  },
  {
   "cell_type": "markdown",
   "metadata": {},
   "source": [
    "## Completed on Mon 9th October 2023\n",
    "### Last Revision : 9th October 2023\n"
   ]
  },
  {
   "cell_type": "code",
   "execution_count": null,
   "metadata": {},
   "outputs": [],
   "source": []
  }
 ],
 "metadata": {
  "kernelspec": {
   "display_name": "Python 3 (ipykernel)",
   "language": "python",
   "name": "python3"
  },
  "language_info": {
   "codemirror_mode": {
    "name": "ipython",
    "version": 3
   },
   "file_extension": ".py",
   "mimetype": "text/x-python",
   "name": "python",
   "nbconvert_exporter": "python",
   "pygments_lexer": "ipython3",
   "version": "3.9.7"
  }
 },
 "nbformat": 4,
 "nbformat_minor": 4
}
