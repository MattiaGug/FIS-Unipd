{
 "cells": [
  {
   "cell_type": "code",
   "execution_count": 1,
   "id": "e54f6d0c",
   "metadata": {},
   "outputs": [],
   "source": [
    "x = 'a string'\n",
    "y = \"a string\""
   ]
  },
  {
   "cell_type": "code",
   "execution_count": 2,
   "id": "6d11c131",
   "metadata": {},
   "outputs": [
    {
     "data": {
      "text/plain": [
       "'a string'"
      ]
     },
     "execution_count": 2,
     "metadata": {},
     "output_type": "execute_result"
    }
   ],
   "source": [
    "x"
   ]
  },
  {
   "cell_type": "code",
   "execution_count": 3,
   "id": "f116a5c9",
   "metadata": {},
   "outputs": [
    {
     "data": {
      "text/plain": [
       "'a string'"
      ]
     },
     "execution_count": 3,
     "metadata": {},
     "output_type": "execute_result"
    }
   ],
   "source": [
    "y"
   ]
  },
  {
   "cell_type": "code",
   "execution_count": 4,
   "id": "27e437ee",
   "metadata": {},
   "outputs": [
    {
     "data": {
      "text/plain": [
       "True"
      ]
     },
     "execution_count": 4,
     "metadata": {},
     "output_type": "execute_result"
    }
   ],
   "source": [
    "x == y"
   ]
  },
  {
   "cell_type": "code",
   "execution_count": 6,
   "id": "04fb3d08",
   "metadata": {},
   "outputs": [],
   "source": [
    "multiline = \"\"\"\n",
    "one\n",
    "two\n",
    "three\n",
    "\"\"\""
   ]
  },
  {
   "cell_type": "code",
   "execution_count": 7,
   "id": "79b5db30",
   "metadata": {},
   "outputs": [
    {
     "data": {
      "text/plain": [
       "'\\none\\ntwo\\nthree\\n'"
      ]
     },
     "execution_count": 7,
     "metadata": {},
     "output_type": "execute_result"
    }
   ],
   "source": [
    "multiline"
   ]
  },
  {
   "cell_type": "code",
   "execution_count": 8,
   "id": "7f5d4650",
   "metadata": {},
   "outputs": [],
   "source": [
    "fox = \"tHe qUICk bROWn fOx.\""
   ]
  },
  {
   "cell_type": "code",
   "execution_count": 9,
   "id": "3360d4fd",
   "metadata": {},
   "outputs": [
    {
     "data": {
      "text/plain": [
       "'tHe qUICk bROWn fOx.'"
      ]
     },
     "execution_count": 9,
     "metadata": {},
     "output_type": "execute_result"
    }
   ],
   "source": [
    "fox"
   ]
  },
  {
   "cell_type": "code",
   "execution_count": 10,
   "id": "495ee218",
   "metadata": {},
   "outputs": [
    {
     "data": {
      "text/plain": [
       "'THE QUICK BROWN FOX.'"
      ]
     },
     "execution_count": 10,
     "metadata": {},
     "output_type": "execute_result"
    }
   ],
   "source": [
    "fox.upper()"
   ]
  },
  {
   "cell_type": "code",
   "execution_count": 11,
   "id": "afdfc890",
   "metadata": {},
   "outputs": [
    {
     "data": {
      "text/plain": [
       "'the quick brown fox.'"
      ]
     },
     "execution_count": 11,
     "metadata": {},
     "output_type": "execute_result"
    }
   ],
   "source": [
    "fox.lower()"
   ]
  },
  {
   "cell_type": "code",
   "execution_count": 12,
   "id": "16e868f9",
   "metadata": {},
   "outputs": [
    {
     "data": {
      "text/plain": [
       "'The Quick Brown Fox.'"
      ]
     },
     "execution_count": 12,
     "metadata": {},
     "output_type": "execute_result"
    }
   ],
   "source": [
    "fox.title()"
   ]
  },
  {
   "cell_type": "code",
   "execution_count": 13,
   "id": "b3866036",
   "metadata": {},
   "outputs": [
    {
     "data": {
      "text/plain": [
       "'The quick brown fox.'"
      ]
     },
     "execution_count": 13,
     "metadata": {},
     "output_type": "execute_result"
    }
   ],
   "source": [
    "fox.capitalize()"
   ]
  },
  {
   "cell_type": "code",
   "execution_count": 14,
   "id": "b1d288f3",
   "metadata": {},
   "outputs": [
    {
     "data": {
      "text/plain": [
       "'ThE QuicK BrowN FoX.'"
      ]
     },
     "execution_count": 14,
     "metadata": {},
     "output_type": "execute_result"
    }
   ],
   "source": [
    "fox.swapcase()"
   ]
  },
  {
   "cell_type": "code",
   "execution_count": 15,
   "id": "b3dd5db1",
   "metadata": {},
   "outputs": [],
   "source": [
    "line = '      this    is the  content         '"
   ]
  },
  {
   "cell_type": "code",
   "execution_count": 16,
   "id": "800d58c3",
   "metadata": {},
   "outputs": [
    {
     "data": {
      "text/plain": [
       "'this    is the  content'"
      ]
     },
     "execution_count": 16,
     "metadata": {},
     "output_type": "execute_result"
    }
   ],
   "source": [
    "line.strip()"
   ]
  },
  {
   "cell_type": "code",
   "execution_count": 17,
   "id": "1852d981",
   "metadata": {},
   "outputs": [],
   "source": [
    "x = \"write something \"\n",
    "y = \"write something\""
   ]
  },
  {
   "cell_type": "code",
   "execution_count": 18,
   "id": "79cec921",
   "metadata": {},
   "outputs": [
    {
     "data": {
      "text/plain": [
       "False"
      ]
     },
     "execution_count": 18,
     "metadata": {},
     "output_type": "execute_result"
    }
   ],
   "source": [
    "x == y"
   ]
  },
  {
   "cell_type": "code",
   "execution_count": 19,
   "id": "46bcba74",
   "metadata": {},
   "outputs": [
    {
     "data": {
      "text/plain": [
       "'write something '"
      ]
     },
     "execution_count": 19,
     "metadata": {},
     "output_type": "execute_result"
    }
   ],
   "source": [
    "x"
   ]
  },
  {
   "cell_type": "code",
   "execution_count": 20,
   "id": "3e2bf12d",
   "metadata": {},
   "outputs": [
    {
     "data": {
      "text/plain": [
       "'write something'"
      ]
     },
     "execution_count": 20,
     "metadata": {},
     "output_type": "execute_result"
    }
   ],
   "source": [
    "y"
   ]
  },
  {
   "cell_type": "code",
   "execution_count": 21,
   "id": "f1cb5a5f",
   "metadata": {},
   "outputs": [
    {
     "data": {
      "text/plain": [
       "'this    is the  content'"
      ]
     },
     "execution_count": 21,
     "metadata": {},
     "output_type": "execute_result"
    }
   ],
   "source": [
    "line.strip()"
   ]
  },
  {
   "cell_type": "code",
   "execution_count": 26,
   "id": "ee7af4e8",
   "metadata": {},
   "outputs": [
    {
     "data": {
      "text/plain": [
       "'write something '"
      ]
     },
     "execution_count": 26,
     "metadata": {},
     "output_type": "execute_result"
    }
   ],
   "source": [
    "x.strip(\"g\")"
   ]
  },
  {
   "cell_type": "code",
   "execution_count": 28,
   "id": "a415cb70",
   "metadata": {},
   "outputs": [
    {
     "data": {
      "text/plain": [
       "'write somethin'"
      ]
     },
     "execution_count": 28,
     "metadata": {},
     "output_type": "execute_result"
    }
   ],
   "source": [
    "y.strip(\"g\")"
   ]
  },
  {
   "cell_type": "code",
   "execution_count": 29,
   "id": "59857428",
   "metadata": {},
   "outputs": [],
   "source": [
    "line = 'the quick brown fox jumped over a lazy dog'"
   ]
  },
  {
   "cell_type": "code",
   "execution_count": 38,
   "id": "d12767f1",
   "metadata": {},
   "outputs": [
    {
     "data": {
      "text/plain": [
       "-1"
      ]
     },
     "execution_count": 38,
     "metadata": {},
     "output_type": "execute_result"
    }
   ],
   "source": [
    "line.find('foxes')"
   ]
  },
  {
   "cell_type": "code",
   "execution_count": 39,
   "id": "6e084cef",
   "metadata": {},
   "outputs": [
    {
     "data": {
      "text/plain": [
       "True"
      ]
     },
     "execution_count": 39,
     "metadata": {},
     "output_type": "execute_result"
    }
   ],
   "source": [
    "line.endswith('dog')"
   ]
  },
  {
   "cell_type": "code",
   "execution_count": 41,
   "id": "b9bfe161",
   "metadata": {},
   "outputs": [
    {
     "data": {
      "text/plain": [
       "True"
      ]
     },
     "execution_count": 41,
     "metadata": {},
     "output_type": "execute_result"
    }
   ],
   "source": [
    "line.startswith('the')"
   ]
  },
  {
   "cell_type": "code",
   "execution_count": 42,
   "id": "c81b3f6f",
   "metadata": {},
   "outputs": [
    {
     "data": {
      "text/plain": [
       "'the quick black fox jumped over a lazy dog'"
      ]
     },
     "execution_count": 42,
     "metadata": {},
     "output_type": "execute_result"
    }
   ],
   "source": [
    "line.replace(\"brown\", \"black\")"
   ]
  },
  {
   "cell_type": "code",
   "execution_count": 43,
   "id": "fa24f116",
   "metadata": {},
   "outputs": [],
   "source": [
    "line = 'the quick brown fox jumped over a lazy dog, the lazy dog is scared'"
   ]
  },
  {
   "cell_type": "code",
   "execution_count": 44,
   "id": "91b21048",
   "metadata": {},
   "outputs": [
    {
     "data": {
      "text/plain": [
       "'the quick brown fox jumped over a lazy cat, the lazy cat is scared'"
      ]
     },
     "execution_count": 44,
     "metadata": {},
     "output_type": "execute_result"
    }
   ],
   "source": [
    "line.replace(\"dog\", \"cat\")"
   ]
  },
  {
   "cell_type": "code",
   "execution_count": 52,
   "id": "04c66464",
   "metadata": {},
   "outputs": [
    {
     "data": {
      "text/plain": [
       "'the quick brown fox jumped over a lazy dog, the lazy dog is scared'"
      ]
     },
     "execution_count": 52,
     "metadata": {},
     "output_type": "execute_result"
    }
   ],
   "source": [
    "line.replace(\"dogs\", \"cat\", 3)"
   ]
  },
  {
   "cell_type": "code",
   "execution_count": null,
   "id": "0423ae07",
   "metadata": {},
   "outputs": [],
   "source": []
  },
  {
   "cell_type": "code",
   "execution_count": null,
   "id": "13ce08a3",
   "metadata": {},
   "outputs": [],
   "source": []
  },
  {
   "cell_type": "code",
   "execution_count": 53,
   "id": "fb0a3c7c",
   "metadata": {},
   "outputs": [
    {
     "data": {
      "text/plain": [
       "'the quick brown fox jumped over a lazy dog, the lazy dog is scared'"
      ]
     },
     "execution_count": 53,
     "metadata": {},
     "output_type": "execute_result"
    }
   ],
   "source": [
    "line"
   ]
  },
  {
   "cell_type": "code",
   "execution_count": null,
   "id": "abde3f57",
   "metadata": {},
   "outputs": [],
   "source": []
  },
  {
   "cell_type": "code",
   "execution_count": 59,
   "id": "1c182921",
   "metadata": {},
   "outputs": [],
   "source": [
    "parts = line.partition('fox2')"
   ]
  },
  {
   "cell_type": "code",
   "execution_count": 61,
   "id": "4ccdd550",
   "metadata": {},
   "outputs": [
    {
     "data": {
      "text/plain": [
       "('the quick brown fox jumped over a lazy dog, the lazy dog is scared', '', '')"
      ]
     },
     "execution_count": 61,
     "metadata": {},
     "output_type": "execute_result"
    }
   ],
   "source": [
    "parts"
   ]
  },
  {
   "cell_type": "code",
   "execution_count": 62,
   "id": "85e441b4",
   "metadata": {},
   "outputs": [
    {
     "data": {
      "text/plain": [
       "['the',\n",
       " 'quick',\n",
       " 'brown',\n",
       " 'fox',\n",
       " 'jumped',\n",
       " 'over',\n",
       " 'a',\n",
       " 'lazy',\n",
       " 'dog,',\n",
       " 'the',\n",
       " 'lazy',\n",
       " 'dog',\n",
       " 'is',\n",
       " 'scared']"
      ]
     },
     "execution_count": 62,
     "metadata": {},
     "output_type": "execute_result"
    }
   ],
   "source": [
    "line.split()"
   ]
  },
  {
   "cell_type": "code",
   "execution_count": 64,
   "id": "d892ce90",
   "metadata": {},
   "outputs": [
    {
     "data": {
      "text/plain": [
       "['the',\n",
       " 'quick',\n",
       " 'brown',\n",
       " 'fox',\n",
       " 'jumped over a lazy dog, the lazy dog is scared']"
      ]
     },
     "execution_count": 64,
     "metadata": {},
     "output_type": "execute_result"
    }
   ],
   "source": [
    "line.split(maxsplit = 4)"
   ]
  },
  {
   "cell_type": "code",
   "execution_count": 65,
   "id": "9e77df7e",
   "metadata": {},
   "outputs": [],
   "source": [
    "haiku = \"\"\"matsushima-ya\n",
    "aah matsushima-ya\n",
    "matsushima-ya\"\"\""
   ]
  },
  {
   "cell_type": "code",
   "execution_count": 66,
   "id": "169a6efc",
   "metadata": {},
   "outputs": [
    {
     "data": {
      "text/plain": [
       "'matsushima-ya\\naah matsushima-ya\\nmatsushima-ya'"
      ]
     },
     "execution_count": 66,
     "metadata": {},
     "output_type": "execute_result"
    }
   ],
   "source": [
    "haiku"
   ]
  },
  {
   "cell_type": "code",
   "execution_count": 68,
   "id": "f3ef5a9f",
   "metadata": {},
   "outputs": [
    {
     "data": {
      "text/plain": [
       "['matsushima-ya', 'aah matsushima-ya', 'matsushima-ya']"
      ]
     },
     "execution_count": 68,
     "metadata": {},
     "output_type": "execute_result"
    }
   ],
   "source": [
    "haiku.splitlines()"
   ]
  },
  {
   "cell_type": "code",
   "execution_count": 70,
   "id": "aea1f8f4",
   "metadata": {},
   "outputs": [
    {
     "data": {
      "text/plain": [
       "['matsushima-ya', 'aah matsushima-ya', 'matsushima-ya']"
      ]
     },
     "execution_count": 70,
     "metadata": {},
     "output_type": "execute_result"
    }
   ],
   "source": [
    "haiku.split(\"\\n\")"
   ]
  },
  {
   "cell_type": "code",
   "execution_count": null,
   "id": "86dd7edd",
   "metadata": {},
   "outputs": [],
   "source": []
  },
  {
   "cell_type": "code",
   "execution_count": null,
   "id": "593f26e8",
   "metadata": {},
   "outputs": [],
   "source": []
  },
  {
   "cell_type": "code",
   "execution_count": null,
   "id": "ba2cfced",
   "metadata": {},
   "outputs": [],
   "source": []
  },
  {
   "cell_type": "code",
   "execution_count": 71,
   "id": "4cbb2842",
   "metadata": {},
   "outputs": [],
   "source": [
    "import re"
   ]
  },
  {
   "cell_type": "code",
   "execution_count": 72,
   "id": "5328c09c",
   "metadata": {},
   "outputs": [],
   "source": [
    "txt = \"The rain in Spain\"\n"
   ]
  },
  {
   "cell_type": "code",
   "execution_count": 73,
   "id": "c4419286",
   "metadata": {},
   "outputs": [],
   "source": [
    "x = re.search(\"^The.*Spain$\", txt)"
   ]
  },
  {
   "cell_type": "code",
   "execution_count": 74,
   "id": "2a55fb69",
   "metadata": {},
   "outputs": [
    {
     "data": {
      "text/plain": [
       "<re.Match object; span=(0, 17), match='The rain in Spain'>"
      ]
     },
     "execution_count": 74,
     "metadata": {},
     "output_type": "execute_result"
    }
   ],
   "source": [
    "x"
   ]
  },
  {
   "cell_type": "code",
   "execution_count": 75,
   "id": "87fd26bd",
   "metadata": {},
   "outputs": [
    {
     "data": {
      "text/plain": [
       "<re.Match object; span=(4, 8), match='rain'>"
      ]
     },
     "execution_count": 75,
     "metadata": {},
     "output_type": "execute_result"
    }
   ],
   "source": [
    "re.search(\"rain\", txt)"
   ]
  },
  {
   "cell_type": "code",
   "execution_count": 81,
   "id": "f3f810e5",
   "metadata": {},
   "outputs": [
    {
     "data": {
      "text/plain": [
       "<re.Match object; span=(13, 17), match='pain'>"
      ]
     },
     "execution_count": 81,
     "metadata": {},
     "output_type": "execute_result"
    }
   ],
   "source": [
    "re.search(\"pain$\", txt)"
   ]
  },
  {
   "cell_type": "code",
   "execution_count": 83,
   "id": "695dbabb",
   "metadata": {},
   "outputs": [
    {
     "data": {
      "text/plain": [
       "<re.Match object; span=(13, 17), match='pain'>"
      ]
     },
     "execution_count": 83,
     "metadata": {},
     "output_type": "execute_result"
    }
   ],
   "source": [
    "re.search(\".a.n$\", txt)"
   ]
  },
  {
   "cell_type": "code",
   "execution_count": 84,
   "id": "35f26e8d",
   "metadata": {},
   "outputs": [
    {
     "data": {
      "text/plain": [
       "<re.Match object; span=(0, 17), match='The rain in Spain'>"
      ]
     },
     "execution_count": 84,
     "metadata": {},
     "output_type": "execute_result"
    }
   ],
   "source": [
    "re.search(\".*\", txt)"
   ]
  },
  {
   "cell_type": "code",
   "execution_count": 86,
   "id": "34df969b",
   "metadata": {},
   "outputs": [],
   "source": [
    "re.search(\".*spain\", txt)"
   ]
  },
  {
   "cell_type": "code",
   "execution_count": 87,
   "id": "0de834ea",
   "metadata": {},
   "outputs": [
    {
     "data": {
      "text/plain": [
       "<re.Match object; span=(0, 17), match='The rain in Spain'>"
      ]
     },
     "execution_count": 87,
     "metadata": {},
     "output_type": "execute_result"
    }
   ],
   "source": [
    "re.search(\".*pain\", txt)"
   ]
  },
  {
   "cell_type": "code",
   "execution_count": 89,
   "id": "d59e99d1",
   "metadata": {},
   "outputs": [
    {
     "data": {
      "text/plain": [
       "<re.Match object; span=(0, 11), match='The rain in'>"
      ]
     },
     "execution_count": 89,
     "metadata": {},
     "output_type": "execute_result"
    }
   ],
   "source": [
    "re.search(\".* in\", txt)"
   ]
  },
  {
   "cell_type": "code",
   "execution_count": 91,
   "id": "28a1d075",
   "metadata": {},
   "outputs": [
    {
     "data": {
      "text/plain": [
       "<re.Match object; span=(5, 8), match='ain'>"
      ]
     },
     "execution_count": 91,
     "metadata": {},
     "output_type": "execute_result"
    }
   ],
   "source": [
    "re.search(\"[a-m]in\", txt)"
   ]
  },
  {
   "cell_type": "code",
   "execution_count": 93,
   "id": "68e6183a",
   "metadata": {},
   "outputs": [
    {
     "data": {
      "text/plain": [
       "['ain', 'ain']"
      ]
     },
     "execution_count": 93,
     "metadata": {},
     "output_type": "execute_result"
    }
   ],
   "source": [
    "re.findall(\"[a-m]in\", txt)"
   ]
  },
  {
   "cell_type": "code",
   "execution_count": 94,
   "id": "58bc88e1",
   "metadata": {},
   "outputs": [
    {
     "data": {
      "text/plain": [
       "['ra', 'pa']"
      ]
     },
     "execution_count": 94,
     "metadata": {},
     "output_type": "execute_result"
    }
   ],
   "source": [
    "re.findall(\".a\", txt)"
   ]
  },
  {
   "cell_type": "code",
   "execution_count": 95,
   "id": "1b2e9a21",
   "metadata": {},
   "outputs": [
    {
     "data": {
      "text/plain": [
       "'The rain in Spain'"
      ]
     },
     "execution_count": 95,
     "metadata": {},
     "output_type": "execute_result"
    }
   ],
   "source": [
    "txt"
   ]
  },
  {
   "cell_type": "code",
   "execution_count": 97,
   "id": "bca7d026",
   "metadata": {},
   "outputs": [],
   "source": [
    "line = '      this    is the  content         '"
   ]
  },
  {
   "cell_type": "code",
   "execution_count": 98,
   "id": "851c4763",
   "metadata": {},
   "outputs": [
    {
     "data": {
      "text/plain": [
       "'this    is the  content'"
      ]
     },
     "execution_count": 98,
     "metadata": {},
     "output_type": "execute_result"
    }
   ],
   "source": [
    "line.strip()"
   ]
  },
  {
   "cell_type": "code",
   "execution_count": 103,
   "id": "e8d2c021",
   "metadata": {},
   "outputs": [
    {
     "data": {
      "text/plain": [
       "' this is the content '"
      ]
     },
     "execution_count": 103,
     "metadata": {},
     "output_type": "execute_result"
    }
   ],
   "source": [
    "re.sub(\" +\", \" \", line)"
   ]
  },
  {
   "cell_type": "code",
   "execution_count": 106,
   "id": "b1778b83",
   "metadata": {},
   "outputs": [
    {
     "data": {
      "text/plain": [
       "'this    is the  content'"
      ]
     },
     "execution_count": 106,
     "metadata": {},
     "output_type": "execute_result"
    }
   ],
   "source": [
    "re.sub(\"^ +| +$\", \"\", line)"
   ]
  },
  {
   "cell_type": "code",
   "execution_count": null,
   "id": "c1d0efa4",
   "metadata": {},
   "outputs": [],
   "source": []
  }
 ],
 "metadata": {
  "kernelspec": {
   "display_name": "Python 3 (ipykernel)",
   "language": "python",
   "name": "python3"
  },
  "language_info": {
   "codemirror_mode": {
    "name": "ipython",
    "version": 3
   },
   "file_extension": ".py",
   "mimetype": "text/x-python",
   "name": "python",
   "nbconvert_exporter": "python",
   "pygments_lexer": "ipython3",
   "version": "3.9.7"
  }
 },
 "nbformat": 4,
 "nbformat_minor": 5
}
