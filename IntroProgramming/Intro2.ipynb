{
 "cells": [
  {
   "cell_type": "markdown",
   "metadata": {
    "id": "PPFdzgMCUQW7"
   },
   "source": [
    "# <font color='#e76f51'>Functions</font>"
   ]
  },
  {
   "cell_type": "markdown",
   "metadata": {
    "id": "TTWfnJ9GUW8R"
   },
   "source": [
    "Functions are a **set of instructions grouped which may be called together**, that produce a given output or action. They are **identified with a name and set of inputs**. Functions are particularly useful when we have to execute the same code multiple times on different inputs.\n",
    "\n",
    "As we have seen, Python provides many built-in functions, that is, functions that are already defined by the language. The most common example is the `print` function:\n",
    "\n",
    "* The `print` function is used to **print the value of a variable on the screen** at a certain point during the execution of the program.\n",
    "* It takes as **input** a variable to be printed and **visualises its value** on the screen.\n",
    "\n",
    "As we have seen, the to execute the print function on an object, we need to **call** (execute) the print function using the syntax `print(object)`."
   ]
  },
  {
   "cell_type": "markdown",
   "metadata": {
    "id": "r4RcawbpVOxm"
   },
   "source": [
    "## <font color='#e76f51'>Defining a function</font>"
   ]
  },
  {
   "cell_type": "markdown",
   "metadata": {
    "id": "cZUdBdacVeSO"
   },
   "source": [
    "Users can define custom function. Each function contains one or more lines of code, **that are only accessible by the function itself** - that is, the code inside the function (which may create new variables, do operations, call other functions, etc) is only executed during when calling a function.\n",
    "\n",
    "* The keyword `def` introduces a **function definition** that is used to define new functions implemented by the user.\n",
    "* It must be followed by the **function name**, **its arguments** within parentheses and a colon (`:`).\n",
    "* The commands inside the function need to be **written displaced towards the right** by a fixed shift, called **indentation**.\n",
    "\n",
    "For example, this code defined a function that takes as input a variable `x` and prints the value of `x` squared:\n",
    "\n",
    "```python\n",
    "def square(x):\n",
    "    y = x**2\n",
    "    print(y)\n",
    "```\n",
    "\n",
    "Notice that the function definition only **defines the function**. It does not execute it. To execute the function, we need to **call** it using the function name and the input arguments:\n",
    "\n",
    "```python\n",
    "def square(x):\n",
    "    y = x**2\n",
    "    print(y)\n",
    "\n",
    "square(2)\n",
    "```\n",
    "\n",
    "This code will define the function `square` and then execute it with input argument `x=2`. The function will print the value of the variable defined as `y = x**2`, that is, `4`. Notice that the variable `y` is only defined inside the function, and it is not accessible outside the function. If we try to print the value of `y` outside the function, we will get an error telling us that the variable is not defined."
   ]
  },
  {
   "cell_type": "code",
   "execution_count": null,
   "metadata": {
    "colab": {
     "base_uri": "https://localhost:8080/",
     "height": 232
    },
    "id": "YpR3dVwMVeSO",
    "outputId": "0acab466-b46b-4729-d691-14f8712c05c3"
   },
   "outputs": [
    {
     "name": "stdout",
     "output_type": "stream",
     "text": [
      "4\n"
     ]
    },
    {
     "ename": "NameError",
     "evalue": "ignored",
     "output_type": "error",
     "traceback": [
      "\u001b[0;31m---------------------------------------------------------------------------\u001b[0m",
      "\u001b[0;31mNameError\u001b[0m                                 Traceback (most recent call last)",
      "\u001b[0;32m<ipython-input-1-dd727a523204>\u001b[0m in \u001b[0;36m<cell line: 6>\u001b[0;34m()\u001b[0m\n\u001b[1;32m      4\u001b[0m \u001b[0;34m\u001b[0m\u001b[0m\n\u001b[1;32m      5\u001b[0m \u001b[0msquare\u001b[0m\u001b[0;34m(\u001b[0m\u001b[0;36m2\u001b[0m\u001b[0;34m)\u001b[0m\u001b[0;34m\u001b[0m\u001b[0;34m\u001b[0m\u001b[0m\n\u001b[0;32m----> 6\u001b[0;31m \u001b[0mprint\u001b[0m\u001b[0;34m(\u001b[0m\u001b[0my\u001b[0m\u001b[0;34m)\u001b[0m\u001b[0;34m\u001b[0m\u001b[0;34m\u001b[0m\u001b[0m\n\u001b[0m",
      "\u001b[0;31mNameError\u001b[0m: name 'y' is not defined"
     ]
    }
   ],
   "source": [
    "def square(x):\n",
    "    y = x**2\n",
    "    print(y)\n",
    "\n",
    "square(2)\n",
    "print(y)"
   ]
  },
  {
   "cell_type": "markdown",
   "metadata": {
    "id": "g6cKFjCVVeSQ"
   },
   "source": [
    "We say that the variable `y` is created inside the **scope** of the function. A scope is a set of instruction that are only accessible within a certain part of the code. The **indentation** is used to define the scope; all the code that is indented is part of the scope of the function. Indentation is usually done with the TAB key.\n",
    "\n",
    "In order to be able to use variables defined inside a function, we need to tell the function to **return** them. The `return` keyword is used to return a value from a function. For example, the following function returns the value of `y`:\n",
    "\n",
    "```python\n",
    "def square(x):\n",
    "    y = x**2\n",
    "    return y\n",
    "```\n",
    "\n",
    "As before, the function is only defined, but not executed. To execute it, we need to call it and assign the returned value to a variable:\n",
    "\n",
    "```python\n",
    "def square(x):\n",
    "    y = x**2\n",
    "    return y\n",
    "\n",
    "z = square(2)\n",
    "print(z)\n",
    "```\n",
    "\n",
    "This code will define the function `square` and then execute it with input argument `x=2`. The function will return the value of the variable defined as `y = x**2`, that is, `4`. The returned value is then assigned to the variable `z`, which is then printed on the screen. Notice that, as before, the variable `y` is only defined inside the function, and it is not accessible outside the function, but the returned value is.\n",
    "\n",
    "Overall, the steps to define a functions are the following:\n",
    "* The keyword `def` introduces a **function definition** that is used to define new functions implemented by the user.\n",
    "* It must be followed by the **function name**, **its arguments** within parentheses and a colon (`:`).\n",
    "* The commands inside the function need to be **written displaced towards the right** by a fixed shift.\n",
    "  * This operation, called **indentation**, is the way chosen in Python programming to define the **scope**. Indentation is usually done with the TAB key.\n",
    "* The function may or may not **return something** where it has been called. When a function returns an object, it will make the object available outside the function. **All the objects that are created within the function and that are not returned are only available outside the function**, that is, they cannot be accessed outside the function scope.\n",
    "* In case a function returns something, it may return **a single object or a sequence of them**. The sequence of returned objects is a *tuple*.\n",
    "\n",
    "Notice that, if a function does not return anything, it will return a special object called `None`. This object is a special object that represents the absence of a value. It is not the same as the number zero, or the empty string `''`, or the empty list `[]`.\n"
   ]
  },
  {
   "cell_type": "markdown",
   "metadata": {
    "id": "LWmKNtLFVLGo"
   },
   "source": [
    "### <font color='#e9c46a'>Exercises</font>"
   ]
  },
  {
   "cell_type": "markdown",
   "metadata": {
    "id": "GU7Y9-n1VeSQ"
   },
   "source": [
    "**Exercise 2-1**\n",
    "\n",
    "Write a Python script where you define a function that takes as input a number and returns the cube of that number. Then, call the function with input argument `x=3` and assign the returned value to a variable `y`. Finally, print the value of `y`."
   ]
  },
  {
   "cell_type": "code",
   "execution_count": 2,
   "metadata": {},
   "outputs": [
    {
     "name": "stdout",
     "output_type": "stream",
     "text": [
      "27\n"
     ]
    }
   ],
   "source": [
    "def cube(x):\n",
    "    n = x**3\n",
    "    return n\n",
    "\n",
    "y = cube(3)\n",
    "print(y)\n",
    "    \n",
    "\n"
   ]
  },
  {
   "cell_type": "markdown",
   "metadata": {
    "id": "1WQyQKKbVeSQ"
   },
   "source": [
    "**Exercise 2-2**\n",
    "\n",
    "What does the following code do? What is the output of the code? What is the value of the variable `z`?\n",
    "    \n",
    "```python\n",
    "def my_function(x):\n",
    "    print(x)\n",
    "    y = x + 2\n",
    "    return y\n",
    "\n",
    "z = my_function(3)\n",
    "```\n"
   ]
  },
  {
   "cell_type": "markdown",
   "metadata": {
    "id": "UQkL-FPdVeSQ"
   },
   "source": [
    "**Exercise 2-3**\n",
    "\n",
    "Write a Python script where you define a function that takes as input a number, prints the string `the number is:` and the input number, and returns the square root of that number. Then, call the function with input argument `x=4` and assign the returned value to a variable `y`. Finally, print the value of `y`. (Recall that the square root of a number `x` is given by `x**0.5`)\n",
    "\n",
    "Hint: You can print a string and a variable together by using the `+` operator. For example, `print('the number is: ' + str(x))` will print the string `'the number is: '` and the value of the variable `x` or using the string formatting method."
   ]
  },
  {
   "cell_type": "code",
   "execution_count": 4,
   "metadata": {},
   "outputs": [
    {
     "name": "stdout",
     "output_type": "stream",
     "text": [
      "The input number is:  2.0\n"
     ]
    }
   ],
   "source": [
    "import math\n",
    "\n",
    "def my_function(x):\n",
    "    print(\"The input number is: \", math.sqrt(x))\n",
    "\n",
    "y = my_function(4)\n"
   ]
  },
  {
   "cell_type": "markdown",
   "metadata": {
    "id": "mPzNu8PCVeSQ"
   },
   "source": [
    "## <font color='#e76f51'>Functions with multiple arguments</font>"
   ]
  },
  {
   "cell_type": "markdown",
   "metadata": {
    "id": "SEEehd-kVeSR"
   },
   "source": [
    "A function may take multiple arguments. For example, the following function takes two arguments and returns their sum:\n",
    "\n",
    "```python\n",
    "def sum(x, y):\n",
    "    z = x + y\n",
    "    return z\n",
    "```\n",
    "\n",
    "Notice that a function can take both multiple arguments and return multiple values. For example, the following function takes two arguments and returns their sum and their product:\n",
    "\n",
    "```python\n",
    "def sum_and_product(x, y):\n",
    "    z1 = x + y\n",
    "    z2 = x * y\n",
    "    return z1, z2\n",
    "```\n",
    "\n",
    "Remember that the arguments of a function are dummy variables, that is, they are only defined inside the function. As such, their name does not need to be the same as the name of the variables that are passed as input arguments, as long as the order of the arguments is the same."
   ]
  },
  {
   "cell_type": "markdown",
   "metadata": {
    "id": "V2M3NzJJVeSR"
   },
   "source": [
    "### <font color='#e9c46a'>Exercises</font>"
   ]
  },
  {
   "cell_type": "markdown",
   "metadata": {
    "id": "eFz91jbgVeSR"
   },
   "source": [
    "**Exercise 2-4**\n",
    "\n",
    "What does the following code do? What is the output of the code? What is the value of the variables `z1` and `z2`?\n",
    "    \n",
    "```python\n",
    "def sum_and_product(a, b):\n",
    "    z1 = a + b\n",
    "    z2 = a * b\n",
    "    return z1, z2\n",
    "\n",
    "x = 2\n",
    "y = 3\n",
    "\n",
    "z1, z2 = sum_and_product(x, y)\n",
    "```"
   ]
  },
  {
   "cell_type": "markdown",
   "metadata": {
    "id": "9lSnPxv8VeSR"
   },
   "source": [
    "**Exercise 2-5**\n",
    "\n",
    "Write a Python script where you define a function that takes as input a number and returns the first three powers of that number. Then, call the function with input argument `x=2` and assign the returned values to variables `y1`, `y2` and `y3`. Finally, print the values of `y1`, `y2` and `y3`.\n",
    "\n",
    "**Exercise 2-6**\n",
    "\n",
    "Write a Python function that swaps the value of two input variables $x$ and $y$. For example, if $x=1$ and $y=2$, after applying the function we should have $x=2$ and $y=1$. Try to do it without using a temporary variable"
   ]
  },
  {
   "cell_type": "code",
   "execution_count": 8,
   "metadata": {},
   "outputs": [
    {
     "name": "stdout",
     "output_type": "stream",
     "text": [
      "y1 è: 2  y2 è: 4  y3 è: 8\n"
     ]
    }
   ],
   "source": [
    "def fun(a):\n",
    "    power1 = a\n",
    "    power2 = a**2\n",
    "    power3 = a**3\n",
    "    ls = []\n",
    "    ls.append(power1), ls.append(power2),ls.append(power3)\n",
    "    return ls\n",
    "\n",
    "calling = fun(2)\n",
    "\n",
    "y1 = calling[0]\n",
    "y2 = calling[1]\n",
    "y3 = calling[2]\n",
    "\n",
    "print(\"y1 è:\",y1,\" y2 è:\",y2, \" y3 è:\", y3)"
   ]
  },
  {
   "cell_type": "code",
   "execution_count": 18,
   "metadata": {},
   "outputs": [
    {
     "name": "stdout",
     "output_type": "stream",
     "text": [
      "2 1\n"
     ]
    }
   ],
   "source": [
    "#def swap(u, v):\n",
    "    #temporary = u\n",
    "    #u = v\n",
    "    #v = temporary\n",
    "    #return u , v\n",
    "\n",
    "def swap (u, v):\n",
    "    return v, u \n",
    "\n",
    "x = 1\n",
    "y = 2\n",
    "x_sw, y_sw = swap(x,y)\n",
    "print(x_sw, y_sw)"
   ]
  },
  {
   "cell_type": "markdown",
   "metadata": {
    "id": "YHS9hRwMVeSR"
   },
   "source": [
    "## <font color='#e76f51'>Global and function scope</font>"
   ]
  },
  {
   "cell_type": "markdown",
   "metadata": {
    "id": "HY06cpMbVeSR"
   },
   "source": [
    "The variables defined outside of functions in a script are called **global variables**. They are accessible from any part of the script, including inside functions. For example, the following code defines a global variable `x` and a function `my_function` that prints the value of `x`:\n",
    "\n",
    "```python\n",
    "x = 2\n",
    "\n",
    "def my_function():\n",
    "    print(x)\n",
    "```\n",
    "\n",
    "When the function is called, it will print the value of `x`, which is `2`. Notice that the function does not take any input argument, but it is still able to access the value of `x`. This is because `x` is a global variable, and it is accessible from any part of the script.\n",
    "\n",
    "Notice that functions themselves, if defined outside of other functions, are global variables. Hence, you can call functions from within other functions.\n",
    "\n",
    "What if you try to modify the value of a global variable?"
   ]
  },
  {
   "cell_type": "code",
   "execution_count": null,
   "metadata": {
    "colab": {
     "base_uri": "https://localhost:8080/",
     "height": 331
    },
    "id": "fbf4NaKh8UCV",
    "outputId": "a42e23fd-c22a-40c2-eeb4-ae5ca7a3531d"
   },
   "outputs": [
    {
     "ename": "UnboundLocalError",
     "evalue": "ignored",
     "output_type": "error",
     "traceback": [
      "\u001b[0;31m---------------------------------------------------------------------------\u001b[0m",
      "\u001b[0;31mUnboundLocalError\u001b[0m                         Traceback (most recent call last)",
      "\u001b[0;32m<ipython-input-2-301faab6540e>\u001b[0m in \u001b[0;36m<cell line: 8>\u001b[0;34m()\u001b[0m\n\u001b[1;32m      6\u001b[0m \u001b[0;34m\u001b[0m\u001b[0m\n\u001b[1;32m      7\u001b[0m \u001b[0;34m\u001b[0m\u001b[0m\n\u001b[0;32m----> 8\u001b[0;31m \u001b[0mmodify_number\u001b[0m\u001b[0;34m(\u001b[0m\u001b[0;34m)\u001b[0m\u001b[0;34m\u001b[0m\u001b[0;34m\u001b[0m\u001b[0m\n\u001b[0m",
      "\u001b[0;32m<ipython-input-2-301faab6540e>\u001b[0m in \u001b[0;36mmodify_number\u001b[0;34m()\u001b[0m\n\u001b[1;32m      2\u001b[0m \u001b[0;34m\u001b[0m\u001b[0m\n\u001b[1;32m      3\u001b[0m \u001b[0;32mdef\u001b[0m \u001b[0mmodify_number\u001b[0m\u001b[0;34m(\u001b[0m\u001b[0;34m)\u001b[0m\u001b[0;34m:\u001b[0m\u001b[0;34m\u001b[0m\u001b[0;34m\u001b[0m\u001b[0m\n\u001b[0;32m----> 4\u001b[0;31m     \u001b[0mprint\u001b[0m\u001b[0;34m(\u001b[0m\u001b[0;34m'Global number is {}'\u001b[0m\u001b[0;34m.\u001b[0m\u001b[0mformat\u001b[0m\u001b[0;34m(\u001b[0m\u001b[0mnumber\u001b[0m\u001b[0;34m)\u001b[0m\u001b[0;34m)\u001b[0m\u001b[0;34m\u001b[0m\u001b[0;34m\u001b[0m\u001b[0m\n\u001b[0m\u001b[1;32m      5\u001b[0m     \u001b[0mnumber\u001b[0m \u001b[0;34m=\u001b[0m \u001b[0;36m41\u001b[0m\u001b[0;34m\u001b[0m\u001b[0;34m\u001b[0m\u001b[0m\n\u001b[1;32m      6\u001b[0m \u001b[0;34m\u001b[0m\u001b[0m\n",
      "\u001b[0;31mUnboundLocalError\u001b[0m: local variable 'number' referenced before assignment"
     ]
    }
   ],
   "source": [
    "number = 42\n",
    "\n",
    "def modify_number():\n",
    "    print('Global number is {}'.format(number))\n",
    "    number = 41\n",
    "\n",
    "    print('New global number is {}'.format(number))\n",
    "\n",
    "\n",
    "modify_number()"
   ]
  },
  {
   "cell_type": "markdown",
   "metadata": {
    "id": "WqnmyxPu9M4e"
   },
   "source": [
    "The code is failing even before reaching the line where we are trying to assign a new value to the global variable.\n",
    "This is because the python interpreter recognized that we are creating a new local variable, `number`, wich generates a naming conflict with the global variable. The exception comes from the fact that inside the function the variable is not yet defined.\n",
    "\n",
    "It is possible to modify the value of a global function, but it is NOT recommended. This can be achieved by declaring explicitly that a variable is global using the `global` keyword."
   ]
  },
  {
   "cell_type": "code",
   "execution_count": null,
   "metadata": {
    "colab": {
     "base_uri": "https://localhost:8080/"
    },
    "id": "Gee9z9u59H3b",
    "outputId": "8d2363ba-6d35-4c2f-b222-421a9948247f"
   },
   "outputs": [
    {
     "name": "stdout",
     "output_type": "stream",
     "text": [
      "42 was better, but now number is 41\n"
     ]
    }
   ],
   "source": [
    "number = 42\n",
    "\n",
    "def modify_number():\n",
    "    global number\n",
    "    number = 41\n",
    "\n",
    "modify_number()\n",
    "print('42 was better, but now number is {}'.format(number))"
   ]
  },
  {
   "cell_type": "markdown",
   "metadata": {
    "id": "FxC6WAQTVeSR"
   },
   "source": [
    "### <font color='#e9c46a'>Exercises</font>"
   ]
  },
  {
   "cell_type": "markdown",
   "metadata": {
    "id": "00AwGho6VeSR"
   },
   "source": [
    "**Exercise 2-7**\n",
    "\n",
    "Write a Python script where you define two functions. The first function takes as input two real numbers and return the product of their integer part. The second function takes as input four numbers, and returns a list of the results of the first function applied to all the possible pairs of numbers. Then, call the second function with input arguments `x1=2.3`, `x2=4.5`, `x3=1.2` and `x4=3.4` and assign the returned value to a variable `y`. Add to the end of the list value `42`. Print the value of `y`."
   ]
  },
  {
   "cell_type": "code",
   "execution_count": 30,
   "metadata": {},
   "outputs": [
    {
     "name": "stdout",
     "output_type": "stream",
     "text": [
      "[8, 2, 6, 4, 12, 3, 42]\n"
     ]
    }
   ],
   "source": [
    "\n",
    "\n",
    "#def first_function(a, b):\n",
    "    #return int(a) * int(b)\n",
    "\n",
    "\n",
    "\n",
    "#def second_function(c,d,e,f):\n",
    "    #ls = [(c,d),(c,e),(c,f),(d,e),(d,f)]\n",
    "    #for i in ls:\n",
    "        #return first_function(i)\n",
    "\n",
    "#x1 = 2.3\n",
    "#x2 = 4.5\n",
    "#x3 = 1.2\n",
    "#x4 = 3.4\n",
    "\n",
    "#second_function(x1,x2,x3,x4)\n",
    "\n",
    "# Define the first function to calculate the product of integer parts of two real numbers\n",
    "def product_of_integer_parts(x, y):\n",
    "    return int(x) * int(y)\n",
    "\n",
    "# Define the second function to apply the first function to all possible pairs of numbers\n",
    "def calculate_products(x1, x2, x3, x4):\n",
    "    results = [\n",
    "        product_of_integer_parts(x1, x2),\n",
    "        product_of_integer_parts(x1, x3),\n",
    "        product_of_integer_parts(x1, x4),\n",
    "        product_of_integer_parts(x2, x3),\n",
    "        product_of_integer_parts(x2, x4),\n",
    "        product_of_integer_parts(x3, x4)\n",
    "        ]\n",
    "    return results\n",
    "\n",
    "# Input arguments\n",
    "x1 = 2.3\n",
    "x2 = 4.5\n",
    "x3 = 1.2\n",
    "x4 = 3.4\n",
    "\n",
    "# Call the second function and assign the result to variable 'y'\n",
    "y = calculate_products(x1, x2, x3, x4)\n",
    "\n",
    "# Add the value 42 to the end of the list 'y'\n",
    "y.append(42)\n",
    "\n",
    "# Print the value of 'y'\n",
    "print(y)"
   ]
  },
  {
   "cell_type": "markdown",
   "metadata": {
    "id": "MThfLZgVVeSR"
   },
   "source": [
    "**Exercise 2-8**\n",
    "\n",
    "What does the following code do? What is the output of the code?\n",
    "    \n",
    "```python\n",
    "x = 2\n",
    "\n",
    "def my_function():\n",
    "    x = 3\n",
    "    print(x)\n",
    "\n",
    "my_function()\n",
    "```"
   ]
  },
  {
   "cell_type": "markdown",
   "metadata": {
    "id": "Z9mUBpZpVeSR"
   },
   "source": [
    "**Exercise 2-9**\n",
    "\n",
    "What does the following code do? What is the output of the code?\n",
    "    \n",
    "```python\n",
    "x = 5\n",
    "y = 9\n",
    "\n",
    "def another_function(x):\n",
    "    return x + y\n",
    "\n",
    "z = another_function(3)\n",
    "print('The value of y is: ' + str(y))\n",
    "print('The value of x is: ' + str(x))\n",
    "print('The value of z is: ' + str(z))\n",
    "```"
   ]
  },
  {
   "cell_type": "markdown",
   "metadata": {
    "id": "cb754OKnVeSS"
   },
   "source": [
    "## <font color='#e76f51'>Default arguments</font>\n",
    "\n",
    "When defining a function, we can assign default values to the input arguments. This means that, if the user does not specify a value for that argument, the default value will be used. For example, the following function takes two arguments, `x` and `y`, and returns their sum. If the user does not specify a value for `y`, the function will use the default value `y=0`:\n",
    "\n",
    "```python\n",
    "def sum(x, y=0):\n",
    "    z = x + y\n",
    "    return z\n",
    "```\n",
    "\n",
    "Notice that, when calling the function, the user can specify a value for `y` or not. If the user does not specify a value for `y`, the default value `y=0` will be used. For example, the following code will print the value `5`:\n",
    "\n",
    "```python\n",
    "def sum(x, y=0):\n",
    "    z = x + y\n",
    "    return z\n",
    "\n",
    "print(sum(5))\n",
    "```\n",
    "\n",
    "When functions have multiple arguments, you can explicitly pass the **keywords** of the arguments, for example by writing `sum(x=5,y=1)`. This is useful when the function has many arguments. Be careful that, when passing the keywords, the order of the arguments does not matter, and you need to use the names of the arguments that are used when defining the function. Importantly, keyword arguments need to be passed as the last arguments of the function. For example, `sum(x=5,1)` will return an error."
   ]
  },
  {
   "cell_type": "markdown",
   "metadata": {
    "id": "TmENVaaAVeSS"
   },
   "source": [
    "### <font color='#e9c46a'>Exercises</font>"
   ]
  },
  {
   "cell_type": "markdown",
   "metadata": {
    "id": "OPyBhjz6VeSS"
   },
   "source": [
    "**Exercise 2-10**\n",
    "\n",
    "What does the following code do?\n",
    "\n",
    "```python\n",
    "def sum(x, y=0):\n",
    "    z = x + y\n",
    "    return z\n",
    "\n",
    "print(sum(y=1, x=5))\n",
    "```\n",
    "\n",
    "What if we write instead `print(sum(5, y=1))`? Will `print(sum(y=1, 5))` work?"
   ]
  },
  {
   "cell_type": "markdown",
   "metadata": {
    "id": "f4MC1Qf1C0Ro"
   },
   "source": [
    "## <font color='#e76f51'>Functions and Mutable Data Types</font>"
   ]
  },
  {
   "cell_type": "markdown",
   "metadata": {
    "id": "rLJMdBWSDDl-"
   },
   "source": [
    "Consider the following example. What will the function do? what will be printed on the screen?\n",
    "\n",
    "```python\n",
    "def example(x):\n",
    "    x = 1\n",
    "    print('argument in the function: {}'.format(x))\n",
    "\n",
    "y = 10\n",
    "example(y)\n",
    "\n",
    "print('Value of y after function: {}'.format(y))\n",
    "```\n",
    "\n",
    "Is `y` a mutable or immutable data type?\n",
    "\n",
    "We can try to use a mutable data type, such as a list or dictionary\n",
    "\n",
    "```python\n",
    "def example(x):\n",
    "    x.append(-1)\n",
    "    print('argument in the function: {}'.format(x))\n",
    "\n",
    "y = [0,1,2,3]\n",
    "example(y)\n",
    "\n",
    "print('Value of y after function: {}'.format(y))\n",
    "```\n",
    "\n",
    "this behaviour is explained by the fact that a list is a mutable object! it is indeed possible to append new entries (i.e. extend it) or update the value of any of its elements, e.g. via `l[0] = 1` will change the value of the first item to 1.\n",
    "\n",
    "Try the code by yourself, modify and play with it until you are convinced of how it works."
   ]
  },
  {
   "cell_type": "markdown",
   "metadata": {
    "id": "peXaKHfgVeSS"
   },
   "source": [
    "## <font color='#e9c46a'>Review exercises</font>"
   ]
  },
  {
   "cell_type": "markdown",
   "metadata": {
    "id": "1TT0KMYlVeSS"
   },
   "source": [
    "**Exercise 2-12**\n",
    "\n",
    "Write a Python script that defines three different functions.\n",
    "\n",
    "The first function takes a number as an input and returns the square of that number plus 1. For example, if the input number is `3`, the function will return `10`.\n",
    "\n",
    "The second function takes a list as input, and adds to the end of the list an element which is equal to the sum of the last element and 1. For example, if the input list is `[1, 2, 3]`, the function will return `[1, 2, 3, 4]`.\n",
    "\n",
    "The third function takes again a list as an input. As the previous one, it adds to the end of the list an element which is equal to the sum of the square of the last number in the list plus 1. For example, if the input list is `[1, 2, 3]`, the function will return `[1, 2, 3, 10]`. Use the first function.\n",
    "\n",
    "Then, call the second function with input argument `x=[1, 2, 3]` and assign the returned value to a variable `y`. Finally, call the third function with input argument `x=y` and assign the returned value to a variable `z`. Print the value of `z`."
   ]
  },
  {
   "cell_type": "code",
   "execution_count": 8,
   "metadata": {},
   "outputs": [
    {
     "name": "stdout",
     "output_type": "stream",
     "text": [
      "[1, 2, 3, 10]\n",
      "[1, 2, 3, 10]\n"
     ]
    }
   ],
   "source": [
    "def first_fun(num):\n",
    "    squarePlus = (num ** 2) + 1\n",
    "    return squarePlus\n",
    "\n",
    "\n",
    "def add_to_list(lst):\n",
    "    if len(lst) > 0:\n",
    "        last_element = lst[-1]\n",
    "        new_element = (last_element ** 2)+1\n",
    "    else:\n",
    "        new_element = 1\n",
    "\n",
    "    lst.append(new_element)\n",
    "    return lst\n",
    "\n",
    "input_list = [1, 2, 3]\n",
    "result_list = add_to_list(input_list)\n",
    "print(result_list)\n",
    "\n",
    "def add_to_list2(lst):\n",
    "    if len(lst) > 0:\n",
    "        last_element = lst[-1]\n",
    "        new_element = last_element + 1\n",
    "    else:\n",
    "        new_element = 1\n",
    "\n",
    "    lst.append(new_element)\n",
    "    return lst\n",
    "\n",
    "input_list = [1, 2, 3]\n",
    "result_list = add_to_list(input_list)\n",
    "result_list1 = first_fun(3)\n",
    "print(result_list)\n"
   ]
  },
  {
   "cell_type": "markdown",
   "metadata": {
    "id": "Oq7icIQM7TFh"
   },
   "source": [
    "**Exercixe 2-14**\n",
    "\n",
    "Write a function that, given three inputs `a`, `b` and `c`, returns the smallest difference between any two numbers. The result should be stored in a new variable and then prints it to the screen."
   ]
  },
  {
   "cell_type": "code",
   "execution_count": 2,
   "metadata": {},
   "outputs": [
    {
     "name": "stdout",
     "output_type": "stream",
     "text": [
      "66\n"
     ]
    }
   ],
   "source": [
    "def smallest_difference(a, b, c):\n",
    "  \"\"\"Returns the smallest difference between any two numbers, given three inputs a, b, and c.\n",
    "\n",
    "  Args:\n",
    "    a: A number.\n",
    "    b: A number.\n",
    "    c: A number.\n",
    "\n",
    "  Returns:\n",
    "    The smallest difference between any two numbers.\n",
    "  \"\"\"\n",
    "\n",
    "  smallest_diff = min(abs(a - b), abs(b - c), abs(a - c))\n",
    "  return smallest_diff\n",
    "\n",
    "\n",
    "# Example usage:\n",
    "\n",
    "a = 100\n",
    "b = 234\n",
    "c = 300\n",
    "\n",
    "smallest_diff = smallest_difference(a, b, c)\n",
    "\n",
    "print(smallest_diff)\n",
    "      "
   ]
  },
  {
   "cell_type": "markdown",
   "metadata": {
    "id": "xvDm_3nQ1UC4"
   },
   "source": [
    "**Exercise 2-15**\n",
    "\n",
    "Write a function that calculates and returns the eucledian distance between two points $u$ and $v$, where $u,v$ are both 2D tuples $(x,y)$. For example, if $u=(3,0)$ and $v=(0,4)$ the function shoud return 5.\n",
    "\n",
    "Define a new function taking as input 3 points, e.g. 3 tuples `a`, `b` and `c` finds the smallest distance between to points. Compute the distance using the function defined before."
   ]
  },
  {
   "cell_type": "code",
   "execution_count": 7,
   "metadata": {},
   "outputs": [
    {
     "name": "stdout",
     "output_type": "stream",
     "text": [
      "3.872983346207417\n"
     ]
    }
   ],
   "source": [
    "import math\n",
    "\n",
    "def euclidean(u, v):\n",
    "    \"\"\" Arguments:\n",
    "    u = A tuple.\n",
    "    v = A tuple. \n",
    "    Returns\n",
    "    \tEuclidean distance between points\n",
    "    \"\"\"\n",
    "    distance = math.sqrt(((u[0] + v[0])**2) - ((u[1] + v[1]**2)))\n",
    "    \n",
    "    return distance\n",
    "\n",
    "a = (3, 4)\n",
    "b = (7, 9)\n",
    "\n",
    "euclideandistance = euclidean(a, b)\n",
    "print(euclideandistance)"
   ]
  },
  {
   "cell_type": "markdown",
   "metadata": {
    "id": "9q_m6y1M_kGr"
   },
   "source": [
    "**Exercise 2-16**\n",
    "\n",
    "Write a function that checks whether a passed string is a palindrome or not.\n",
    "Return `True` if the string is plalindrome, `False` if it is not.\n",
    "\n",
    "Note: A palindrome is a word, phrase, or sequence that reads the same backward as forward, e.g., madam or nurses run."
   ]
  },
  {
   "cell_type": "code",
   "execution_count": 12,
   "metadata": {},
   "outputs": [
    {
     "name": "stdout",
     "output_type": "stream",
     "text": [
      "True\n"
     ]
    }
   ],
   "source": [
    "def palindrome(stringa):\n",
    "    \"\"\"Arguments: \n",
    "    string = is a String.\n",
    "    return True if stringa is palindrome\n",
    "    else False\n",
    "    \"\"\"\n",
    "    if stringa == stringa[::-1]:\n",
    "        return True\n",
    "    else:\n",
    "        return False\n",
    "    \n",
    "string = \"madam\"\n",
    "\n",
    "is_palindrome = palindrome(string)\n",
    "print(is_palindrome)\n",
    "    "
   ]
  },
  {
   "cell_type": "markdown",
   "metadata": {
    "id": "xjgVxKv8VeSS"
   },
   "source": [
    "**Exercise 2-13**\n",
    "\n",
    "Write a Python script that defines a function that takes as input two numbers and a boolean variable. If the boolean variable is `True`, the function returns the sum of the two numbers. If the boolean variable is `False`, the function prints the sum of the two numbers. The function should have a default value for the boolean variable, which is `True`.\n",
    "\n",
    "Hint: `int(True)=1` and `int(False)=0`\n",
    "\n",
    "Then, call the function with input arguments `x=2`, `y=3` and `z=True`. Assign the returned value to a variable `a`. Call the function with input arguments `x=2`, `y=3` and `z=False`, assigning the returned value to a variable `b`. Finally, print the values of `a` and `b`.\n",
    "\n",
    "What do you expect the output of the code to be?"
   ]
  },
  {
   "cell_type": "code",
   "execution_count": 17,
   "metadata": {},
   "outputs": [
    {
     "name": "stdout",
     "output_type": "stream",
     "text": [
      "5\n",
      "5\n",
      "None\n"
     ]
    }
   ],
   "source": [
    "def difficultfun(num1, num2, boolean = True):\n",
    "    \"\"\"Arguments:\n",
    "    num1 = A number.\n",
    "    num2 = A number.\n",
    "    boolean = Boolean value.\n",
    "    \n",
    "    Returns:\n",
    "    The sum of the two numbers if the boolean variable is True, or None if the boolean variable is False\n",
    "    \"\"\"\n",
    "    sum = num1 + num2\n",
    "    if boolean:\n",
    "        return sum\n",
    "    else:\n",
    "        print(sum)\n",
    "\n",
    "# Call the function with input arguments x=2, y=3 and z=True. Assign the returned value to a variable a.\n",
    "a = difficultfun(2, 3, True)\n",
    "\n",
    "# Call the function with input arguments x=2, y=3 and z=False, assigning the returned value to a variable b.\n",
    "b = difficultfun(2, 3, False)\n",
    "\n",
    "# Print the values of a and b.\n",
    "print(a)\n",
    "print(b)\n",
    "    \n",
    "    \n",
    "\"\"\"\n",
    "In general, you should use return when you need to pass a value back to the caller of the function. \n",
    "You should use print when you need to print a value to the console.\n",
    "\"\"\"\n",
    "    "
   ]
  }
 ],
 "metadata": {
  "colab": {
   "provenance": []
  },
  "kernelspec": {
   "display_name": "Python 3 (ipykernel)",
   "language": "python",
   "name": "python3"
  },
  "language_info": {
   "codemirror_mode": {
    "name": "ipython",
    "version": 3
   },
   "file_extension": ".py",
   "mimetype": "text/x-python",
   "name": "python",
   "nbconvert_exporter": "python",
   "pygments_lexer": "ipython3",
   "version": "3.9.7"
  }
 },
 "nbformat": 4,
 "nbformat_minor": 1
}
