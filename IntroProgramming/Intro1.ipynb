{
 "cells": [
  {
   "cell_type": "markdown",
   "metadata": {
    "id": "sc2Lr1dOI1C2"
   },
   "source": [
    "# <font color='#e76f51'>Additional resources for this lecture</font>"
   ]
  },
  {
   "cell_type": "markdown",
   "metadata": {
    "id": "t20tReow6sWk"
   },
   "source": [
    "Python manual for data structures ([link](https://docs.python.org/3/tutorial/datastructures.html#))\n",
    "* All available methods and functions for the data structure introduced in this lecture\n",
    "* Including example\n",
    "\n",
    "Same contento of this lecture, but explained differently\n",
    "* Lecture about variables on kaggle ([notebook](https://www.kaggle.com/code/alexisbcook/arithmetic-and-variables))\n",
    "* \"Hello, Python\" on kaggle ([notebook](https://www.kaggle.com/code/colinmorris/hello-python))\n",
    "\n",
    "Both of them include additional exercises."
   ]
  },
  {
   "cell_type": "markdown",
   "metadata": {
    "id": "LSUMiy-EI3Nb"
   },
   "source": [
    "## <font color='#e76f51'>Programming in Python</font>"
   ]
  },
  {
   "cell_type": "markdown",
   "metadata": {
    "id": "ijSu4Bsa7Lt5"
   },
   "source": [
    "A **computer program** is a set of instructions meant to instruct the computer hardware to do operations, by using the computing processing unit (CPU) and the memory. A program is structured accoding to the **syntax** of the programming language.\n",
    "\n",
    "The **main elements** to be used to build a Python program that we will introduce you to are the following.\n",
    "\n",
    "**Variables**\n",
    " - Information stored into the computer memory that can be retrieved\n",
    " - The programming language associates a variable with a symbol, for example\n",
    "```\n",
    "a = 1\n",
    "```\n",
    "assigns the value 1 to the symbol `a`.\n",
    " - You can perform operations between variables.\n",
    "\n",
    "**Instruction sequences**\n",
    " - Each line of code in Python executes an instruction in sequence\n",
    " - Instructions can be executed repeatedly (loops) or depending on one or more conditions. For example, the code\n",
    " ```\n",
    "a = 1\n",
    "b = 3\n",
    "c = a + b\n",
    "```\n",
    "proceeds as follows: it first assigns the value 1 to the variable `a`; then, it assigns the value 3 to the variable `b`; finally, it assigns to the variable `c` the result of the operation `a+b`.\n",
    "\n",
    "**Functions**\n",
    " - Groups of sequences of elementary instructions into a repeatable block\n",
    " - Functions can be \"called\" to execute the code they contain, and you can \"pass\" variables to a function to make operations on the variables"
   ]
  },
  {
   "cell_type": "markdown",
   "metadata": {
    "id": "qCMIIkaAAU72"
   },
   "source": [
    "### <font color='#e76f51'>Built-in functions</font>\n"
   ]
  },
  {
   "cell_type": "markdown",
   "metadata": {
    "id": "n44Vz0yqRL9g"
   },
   "source": [
    "Python provides a set of **built-in functions** that can be used to perform elementary operations. For example, the function `print` prints the value of a variable on the screen. The usage of the function is the following:\n",
    "```python\n",
    "print(variable)\n",
    "```\n",
    "where `variable` is the variable whose value is to be printed on the screen. The function `print` can be used to print more than one variable, by separating them with a comma:\n",
    "```python\n",
    "print(variable1, variable2)\n",
    "```\n",
    "In general, we say that we **call** a function by executing it, and we **pass** variables to a function by using them as **arguments** of the function. The syntax is `function_name(arguments)`.\n",
    "\n",
    "One more example of built-in function is the function `type`, which returns the type of a variable. For example, the code\n",
    "```python\n",
    "a = 1\n",
    "print(type(a))\n",
    "```\n",
    "prints the type of the variable `a`, which is `int` (integer) as we will see later. In this case, the function `type` **returns** an object (the type of the variable `a`), in the sense that it gives back a value that can be used in the program. This value in the code above is then passed to the function `print`, which prints it on the screen.\n",
    "\n",
    "\n",
    "### Attention!\n",
    "There are many built-in functions in Python, and we will see some of them during the course. For a complete list of built-in functions, see the [Python documentation](https://docs.python.org/3/library/functions.html). It is **extremely important** that you do not call a variable with the same name of a built-in function, otherwise you will **overwrite** the built-in function and you will not be able to use it anymore.\n",
    "Consider the following example. There are function `min()` and `max()` used to find the minimum and maximum between a list of provided numbers. DON'T call the value found `min` and `max`, otherwise you won't be able to reuse them, as they will now be two varialbles containing two numbers. <br>\n",
    "This code will work, but it is WRONG to do it\n",
    "```python\n",
    "min = min(12, 32, 4)\n",
    "max = max(77, 34, 6)\n",
    "\n",
    "print(min, max)\n",
    "# prints 4, 77\n",
    "\n",
    "min(1,2,4,5)\n",
    "# returns an error! min is not a function anymore\n",
    "```\n",
    "\n",
    "Instead, use a better naming\n",
    "```python\n",
    "min_value = min(12, 32, 4)\n",
    "max_value = max(77, 34, 6)\n",
    "\n",
    "print(min_value, max_value)\n",
    "# prints 4, 77\n",
    "\n",
    "print(min, max)\n",
    "# prints <built-in function min>, <built-in function max>\n",
    "```"
   ]
  },
  {
   "cell_type": "markdown",
   "metadata": {
    "id": "UklG5TNMRSfP"
   },
   "source": [
    "### <font color='#e76f51'>Errors in Python</font>"
   ]
  },
  {
   "cell_type": "markdown",
   "metadata": {
    "id": "NVB8Y6hmRL9g"
   },
   "source": [
    "It is very common to make mistakes when writing a program. Python will **raise an error** when it finds a mistake in the code, and it will stop the execution of the program. For example, if you try to print a variable that has not been defined, Python will raise an error:\n",
    "```python\n",
    "print(a)\n",
    "```\n",
    "will give, if the variable `a` has not been defined before, the following error:\n",
    "```\n",
    "---------------------------------------------------------------------------\n",
    "NameError                                 Traceback (most recent call last)\n",
    "<ipython-input-2-9b0b0b9b9b9b> in <module>\n",
    "----> 1 print(a)\n",
    "\n",
    "NameError: name 'a' is not defined\n",
    "```\n",
    "\n",
    "It is important to **read the error message** to understand what is wrong in the code. In this case, the error message says that the variable `a` is not defined, so we cannot print it. In general, the error message will tell you where the error is in the code, and what is the error.\n"
   ]
  },
  {
   "cell_type": "markdown",
   "metadata": {
    "id": "MrbUhJxd-mpk"
   },
   "source": [
    "## <font color='#e76f51'>Scripts and notebooks</font>"
   ]
  },
  {
   "cell_type": "markdown",
   "metadata": {
    "id": "1QuSPGtBRL9h"
   },
   "source": [
    "In general, Python programs are written in **scripts**. A script is a text file containing the code of the program, with the extension `.py`. For example, the code\n",
    "```python\n",
    "a = 1\n",
    "b = 3\n",
    "print(a, b)\n",
    "```\n",
    "can be saved in a file called `my_script.py`. To execute the script, you can open a terminal in the directory of the script and type\n",
    "```\n",
    "python my_script.py\n",
    "```\n",
    "which will execute the script and print the output (if any) on the terminal. In this case, the output is the value of the variables `a` and `b`.\n",
    "\n",
    "In this course, we will also use **Jupyter notebooks**. This one, for instance, is a notebook. A notebook is a file containing the code of the program, with the extension `.ipynb`. Notebooks are very useful because they allow to mix code and text, and to execute the code in blocks. Each block of the code, called **cell**, can be executed one at a time, and the output of the cell is printed below the cell. To execute a cell, you can click on the cell and then press `Shift+Enter`. You can open a terminal in the directory of the notebook and type\n",
    "```\n",
    "jupyter notebook\n",
    "```\n",
    "which will open a browser window with a list of the notebooks in the directory. You can then click on the notebook you want to open, and you will be able to execute the cells of the notebook.\n",
    "\n",
    "Notebooks are very useful to build a program by testing the code one cell at a time. It is very important to remember, however, that once you execute a cell all the variables defined in the cell are stored in the memory of the computer, and they will be used in the other cells as well, **independently** on the cell order on the screen. Only the execution order matters, and you are free to run cells in the order you prefer. Hence, if you define a variable in a cell, and then you change the value of the variable in another cell, the value of the variable will be the one defined in the last cell.\n",
    "\n",
    "You are free and encouraged to explore notebooks in this course (again, this is a notebook), and to modify the code in the cells. You can add and remove code and text cells and execute them. However, in most of the exercises you will be asked to write scripts, so that the code of each exercise will be independent from the code of the other exercises."
   ]
  },
  {
   "cell_type": "markdown",
   "metadata": {
    "id": "0Hoi9GS5IsxB"
   },
   "source": [
    "# <font color='#e76f51'>Variables</font>"
   ]
  },
  {
   "cell_type": "markdown",
   "metadata": {
    "id": "tJwkmAfO-AAq"
   },
   "source": [
    "A variable is an object that contains information of a **specified nature**, and occupies memory space in the computer. There are many variables types in Python.\n",
    "\n",
    "| Variable type | Example |\n",
    "| --- | --- |\n",
    "| integer | `a = 1` |\n",
    "| floating point | `a = 1.0` |\n",
    "| boolean | `a=True` |\n",
    "| string | `a='filename.txt'` |\n",
    "\n",
    "In these examples, the symbol \"a\" is associated to different objects: an integer, a floating point number, etc. We will see each of these types in detail during the course.\n",
    "\n",
    "Python is **not statically typed**: the type of a variable is not fixed, and you reassign a new value of a different type to a variable. For example, you can assign the integer value 1 to a variable, and later in the program change its value to a string of text.\n",
    "\n",
    "The built-in function `type()` returns the type of the variable. For example,\n",
    "```python\n",
    "a = 1\n",
    "print(type(a))\n",
    "```\n",
    "prints `<class 'int'>`, which tells us that the variable `a` is of integer type."
   ]
  },
  {
   "cell_type": "markdown",
   "metadata": {
    "id": "j7MZOQN0Ipoo"
   },
   "source": [
    "## <font color='#e76f51'>Numbers</font>"
   ]
  },
  {
   "cell_type": "markdown",
   "metadata": {
    "id": "9YSB9e_h9_6z"
   },
   "source": [
    "There are different types that corresponds to numbers.\n",
    "  * **Integers** can take up to any positive or negative number.\n",
    "  * **Floating point** numbers implement real numbers (approximately, with finite precision).\n",
    "  * **Complex numbers** have a real and imaginary part, which are a floating point number each. A number is automatically interpreted as imaginary by adding `j` to its value.\n",
    "\n",
    "The standard operations between numbers are pre-implemented in Python.\n",
    "\n",
    "| Operation | Example |\n",
    "| --- | --- |\n",
    "| Addition | `a + b` |\n",
    "| Subtraction | `a - b` |\n",
    "| Multiplication | `a * b` |\n",
    "| Division | `a / b` |\n",
    "| Power | `a ** b` |\n",
    "\n",
    "Python has the built-in functions `int()`, `float()`, and `complex()` that can be used to generate or convert numbers to a specific type. For example,\n",
    "```python\n",
    "a = complex (4)\n",
    "```\n",
    "will assign to `a` complex number with real part 4 and imaginary part 0. The type of a is complex. Similarly,\n",
    "```python\n",
    "a = int(1.4)\n",
    "```\n",
    "assigns to `a` the integer part of the number 1.4."
   ]
  },
  {
   "cell_type": "code",
   "execution_count": null,
   "metadata": {
    "colab": {
     "base_uri": "https://localhost:8080/"
    },
    "id": "hT655Njq9_pX",
    "outputId": "ade5507d-2242-4f0b-cf6c-676304d2124f"
   },
   "outputs": [
    {
     "name": "stdout",
     "output_type": "stream",
     "text": [
      "4\n",
      "<class 'int'>\n"
     ]
    }
   ],
   "source": [
    "a = 4\n",
    "print(a)\n",
    "print(type(a))"
   ]
  },
  {
   "cell_type": "code",
   "execution_count": null,
   "metadata": {
    "colab": {
     "base_uri": "https://localhost:8080/"
    },
    "id": "ZasQqqZAD9xn",
    "outputId": "b4f136d9-4e4b-4078-b246-d2145cd4e865"
   },
   "outputs": [
    {
     "name": "stdout",
     "output_type": "stream",
     "text": [
      "2.3\n",
      "<class 'float'>\n"
     ]
    }
   ],
   "source": [
    "b = 2.3\n",
    "print(b)\n",
    "print(type(b))"
   ]
  },
  {
   "cell_type": "code",
   "execution_count": null,
   "metadata": {
    "colab": {
     "base_uri": "https://localhost:8080/"
    },
    "id": "UMQIvAtQ3d3B",
    "outputId": "aa6438d8-55eb-4183-9b0e-b106a383e80e"
   },
   "outputs": [
    {
     "name": "stdout",
     "output_type": "stream",
     "text": [
      "(7.2+1.2j)\n",
      "<class 'complex'>\n"
     ]
    }
   ],
   "source": [
    "a = 7.2 + 1.2j\n",
    "print(a)\n",
    "print(type(a))"
   ]
  },
  {
   "cell_type": "code",
   "execution_count": null,
   "metadata": {
    "colab": {
     "base_uri": "https://localhost:8080/"
    },
    "id": "ktTsMoo8FvPP",
    "outputId": "13134605-46b9-486e-a6b0-4600d28da58f"
   },
   "outputs": [
    {
     "name": "stdout",
     "output_type": "stream",
     "text": [
      "7.0\n",
      "-4.4\n",
      "7.41\n",
      "0.22807017543859648\n"
     ]
    }
   ],
   "source": [
    "a = 1.3\n",
    "b = 5.7\n",
    "print(a + b)\n",
    "print(a - b)\n",
    "print(a * b)\n",
    "print(a / b)"
   ]
  },
  {
   "cell_type": "markdown",
   "metadata": {
    "id": "YZvohNUIHtQz"
   },
   "source": [
    "## <font color='#e9c46a'>Exercises</font>\n"
   ]
  },
  {
   "cell_type": "markdown",
   "metadata": {
    "id": "2T_i3HA5IycP"
   },
   "source": [
    "**Exercise 1-1**\n",
    "\n",
    "Write a Python script that initializes two variables to two floating point numbers of you choice and prints the integer division between the two numbers."
   ]
  },
  {
   "cell_type": "code",
   "execution_count": 15,
   "metadata": {},
   "outputs": [
    {
     "name": "stdout",
     "output_type": "stream",
     "text": [
      "2\n"
     ]
    },
    {
     "data": {
      "text/plain": [
       "int"
      ]
     },
     "execution_count": 15,
     "metadata": {},
     "output_type": "execute_result"
    }
   ],
   "source": [
    "a = 6.6\n",
    "b = 3.3\n",
    "c = int(a/b)\n",
    "print(c)\n",
    "type(c)"
   ]
  },
  {
   "cell_type": "markdown",
   "metadata": {
    "id": "NMi9PX3USVP1"
   },
   "source": [
    "## <font color='#e76f51'>Booleans</font>"
   ]
  },
  {
   "cell_type": "markdown",
   "metadata": {
    "id": "e1O4snTBEtek"
   },
   "source": [
    "**Booleans** are variables that can only take the value `True` or `False`. They support **logical operators** `or`, `and` and `not`.\n",
    "\n",
    "| Operation | Example |\n",
    "| --- | --- |\n",
    "| or  | `x or y`  |\n",
    "| | `True` if `x` or `y` are `True` |\n",
    "| and  | `x and y`  |\n",
    "| | `True` if both `x` and `y` are `True` |\n",
    "| not  | `not x`  |\n",
    "| | `False` if `x` is `True`, `True` otherwise |\n",
    "\n",
    "The **result of a comparison between numbers** is a boolean, depending whether the inequality is true or false. For example,\n",
    "```python\n",
    "a = 5>3\n",
    "```\n",
    "will assign the value `True` to the variable `a`. The comparison operators are the following.\n",
    "\n",
    "| Operation | Meaning |\n",
    "| --- | --- |\n",
    "| `<`  | strictly less than  |\n",
    "| `<=`  | less than or equal  |\n",
    "| `>`  | strictly greater than  |\n",
    "| `>=`  | greater than or equal  |\n",
    "| `==`  | equal  |\n",
    "| `!=`  | not equal  |\n",
    "\n",
    "We can also use the `is` and `is not` operators, which checks whether the object on the left is (or is not) identicl to the object on the right.\n",
    "\n",
    "Priority between operators is in general specified by parenthesis and from left to right. **Different operations**, when not ordered with parentheses, **have different priority** as determined by the programming language. The **comparison** has lower priority than mathematical operations, but higher than the logical ones."
   ]
  },
  {
   "cell_type": "code",
   "execution_count": 2,
   "metadata": {
    "colab": {
     "base_uri": "https://localhost:8080/"
    },
    "id": "CRLzH-qZEtNt",
    "outputId": "f6032baf-5e22-44a2-d257-899dad3eb455"
   },
   "outputs": [
    {
     "name": "stdout",
     "output_type": "stream",
     "text": [
      "True\n"
     ]
    }
   ],
   "source": [
    "print(6 < 3*3)"
   ]
  },
  {
   "cell_type": "markdown",
   "metadata": {
    "id": "RIF60EheWPcx"
   },
   "source": [
    "## <font color='#e9c46a'>Exercises</font>"
   ]
  },
  {
   "cell_type": "markdown",
   "metadata": {
    "id": "JryfWwoOWQx_"
   },
   "source": [
    "**Exercise 1-2**\n",
    "\n",
    "What does the following code do?\n",
    "```python\n",
    "x = 5*3\n",
    "y = 5\n",
    "a = x > 20\n",
    "b = y > 3\n",
    "\n",
    "print(a and b)\n",
    "```"
   ]
  },
  {
   "cell_type": "markdown",
   "metadata": {
    "id": "WTRfVVzLWFIp"
   },
   "source": [
    "## <font color='#e76f51'>Strings</font>"
   ]
  },
  {
   "cell_type": "markdown",
   "metadata": {
    "id": "-t4WlB9DWptH"
   },
   "source": [
    "**Textual data** in Python is handled with *strings*, which correspond to the `str` object.\n",
    "\n",
    "Strings are **written** in a variety of ways:\n",
    "* single quotes: `'allows embedded \"double\" quotes'`\n",
    "* double quotes: `\"allows embedded 'single' quotes\"`\n",
    "* triple quotes: `'''Three single quotes'''`, `\"\"\"Three double quotes\"\"\"`. Triple quote strings may span multiple lines - all associated whitespaces will be included in the string literal.\n",
    "\n",
    "A string is a list of characters, which can be letters, spaces, symbols, or Unicode characters in general. When spanning multiple lines the corresponding Unicode character `\\n` for the new line is added to the list, for example:\n",
    "```python\n",
    "s = 'my long sentence string\\nspanning multiple\\nlines'\n",
    "```\n",
    "\n",
    "Python defines basic operations between strings and useful built-in functions.\n",
    "\n",
    "|  | Meaning | Example |\n",
    "| --- | --- | --- |\n",
    "| `+`  | concatenate two strings  | `\"hello\" + \"world\"` returns the string `\"helloworld\"`|\n",
    "| `len(s)`  | returns the lentgh in characters of the string `s`  | `len(\"hello\")` returns 5|\n",
    "| `s[i]` | if `i` is an integer number, it returns the i-th character (starting from 0) of the string `s` | `\"hello\"[2]` returns `l` |"
   ]
  },
  {
   "cell_type": "code",
   "execution_count": 3,
   "metadata": {
    "colab": {
     "base_uri": "https://localhost:8080/"
    },
    "id": "sPcRevV-KLUX",
    "outputId": "59452d38-74fb-4d65-bdd5-95deed66e952"
   },
   "outputs": [
    {
     "name": "stdout",
     "output_type": "stream",
     "text": [
      "this is a string\n",
      "16\n"
     ]
    }
   ],
   "source": [
    "s1 = \"this\"\n",
    "s2 = \"is\"\n",
    "s3 = \"a\"\n",
    "s4 = \"string\"\n",
    "\n",
    "s = s1 + \" \" + s2 + \" \" + s3 + \" \" + s4\n",
    "print(s)\n",
    "print(len(s))"
   ]
  },
  {
   "cell_type": "markdown",
   "metadata": {
    "id": "tUZan4Lzhv1R"
   },
   "source": [
    "**String formatting**\n",
    "\n",
    "String formatting is a powerfull tool to format text to, for example, print your results. This can be achieved by leaving \"placeholders\" `{}` in the string and the programmatically adding the values using the `.format()` method of the string. All the placeholders MUST be filled. Same order as the values specified in the `format()` method.\n",
    "\n",
    "For example, the string `\"{}-{}\".format(1,2)` will be `\"1-2\"` and `\"{}-{}\".format(1,'test')` will be `\"1-test\"`\n"
   ]
  },
  {
   "cell_type": "code",
   "execution_count": 4,
   "metadata": {
    "colab": {
     "base_uri": "https://localhost:8080/"
    },
    "id": "T1AVo7z9iDqP",
    "outputId": "58503fe1-ad98-4a11-fdb8-1daaafd0adea"
   },
   "outputs": [
    {
     "name": "stdout",
     "output_type": "stream",
     "text": [
      "First value: 10, second value: 5, result=15\n"
     ]
    }
   ],
   "source": [
    "val1 = 10\n",
    "val2 = 5\n",
    "val_res = 10+5\n",
    "\n",
    "result_str = \"First value: {}, second value: {}, result={}\"\n",
    "\n",
    "print(result_str.format(val1, val2, val_res))"
   ]
  },
  {
   "cell_type": "code",
   "execution_count": 5,
   "metadata": {
    "colab": {
     "base_uri": "https://localhost:8080/"
    },
    "id": "XtUwPnUqigYN",
    "outputId": "8f6805d4-2754-4029-fc46-d33666b3fd28"
   },
   "outputs": [
    {
     "name": "stdout",
     "output_type": "stream",
     "text": [
      "First value: 1, second value: 1, result=2\n"
     ]
    }
   ],
   "source": [
    "#  patter can be reused\n",
    "print(result_str.format(1,1,1+1))"
   ]
  },
  {
   "cell_type": "markdown",
   "metadata": {
    "id": "We1jM0fAHtCs"
   },
   "source": [
    "## <font color='#e9c46a'>Exercises</font>"
   ]
  },
  {
   "cell_type": "markdown",
   "metadata": {
    "id": "w65Va9qJHuF7"
   },
   "source": [
    "**Exercise 1-3**\n",
    "\n",
    "What does the following code do?\n",
    "```python\n",
    "x = \"hello\"\n",
    "y = \"world\"\n",
    "z = 7.6\n",
    "s = x + \" \" + y\n",
    "\n",
    "print(s[int(z)])\n",
    "```"
   ]
  },
  {
   "cell_type": "markdown",
   "metadata": {
    "id": "qM8c6w8dISQz"
   },
   "source": [
    "## <font color='#e76f51'>Lists</font>"
   ]
  },
  {
   "cell_type": "markdown",
   "metadata": {
    "id": "HpNtqr5XIWNS"
   },
   "source": [
    "Lists are mutable **sequences of objects**, typically used to store collections of same-type objects (but Python allows also inhomogeneous lists).\n",
    "\n",
    "Lists can be constructed in several different ways.\n",
    "  * Using a pair of square brackets to create an empty list: `[]`.\n",
    "  * Using square brackets, separating items with commas: `[a]`, `[a, b, c]`.\n",
    "  * Using the type constructor: `list()` or `list(iterable)`, where `iterable` is a sequence of objects.\n",
    "The **order of the items** in the list is the same given in the assignation. The objects contained in the list are called **elements** of the list.\n",
    "\n",
    "For example, the following code:\n",
    "```python\n",
    "test_list = [1,2,3]\n",
    "print(type(test_list))\n",
    "```\n",
    "prints `<class 'list'>`. `test_list` is an ordered list containing three objects, 1, 2, and 3 respectively.\n",
    "\n",
    "Python defines basic operations between lists and useful built-in functions, similarly to strings.\n",
    "\n",
    "|  | Meaning | Example |\n",
    "| --- | --- | --- |\n",
    "| `+`  | concatenate two lists  | `[1,2] + [2,3]` returns the list `[1,2,2,3]`|\n",
    "| `len(l)`  | returns the lentgh of the list `l`  | `len([42])` returns 1|\n",
    "| `l[i]` | if `i` is an integer number, it returns the i-th element (starting from 0) of the list `l` | `[7,23,2][1]` returns `23` |\n",
    "| `l[-1]` | returns the last element of the list `l` | `[7,23,2][-1]` returns `2` |\n"
   ]
  },
  {
   "cell_type": "code",
   "execution_count": 6,
   "metadata": {
    "colab": {
     "base_uri": "https://localhost:8080/"
    },
    "id": "dJGcIivwKdqO",
    "outputId": "4ff755df-58fb-434b-cceb-f445ca0e1757"
   },
   "outputs": [
    {
     "name": "stdout",
     "output_type": "stream",
     "text": [
      "7\n",
      "3\n"
     ]
    }
   ],
   "source": [
    "l = [1, 2, 3, 4, 5, 6, 7]\n",
    "print(len(l))\n",
    "print(l[2])"
   ]
  },
  {
   "cell_type": "code",
   "execution_count": 7,
   "metadata": {
    "colab": {
     "base_uri": "https://localhost:8080/"
    },
    "id": "ftoHzk12Ln6t",
    "outputId": "80008000-b5c2-40f8-b538-38fe10981ff6"
   },
   "outputs": [
    {
     "name": "stdout",
     "output_type": "stream",
     "text": [
      "[5, 8, 3, 4]\n"
     ]
    }
   ],
   "source": [
    "l1 = [5]\n",
    "l2 = [8,3,4]\n",
    "print(l1 + l2)"
   ]
  },
  {
   "cell_type": "markdown",
   "metadata": {
    "id": "gdDsNvaGKjBi"
   },
   "source": [
    "\n",
    "**Elements may be added** to an existing list with the `append` function. Elements are always added at the end of the list. The syntax is as follows:\n",
    "```python\n",
    "test_list = [1,2,3]\n",
    "test_list.append (42)\n",
    "print(test_list)\n",
    "```\n",
    "which prints `[1,2,3,42]`. The dot (`.`) between `test_list` and the function `append` indicates that **the function has to act on that specific list**, which in this case is **changed** by the function.\n",
    "\n",
    "Remember that lists are **mutable** objects, so they can be changed by functions that act on them."
   ]
  },
  {
   "cell_type": "code",
   "execution_count": 8,
   "metadata": {
    "colab": {
     "base_uri": "https://localhost:8080/"
    },
    "id": "zI4_FQ5RLcrp",
    "outputId": "e8cb1d5d-ba7c-431e-e439-0cdabe4298b0"
   },
   "outputs": [
    {
     "name": "stdout",
     "output_type": "stream",
     "text": [
      "['a', 'b', 'c']\n",
      "['a', 'b', 'c', 'z']\n"
     ]
    }
   ],
   "source": [
    "l = [\"a\", \"b\", \"c\"]\n",
    "print(l)\n",
    "l.append(\"z\")\n",
    "print(l)"
   ]
  },
  {
   "cell_type": "markdown",
   "metadata": {
    "id": "gXuEMmMXIV0g"
   },
   "source": [
    "There are many useful operations that can be performed on lists. We have seen some already, but it is important to keep the following in mind:\n",
    "- `test_list_1 + test_list_2`\n",
    "  - returns a new list which is the concatenation of `test_list_1` and `test_list_2`.\n",
    "  ```python\n",
    "  test_list_1 = [1,2]\n",
    "  test_list_2 = [2,3]\n",
    "  print(test_list_1 + test_list_2)\n",
    "  ```\n",
    "  will print `[1,2,2,3]`.\n",
    "- `test_list * n` or `n * test_list`\n",
    "  - equivalent to adding `test_list` to itself `n` times.\n",
    "  ```python\n",
    "  test_list = [1,2,3]\n",
    "  print(test_list * 3)\n",
    "  ```\n",
    "  will print `[1,2,3,1,2,3,1,2,3]`.\n",
    "- `test_list[i]`\n",
    "  - returns the i-th item of `test_list`, starting to count from 0.\n",
    "  ```python\n",
    "  test_list = [1,2,3]\n",
    "  print(test_list[1])\n",
    "  ```\n",
    "  will print `2`.\n",
    "- `test_list[i:j]`\n",
    "  - returns a sub-list, called *slice*, containing the elements of `test_list` from `i` (included) to `j` (excluded).\n",
    "  ```python\n",
    "  test_list = [0,1,2,3,4,5,6]\n",
    "  print(test_list[1:4])\n",
    "  ```\n",
    "  will print `[1,2,3]`.\n",
    "- `test_list[i:j:k]`\n",
    "  - returns a sub-list containing the elements of `test_list` from `i` (included) to `j` (ecluded) with step `k`.\n",
    "  ```python\n",
    "  test_list = [0,1,2,3,4,5,6]\n",
    "  print(test_list[1:5:2])\n",
    "  ```\n",
    "  will print `[1,3]`.\n",
    "- `len(test_list)`\n",
    "  - returns number of elements contained in `test_list`.\n",
    "- `min(test_list)`\n",
    "  - Built-in function that returns smallest item of `test_list`.\n",
    "- `max(test_list)`\n",
    "  - Built-in function that returns the largest item of `test_list`.\n",
    "- `test_list.count(x)`\n",
    "  - counts the total number of occurrences of `x` in `test_list`.\n",
    "\n",
    "Notice that all these operations and functions can be also used in strings, which are essentially lists of characters.\n"
   ]
  },
  {
   "cell_type": "markdown",
   "metadata": {
    "id": "3y2oZFz2OdBA"
   },
   "source": [
    "## <font color='#e9c46a'>Exercises</font>"
   ]
  },
  {
   "cell_type": "markdown",
   "metadata": {
    "id": "GsLavdsDOevf"
   },
   "source": [
    "**Exercise 1-4**\n",
    "\n",
    "What does the following code do?\n",
    "```python\n",
    "list_1 = [1]\n",
    "list_2 = [42]\n",
    "l = list_1 + 3 * list_2\n",
    "print(l)\n",
    "```"
   ]
  },
  {
   "cell_type": "markdown",
   "metadata": {
    "id": "KajNqocePIcT"
   },
   "source": [
    "**Exercise 1-5**\n",
    "\n",
    "What does the following code do?\n",
    "```python\n",
    "l = [1,2,3,4,5,4,3,2,1]\n",
    "print(l[1:-1:3])\n",
    "```"
   ]
  },
  {
   "cell_type": "markdown",
   "metadata": {
    "id": "OCxy5IeTQUas"
   },
   "source": [
    "**Exercise 1-6**\n",
    "\n",
    "What does the following code do?\n",
    "```python\n",
    "l = [1,2,3,4,5]\n",
    "l.append(6)\n",
    "l[0] = 42\n",
    "print(l)\n",
    "```"
   ]
  },
  {
   "cell_type": "markdown",
   "metadata": {
    "id": "a1sMushiP9OR"
   },
   "source": [
    "## <font color='#e76f51'>Touples</font>"
   ]
  },
  {
   "cell_type": "markdown",
   "metadata": {
    "id": "Z8KOcfx6QAXv"
   },
   "source": [
    "Similarly to lists, touples are ordered sequences of objects that **cannot be changed after being created** and thus are not mutable. It is not possible to append new elements to a touple, or to change an element of a touple.\n",
    "\n",
    "Touples are defined using parentheses:\n",
    "```python\n",
    "a = (1,2,3)\n",
    "```\n",
    "We can access elements of a touple via indexing as with lists, for example, `a[0]`."
   ]
  },
  {
   "cell_type": "markdown",
   "metadata": {
    "id": "VydT6HMURDQi"
   },
   "source": [
    "## <font color='#e9c46a'>Exercises</font>"
   ]
  },
  {
   "cell_type": "markdown",
   "metadata": {
    "id": "ZcuvtTwPRF06"
   },
   "source": [
    "**Exercise 1-7**\n",
    "\n",
    "What does the following code do? Will it execute?\n",
    "```python\n",
    "l = (1,2,3,4,5)\n",
    "l[0] = 42\n",
    "print(l)\n",
    "```"
   ]
  },
  {
   "cell_type": "markdown",
   "metadata": {
    "id": "s-0uYOdEa0Di"
   },
   "source": [
    "## <font color='#e76f51'>Dictionaries</font>"
   ]
  },
  {
   "cell_type": "markdown",
   "metadata": {
    "id": "M3W1BdvzbHAs"
   },
   "source": [
    "Dictionaries are a built-in Python data structure for mapping keys to values.\n",
    "Defined usign curly brackets, each element of this data structure is of the type `key:value`\n",
    "\n",
    "```python\n",
    "d = {'a':1, 'b':\"value of key b\", 'c': [1,2,3,4]}\n",
    "```\n",
    "\n",
    "It is possible to get the content of the key `key1` using squared brackets `d[key1]`. This is similar to lists with the only difference that you access the element by name and not position index\n",
    "```python\n",
    "print(d['a'])\n",
    "# prints 1\n",
    "```\n",
    "\n",
    "A dictionary can be defined empty, and the key-value pairs added later\n",
    "```python\n",
    "d1 = {}\n",
    "d1['key1'] = 0\n",
    "d1['key2'] = 'new key'\n",
    "\n",
    "# modify the value of a key\n",
    "d1['key1'] = 10\n",
    "\n",
    "# increment the same key by one\n",
    "d1['key1'] = d1['key1'] + 1\n",
    "```\n",
    "\n",
    "Question: what will `print(d1['ke1'])` return?\n",
    "\n",
    "Modifying the value of a variable and store the results back in the same variable is a common pattern. It can be performed in a less verbose way\n",
    "```python\n",
    "d1['key1'] += 1 # equivalente to d1['key1'] = d1['key1'] + 1\n",
    "d1['key1'] *= 2 # equivalente to d1['key1'] = d1['key1'] * 2\n",
    "...\n",
    "```\n"
   ]
  },
  {
   "cell_type": "markdown",
   "metadata": {
    "id": "k06acl8bYVrA"
   },
   "source": [
    "# <font color='#e9c46a'>Review exercises</font>"
   ]
  },
  {
   "cell_type": "markdown",
   "metadata": {
    "id": "ijml3BA-Yf6h"
   },
   "source": [
    "**Exercise 1-8**\n",
    "\n",
    "Write a Python script that defines three variables. The first variable `v1` should be a string with the first five letters of the alphabet. The second variable `v2` should be a list containing the first five numbers starting from zero. The third variable `v3` should be a tuple containing the numbers 11, 22, 33, 44, 55.\n",
    "\n",
    "Print the three variables in order, and their length. Print the second element from each of them.\n",
    "\n",
    "Define three new variable that contains only the first three elements of `v1`, `v2` and `v3`. Print them."
   ]
  },
  {
   "cell_type": "code",
   "execution_count": 23,
   "metadata": {},
   "outputs": [
    {
     "name": "stdout",
     "output_type": "stream",
     "text": [
      "abcde [0, 1, 2, 3, 4, 5] (11, 22, 33, 44, 55) 5 6 5 c 2 33\n",
      "abc [0, 1, 2] (11, 22, 33)\n"
     ]
    }
   ],
   "source": [
    "v1 = \"abcde\"\n",
    "v2 = [0,1,2,3,4,5]\n",
    "v3 = (11,22,33,44,55)\n",
    "\n",
    "print(v1, v2, v3, len(v1), len(v2), len(v3), v1[2], v2[2], v3[2])\n",
    "\n",
    "v4 = v1[:3]\n",
    "v5 = v2[:3]\n",
    "v6 = v3[:3]\n",
    "\n",
    "print(v4,v5,v6)"
   ]
  },
  {
   "cell_type": "markdown",
   "metadata": {
    "id": "wEju4mGHaAg8"
   },
   "source": [
    "**Exercise 1-9**\n",
    "\n",
    "Write a Python script in which you define a list with 10 numbers of your choice. Print the maximum and the minimum of the list.\n",
    "\n",
    "Print the maximum and the minimum of the first 5 and the last 5 elements of the list.\n",
    "\n",
    "Print the maximum and minimum of elements of even and odd index, e.g. l[i] where i=0,2,4,... and i=1,3,5,...<br>\n",
    "Imagine having a list with 10000 elements, try to not use the index explicitly. (Suggestion, create a new list with only the elements you want to consider)"
   ]
  },
  {
   "cell_type": "code",
   "execution_count": 42,
   "metadata": {},
   "outputs": [
    {
     "name": "stdout",
     "output_type": "stream",
     "text": [
      "Il minimo della lista è:  1\n",
      "Il massimo della lista è:  103\n",
      "100\n",
      "103\n"
     ]
    }
   ],
   "source": [
    "myList = [2, 5, 1, 100, 3, 11, 45, 56, 87, 103, 39]\n",
    "print(\"Il minimo della lista è: \", min(myList[:4]))\n",
    "print(\"Il massimo della lista è: \", max(myList[4:]))\n",
    "\n",
    "even = []\n",
    "odd = []\n",
    "\n",
    "for n in myList:\n",
    "    if n % 2 == 0:\n",
    "        even.append(n)\n",
    "    else:\n",
    "        odd.append(n)\n",
    "\n",
    "print(max(even))\n",
    "print(max(odd))\n",
    "         "
   ]
  },
  {
   "cell_type": "markdown",
   "metadata": {
    "id": "i0MEx-BoaBig"
   },
   "source": [
    "**Exercise 1-10**\n",
    "\n",
    "Write a Python script that counts the number of vowels in the string `The quick brown fox jump over the lazy dog`. Print the number of `a`, `e`, `i`, `o`, and `u`.\n",
    "\n",
    "Print the minimum and the maximum of the the string. Can you understand the results?"
   ]
  },
  {
   "cell_type": "code",
   "execution_count": 53,
   "metadata": {},
   "outputs": [
    {
     "name": "stdout",
     "output_type": "stream",
     "text": [
      "11\n",
      " \n",
      "z\n"
     ]
    }
   ],
   "source": [
    "def vowel_count(myString):\n",
    "    count = 0 \n",
    "\n",
    "    vowel = set(\"aeiouAEIOU\")\n",
    "    for i in myString:\n",
    "        if i in vowel:\n",
    "            count = count + 1\n",
    "    print(count)\n",
    "\n",
    "myString = \"The quick brown fox jump over the lazy dog\"\n",
    "\n",
    "vowel_count(myString)\n",
    "\n",
    "print(min(myString))\n",
    "print(max(myString))"
   ]
  },
  {
   "cell_type": "markdown",
   "metadata": {
    "id": "IP_SQ96dfUdj"
   },
   "source": [
    "**Exercise 1-11**\n",
    "\n",
    "Define a dictionary `d` containing an integer number for `key1`, a list of 5  `[1,2,3,4,5]` in `key2` and the string `\"!dlroW ,olleH\"` in `key3`.\n",
    "\n",
    "1. Increment by 10 the number contained in `key1` (`key1` should contain the updated value)\n",
    "2. Add the value of `key1` to the third value of the list of `key2` and store it in a new key `key4`\n",
    "3. Reverse the string of `key3` and save the correct result under the same key\n",
    "4. Print the content of the keys to check that they contain the correct result\n",
    "\n",
    "\n",
    "\n"
   ]
  },
  {
   "cell_type": "code",
   "execution_count": 71,
   "metadata": {},
   "outputs": [
    {
     "name": "stdout",
     "output_type": "stream",
     "text": [
      "{'key1': 12.5, 'key2': [1, 2, 3, 4, 5], 'key3': 'Hello, World!', 'key4': 15.5}\n"
     ]
    }
   ],
   "source": [
    "myDict = {'key1': 2.5, 'key2': [1, 2, 3, 4, 5], 'key3': '!dlroW ,olleH'}\n",
    "\n",
    "myDict['key1'] = myDict['key1'] + 10\n",
    "myDict['key4'] = myDict['key2'][2] + myDict['key1']\n",
    "myDict['key3'] = myDict['key3'][::-1]\n",
    "\n",
    "print(myDict)\n",
    "\n"
   ]
  },
  {
   "cell_type": "markdown",
   "metadata": {
    "id": "ZencXVkTjlE0"
   },
   "source": [
    "**General Exercises**\n",
    "\n",
    "Play around with the code seen in the lecture! explore variables, string formatting, list and dictionarie. Be confortable with assigning and reusing variables. If you errors are encountered try to understand what is the cause"
   ]
  }
 ],
 "metadata": {
  "colab": {
   "provenance": []
  },
  "kernelspec": {
   "display_name": "Python 3 (ipykernel)",
   "language": "python",
   "name": "python3"
  },
  "language_info": {
   "codemirror_mode": {
    "name": "ipython",
    "version": 3
   },
   "file_extension": ".py",
   "mimetype": "text/x-python",
   "name": "python",
   "nbconvert_exporter": "python",
   "pygments_lexer": "ipython3",
   "version": "3.9.7"
  }
 },
 "nbformat": 4,
 "nbformat_minor": 1
}
