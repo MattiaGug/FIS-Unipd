{
 "cells": [
  {
   "cell_type": "markdown",
   "metadata": {
    "id": "KJPRp6pl4XMs"
   },
   "source": [
    "# <font color='#e76f51'>Control flow tools</font>\n",
    "\n",
    "Up to now, code was executed line by line, starting from the beginning of the file down to its end. We have seen functions that allow us to reuse bits of code defined before. In this lecture, we will explore two other tools:\n",
    "\n",
    "* The conditional `if/else` statement, responsible for executing programming blocks based on a specified condition.\n",
    "* `for/while` loops, used to repeat a set of actions multiple times or iterate over items of any Python iterable, e.g., a list or a string.\n"
   ]
  },
  {
   "cell_type": "markdown",
   "metadata": {
    "id": "GHQIOtLh6-px"
   },
   "source": [
    "# <font color='#e76f51'>Conditional statements</font>\n",
    "\n",
    "## <font color='#e76f51'>if-else statements</font>\n",
    "\n",
    "The Python if statement is a conditional statement responsible for executing programming blocks based on a specified condition.\n",
    "\n",
    "The syntax is quite simple and intuitive: there is the `if` keyword followed by the condition that we want to test. If the condition is `True`, then the code inside the `if` scope will be executed.\n",
    "```python\n",
    "if condition:\n",
    "    print('Condition is , if statement evaluated')\n",
    "    my_function()\n",
    "```\n",
    "\n",
    "for examle, if we wand to do an action only if a number is even we can do this\n",
    "```python\n",
    "num = 4\n",
    "if num%2==0:\n",
    "    print(' Number is even')\n",
    "    num *= 10\n",
    "    # ... more operations\n",
    "```\n",
    "\n",
    "Notice that we are using the same indentation rule of a function: code having the same indentation level will \"belong\" to the same scope. This means that all the code with the same, or deeper, identation will be evluated in the same if statement.\n",
    "\n",
    "```python\n",
    "num = 4\n",
    "if num%2==0:\n",
    "    print('Number is even')\n",
    "    if num%4==0:\n",
    "        print('Number is divisible by 4')\n",
    "        num -= 1\n",
    "    num *= 10\n",
    "print('This is outside the if, it will allways be executed')\n",
    "print('Number: '+str(num))\n",
    "```\n",
    "\n",
    "The `if` statement is complemented by the `else` statemnent, which is executued if the statement in the `if` is false\n",
    "```python\n",
    "num = 10\n",
    "if (num>=0) and (num<5):\n",
    "    print('Number is 0<=num<5')\n",
    "else:\n",
    "    print('Number is outside 0<=num<5 interval')\n",
    "```\n",
    "\n",
    "Notice that the `else` statement has the same indentation level as the `if`."
   ]
  },
  {
   "cell_type": "markdown",
   "metadata": {
    "id": "ujDMOf7-GGYi"
   },
   "source": [
    "**Exercise**\n",
    "\n",
    "Define a function `check_range` that takes as input a number `x`, two more numbers `a,b` and checks if `x` is in the range $a\\leq x \\leq b$. If it, the function returns `True`, `False` otherwise.\n",
    "\n",
    "Define another function, called `test_number` and taking as input a number `x`, which uses the function `check_range` to check if the number is in the range ( $0\\leq x \\leq100$). If it is not, the function returns `False`. If `x` is in that range, the function print that the first check was passed and further check if the number is in any of this two ranges: $10\\leq x \\leq20$ or $90\\leq x \\leq100$. Return `True` if the condition is valid, `False` otherwise."
   ]
  },
  {
   "cell_type": "code",
   "execution_count": 2,
   "metadata": {},
   "outputs": [
    {
     "ename": "TypeError",
     "evalue": "check_range() missing 2 required positional arguments: 'a' and 'b'",
     "output_type": "error",
     "traceback": [
      "\u001b[0;31m---------------------------------------------------------------------------\u001b[0m",
      "\u001b[0;31mTypeError\u001b[0m                                 Traceback (most recent call last)",
      "\u001b[0;32m/var/folders/pg/ccyl3brd18x3ytjk5l39tgy00000gn/T/ipykernel_5709/3367922895.py\u001b[0m in \u001b[0;36m<module>\u001b[0;34m\u001b[0m\n\u001b[1;32m     16\u001b[0m             \u001b[0;32mreturn\u001b[0m \u001b[0;32mFalse\u001b[0m\u001b[0;34m\u001b[0m\u001b[0;34m\u001b[0m\u001b[0m\n\u001b[1;32m     17\u001b[0m \u001b[0;34m\u001b[0m\u001b[0m\n\u001b[0;32m---> 18\u001b[0;31m \u001b[0mchecker\u001b[0m \u001b[0;34m=\u001b[0m \u001b[0mtest_number\u001b[0m\u001b[0;34m(\u001b[0m\u001b[0;36m12\u001b[0m\u001b[0;34m)\u001b[0m\u001b[0;34m\u001b[0m\u001b[0;34m\u001b[0m\u001b[0m\n\u001b[0m\u001b[1;32m     19\u001b[0m \u001b[0;34m\u001b[0m\u001b[0m\n\u001b[1;32m     20\u001b[0m \u001b[0mprint\u001b[0m\u001b[0;34m(\u001b[0m\u001b[0mchecker\u001b[0m\u001b[0;34m)\u001b[0m\u001b[0;34m\u001b[0m\u001b[0;34m\u001b[0m\u001b[0m\n",
      "\u001b[0;32m/var/folders/pg/ccyl3brd18x3ytjk5l39tgy00000gn/T/ipykernel_5709/3367922895.py\u001b[0m in \u001b[0;36mtest_number\u001b[0;34m(x)\u001b[0m\n\u001b[1;32m      4\u001b[0m \u001b[0;34m\u001b[0m\u001b[0m\n\u001b[1;32m      5\u001b[0m \u001b[0;32mdef\u001b[0m \u001b[0mtest_number\u001b[0m\u001b[0;34m(\u001b[0m\u001b[0mx\u001b[0m\u001b[0;34m)\u001b[0m\u001b[0;34m:\u001b[0m\u001b[0;34m\u001b[0m\u001b[0;34m\u001b[0m\u001b[0m\n\u001b[0;32m----> 6\u001b[0;31m     \u001b[0mcheck\u001b[0m \u001b[0;34m=\u001b[0m \u001b[0mcheck_range\u001b[0m\u001b[0;34m(\u001b[0m\u001b[0mx\u001b[0m\u001b[0;34m)\u001b[0m\u001b[0;34m\u001b[0m\u001b[0;34m\u001b[0m\u001b[0m\n\u001b[0m\u001b[1;32m      7\u001b[0m     \u001b[0;32mif\u001b[0m \u001b[0mcheck\u001b[0m \u001b[0;34m==\u001b[0m \u001b[0;32mFalse\u001b[0m\u001b[0;34m:\u001b[0m\u001b[0;34m\u001b[0m\u001b[0;34m\u001b[0m\u001b[0m\n\u001b[1;32m      8\u001b[0m         \u001b[0;32mreturn\u001b[0m \u001b[0;32mFalse\u001b[0m\u001b[0;34m\u001b[0m\u001b[0;34m\u001b[0m\u001b[0m\n",
      "\u001b[0;31mTypeError\u001b[0m: check_range() missing 2 required positional arguments: 'a' and 'b'"
     ]
    }
   ],
   "source": [
    "def check_range(x, a, b):\n",
    "    if x > a and x < b:\n",
    "        return True\n",
    "\n",
    "def test_number(x):\n",
    "    check = check_range(x)\n",
    "    if check == False:\n",
    "        return False\n",
    "    else:\n",
    "        print(\"First check passed\")\n",
    "        if x > 10 and x < 20:\n",
    "            return True\n",
    "        elif x > 90 and x < 100:\n",
    "            return True\n",
    "        else:\n",
    "            return False\n",
    " \n",
    "checker = test_number(12)\n",
    "\n",
    "print(checker)"
   ]
  },
  {
   "cell_type": "markdown",
   "metadata": {
    "id": "f27nPbrsJ0mw"
   },
   "source": [
    "## <font color='#e76f51'>Elif</font>\n",
    "\n",
    "If we want to test multiple conditions we can use the `elif` statement (else if)\n",
    "```python\n",
    "if condition1:\n",
    "    do_something1()\n",
    "elif condition2:\n",
    "    do_something2()\n",
    "elif condition3:\n",
    "    do_something3()\n",
    "else:\n",
    "    do_something_different()\n",
    "```\n",
    "\n",
    "this evaluates the second statement if the first is false, the third if the second is false and so on. Imagine to have a model returning the healt score in the range 0-100. if we want to change the status based on different ranges of that score we can do:\n",
    "```python\n",
    "if num_health > 80:\n",
    "    status = \"good\"\n",
    "elif num_health > 50:\n",
    "    status = \"okay\"\n",
    "elif num_health > 0:\n",
    "    status = \"danger\"\n",
    "else:\n",
    "    status = \"dead\"\n",
    "```\n",
    "\n",
    "Why not using only `if` instead? if we use a series of `if` statements they will all be evaluated individually. Let's consider the previous example:\n",
    "```python\n",
    "if num_health > 80:\n",
    "    status = \"good\"\n",
    "if num_health > 50:\n",
    "    status = \"okay\"\n",
    "if num_health > 0:\n",
    "    status = \"danger\"\n",
    "else:\n",
    "    status = \"dead\"\n",
    "```\n",
    "\n",
    "Assuming to have `num_healt = 90`, the first if would be `True` hence `status='good'`. But then the second if is evaluated, and givent that `90 > 50` we have `status='okay'`. In the same way, `num_healt>0`, hence `status='danger'`. In this example, just by using `if` insted of `elif` lead to a wrong result.\n",
    "\n",
    "That's why you should be careful when you are using a sequence of if statements. The usage of `if/elif` depends on what you want to achieve."
   ]
  },
  {
   "cell_type": "markdown",
   "metadata": {
    "id": "_iO-L-FR2NBS"
   },
   "source": [
    "# <font color='#e76f51'>Loops</font>\n",
    "\n",
    "As the name suggests, loops are a way to repeatedly execute some code.\n",
    "\n",
    "## <font color='#e76f51'>For-Loops</font>\n",
    "\n",
    "A \"for-loop\" allows you to iterate over a collection of items, and execute a block of code once for each iteration. The basic sintax is the following\n",
    "\n",
    "```python\n",
    "for variable in iterable:\n",
    "    do_something(variable)\n",
    "    do_something_else()\n",
    "```\n",
    "\n",
    "An itarable is a container where you can iterate over its content: for example, if we want to print a string for every element of the list we would need to write N print statements, where N is the size of the list. With the help of a for loop, we can automatically repeate this action  "
   ]
  },
  {
   "cell_type": "code",
   "execution_count": 4,
   "metadata": {
    "colab": {
     "base_uri": "https://localhost:8080/"
    },
    "id": "K620Oa-H3jmG",
    "outputId": "fd9c169c-ae69-4140-fe21-bb405b878994"
   },
   "outputs": [
    {
     "name": "stdout",
     "output_type": "stream",
     "text": [
      "original element: 1, modified: 2\n",
      "original element: 2, modified: 3\n",
      "original element: 3, modified: 4\n",
      "original element: 4, modified: 5\n"
     ]
    }
   ],
   "source": [
    "# print elements of the list and element+1\n",
    "l = [1,2,3,4]\n",
    "\n",
    "for element in l:\n",
    "    print('original element: {}, modified: {}'.format(element, element+1))"
   ]
  },
  {
   "cell_type": "code",
   "execution_count": 6,
   "metadata": {
    "colab": {
     "base_uri": "https://localhost:8080/"
    },
    "id": "MhIxiJiQ4pmU",
    "outputId": "25ad4915-960a-4d63-e04b-88bc69e693e2"
   },
   "outputs": [
    {
     "name": "stdout",
     "output_type": "stream",
     "text": [
      "H\n",
      "e\n",
      "l\n",
      "l\n",
      "o\n",
      "!\n"
     ]
    }
   ],
   "source": [
    "s = \"Hello!\"\n",
    "\n",
    "for c in s:\n",
    "    print(c)"
   ]
  },
  {
   "cell_type": "markdown",
   "metadata": {
    "id": "NfYA0T_l43Hs"
   },
   "source": [
    "Sometimes we need to define our own iterable in order to loop over other collection. We can achieve this with the function `range(start, stop, step)` which returns a sequence of numbers, starting from 0 by default, and increments by 1 (by default), and stops before a specified number. The only required parameter is `stop`, meaning that if we call the function `range(5)` it will generate a sequence of integer `0,1,2,3,4` (5 is not included)."
   ]
  },
  {
   "cell_type": "code",
   "execution_count": 7,
   "metadata": {
    "colab": {
     "base_uri": "https://localhost:8080/"
    },
    "id": "VivrWvxI41sb",
    "outputId": "33d9c388-04e1-4a1e-f642-c61d54fccb4d"
   },
   "outputs": [
    {
     "name": "stdout",
     "output_type": "stream",
     "text": [
      "0\n",
      "1\n",
      "2\n",
      "3\n",
      "4\n"
     ]
    }
   ],
   "source": [
    "for i in range(5):\n",
    "    print(i)"
   ]
  },
  {
   "cell_type": "code",
   "execution_count": 8,
   "metadata": {
    "colab": {
     "base_uri": "https://localhost:8080/"
    },
    "id": "AspWB0IP597b",
    "outputId": "e0508807-f49e-44d3-db17-672ffdc2e9f1"
   },
   "outputs": [
    {
     "name": "stdout",
     "output_type": "stream",
     "text": [
      "Element at index 0 is: 23\n",
      "Element at index 1 is: 11\n",
      "Element at index 2 is: 22\n",
      "Element at index 3 is: 45\n",
      "Element at index 4 is: 1\n"
     ]
    }
   ],
   "source": [
    "l = [23,11,22,45,1]\n",
    "\n",
    "for i in range(len(l)):\n",
    "    element = l[i]\n",
    "    print('Element at index {} is: {}'.format(i, element))"
   ]
  },
  {
   "cell_type": "markdown",
   "metadata": {
    "id": "lhIxKHpt6bUH"
   },
   "source": [
    "This is usefull to perform operations containing multiple elements of the iterable. For example, let's count the number of elements in a list such that the element $x_i$ is greater than the element at $x_{i+1}$"
   ]
  },
  {
   "cell_type": "code",
   "execution_count": 9,
   "metadata": {
    "colab": {
     "base_uri": "https://localhost:8080/"
    },
    "id": "gIGOZUDW631u",
    "outputId": "d913967d-e801-4afe-a472-c6ef4b4d2e9a"
   },
   "outputs": [
    {
     "name": "stdout",
     "output_type": "stream",
     "text": [
      "Count: 2\n"
     ]
    }
   ],
   "source": [
    "l = [23,11,22,45,1]\n",
    "\n",
    "count = 0\n",
    "for i in range(len(l)-1):\n",
    "    x = l[i]   # element x_i\n",
    "    y = l[i+1] # element x_i+1\n",
    "\n",
    "    if y>x:\n",
    "        count += 1\n",
    "\n",
    "print('Count: {}'.format(count))"
   ]
  },
  {
   "cell_type": "markdown",
   "metadata": {
    "id": "g3mreR-6B4xx"
   },
   "source": [
    "**Exercise**\n",
    "\n",
    "Compute the Euclidean distance between two N-Dimensional vectors. Each vector is described by a tuple ($x_0$, ..., $x_{N-1}$)"
   ]
  },
  {
   "cell_type": "markdown",
   "metadata": {
    "id": "JSRk5dxLQeSQ"
   },
   "source": [
    "**Exercise**\n",
    "\n",
    "Print the first 5 elements of the list `l=[12,3,5,6,3,2,6,7,8]`, one per row"
   ]
  },
  {
   "cell_type": "markdown",
   "metadata": {
    "id": "3U5vVm_XQeOZ"
   },
   "source": [
    "**Exercise**\n",
    "Define a function taking two inputs: a list of numbers `l` and a number `theshold`. The function returns the sum and the count of elements of the list above the threshold. For example, if `l=[3,1,5,6]` and `threshold=4` the function returns `s=11, cont=2`"
   ]
  },
  {
   "cell_type": "markdown",
   "metadata": {
    "id": "_mTHPuB6IrLU"
   },
   "source": [
    "### <font color='#e76f51'>Break and continue</font>\n",
    "\n",
    "You may need to interrupt a loop when a particolar condition is met. This can be achieved via the `break` statement. For example, in the following code, as soon as an element greater than 10 is found in a list `l` the loop is stoped\n",
    "\n",
    "```python\n",
    "for x in l:\n",
    "    if x>10:\n",
    "        break\n",
    "```\n",
    "\n",
    "On the other hand it might be usefill to skip the rest of the iteration if a condition is me. This is done thanks to the `continue` statement.\n",
    "For example, let's pretend that we have a function that is expensive to be evaluated, but we can skip it if some characteristics are met\n",
    "\n",
    "```python\n",
    "for x in l:\n",
    "    if not condition(x):\n",
    "        continue\n",
    "    expensive_function(x)\n",
    "```\n",
    "\n"
   ]
  },
  {
   "cell_type": "markdown",
   "metadata": {
    "id": "0HYgaDmga22I"
   },
   "source": [
    "**Exercise**\n",
    "\n",
    "Use a loop and the continue keyword to print out every character in the string \"Python\", except the \"o\"."
   ]
  },
  {
   "cell_type": "markdown",
   "metadata": {
    "id": "uBMZ1QUoNKe4"
   },
   "source": [
    "**Exercise**\n",
    "\n",
    "Write a function `search_word` used to search a `word` in a string `s`. Both of them are parameters of the function. Stop the loop as soon as the word has been fount.\n",
    "Use the following string\n",
    "```python\n",
    "s = \"One ring to rule them all, one ring to find them, One ring to bring them all and in the darkness bind them.\"\n",
    "```\n",
    "\n",
    "Hints:\n",
    "\n",
    "1) You will need to remove the punctuation. Remember the method `replace` of a string\n",
    "```python\n",
    "\"Hello world\".replace('l', '')\n",
    "```\n",
    "will replace the letter `l` with an empty string.\n",
    "\n",
    "2) You can use the method `split` to split a string in multiple substrings\n",
    "```python\n",
    "\"Hello world\".split(' ') # splitting by a space\n",
    "```\n",
    "will return the list `['Hello', 'world']`"
   ]
  },
  {
   "cell_type": "markdown",
   "metadata": {
    "id": "iYIZfZetUV52"
   },
   "source": [
    "## <font color='#e76f51'>While-Loops</font>\n",
    "\n",
    "The other type of loop in Python is a while loop, which iterates until some condition is met. The structure is the following\n",
    "\n",
    "```python\n",
    "while condition:\n",
    "    do_something()\n",
    "```\n",
    "\n",
    "for example:"
   ]
  },
  {
   "cell_type": "code",
   "execution_count": 35,
   "metadata": {
    "colab": {
     "base_uri": "https://localhost:8080/"
    },
    "id": "gu5ktbSxVJVJ",
    "outputId": "66998b15-c6c6-45cb-b754-bfc91d9cf725"
   },
   "outputs": [
    {
     "name": "stdout",
     "output_type": "stream",
     "text": [
      "10\n",
      "9\n",
      "8\n",
      "7\n",
      "6\n",
      "5\n",
      "4\n",
      "3\n",
      "2\n",
      "1\n"
     ]
    }
   ],
   "source": [
    "counter = 10\n",
    "while counter>0:\n",
    "    print(counter)\n",
    "    counter -= 1"
   ]
  },
  {
   "cell_type": "markdown",
   "metadata": {
    "id": "93Rdx2UJZwyA"
   },
   "source": [
    "This is usefull when working with numerical methods, e.g. newton's method to find the 0 of a function, where you want to continue as long as you don't reach the required precision.\n",
    "\n",
    "Warning: be careful to not end up in infinite loops! always remember to update the condition."
   ]
  },
  {
   "cell_type": "markdown",
   "metadata": {
    "id": "x4mnAF0SXOQ6"
   },
   "source": [
    "**Exercise**\n",
    "\n",
    "Write a function that, given a list of numers, returns the sum of the even numbers. Do it using a while loop."
   ]
  },
  {
   "cell_type": "code",
   "execution_count": null,
   "metadata": {},
   "outputs": [],
   "source": [
    "def fun_for(l):\n",
    "    sum = 0 \n",
    "    for el in l:\n",
    "        if el % 2 ==0:\n",
    "            sum += el\n",
    "    return sum \n",
    "\n",
    "def func_while(l):\n",
    "    sum = 0 \n",
    "    i = 0\n",
    "    while i<len(l):\n",
    "        if l[i]%2==0:\n",
    "            sum += l[i]\n",
    "        i += 1\n",
    "    return sum\n",
    "\n",
    "l = []\n",
    "\n"
   ]
  },
  {
   "cell_type": "markdown",
   "metadata": {
    "id": "B5qcWT1LfsTA"
   },
   "source": [
    "## <font color='#e76f51'>Usefull functions</font>\n",
    "\n",
    "When working with loops there are many function that can help us. We have seen the `range` function, used to generate a sequence of numbers.\n",
    "\n",
    "Another common function is `zip`. This function \"sticks\" together two iterables eith the same length, e.g. iterate at the same time on both containers."
   ]
  },
  {
   "cell_type": "code",
   "execution_count": 41,
   "metadata": {
    "colab": {
     "base_uri": "https://localhost:8080/"
    },
    "id": "ScgAB6wQgka2",
    "outputId": "b2f70254-60a2-4321-b13a-96b1341d416a"
   },
   "outputs": [
    {
     "name": "stdout",
     "output_type": "stream",
     "text": [
      "a: a1, b: b1\n",
      "a: a2, b: b2\n",
      "a: a3, b: b3\n",
      "a: a4, b: b4\n"
     ]
    }
   ],
   "source": [
    "a = ['a1', 'a2', 'a3', 'a4']\n",
    "b = ['b1', 'b2', 'b3', 'b4']\n",
    "\n",
    "for (el_a, el_b) in zip(a, b):\n",
    "    print('a: {}, b: {}'.format(el_a, el_b))"
   ]
  },
  {
   "cell_type": "code",
   "execution_count": 2,
   "metadata": {},
   "outputs": [
    {
     "name": "stdout",
     "output_type": "stream",
     "text": [
      "a: a1, b: b1\n",
      "a: a2, b: b2\n",
      "a: a3, b: b3\n",
      "a: a4, b: b4\n"
     ]
    }
   ],
   "source": [
    "a = ['a1', 'a2', 'a3', 'a4']\n",
    "b = ['b1', 'b2', 'b3', 'b4']\n",
    "\n",
    "\n",
    "for i in range(len(a)):\n",
    "    el_a = a[i]\n",
    "    el_b = b[i]\n",
    "\n",
    "    print(\"a: {}, b: {}\".format(el_a,el_b))"
   ]
  },
  {
   "cell_type": "markdown",
   "metadata": {
    "id": "2QsgQJ6mhBjx"
   },
   "source": [
    "**Exercise**\n",
    "\n",
    "Write a function that fill and return a list similar to this one `['a1', 'a2', 'a3', 'a4']`. The input parameters are a base string `s` and the number of elements `n`. Each element of the list is constructed by appending a counter, starting from 1. In the previous example `s='a'` and `n=4`."
   ]
  },
  {
   "cell_type": "markdown",
   "metadata": {
    "id": "CEuY33raif3H"
   },
   "source": [
    "Another common function is `enumerate`. Similar to `zip`, it gives access to an index along with the element you are iterating on."
   ]
  },
  {
   "cell_type": "code",
   "execution_count": 3,
   "metadata": {},
   "outputs": [
    {
     "name": "stdout",
     "output_type": "stream",
     "text": [
      "['a1', 'a2', 'a3', 'a4']\n"
     ]
    }
   ],
   "source": [
    "def fun(s, n):\n",
    "    l = []\n",
    "    for i in range(n):\n",
    "        l.append(\"{}{}\".format(s, i+1))\n",
    "    return l\n",
    "print(fun(\"a\", 4))"
   ]
  },
  {
   "cell_type": "code",
   "execution_count": 42,
   "metadata": {
    "colab": {
     "base_uri": "https://localhost:8080/"
    },
    "id": "gADPbTV6jHbp",
    "outputId": "4ba25687-4d10-4cc6-a4d6-3a00e169aaf4"
   },
   "outputs": [
    {
     "name": "stdout",
     "output_type": "stream",
     "text": [
      "0-a\n",
      "1-b\n",
      "2-c\n"
     ]
    }
   ],
   "source": [
    "for i, el in enumerate(['a', 'b', 'c']):\n",
    "    print(f'{i}-{el}')"
   ]
  },
  {
   "cell_type": "markdown",
   "metadata": {
    "id": "V7bdmrRhSQqd"
   },
   "source": [
    "# <font color='#e76f51'>Review exercises</font>\n"
   ]
  },
  {
   "cell_type": "markdown",
   "metadata": {
    "id": "xDCVYi9BSlfA"
   },
   "source": [
    "### <font color='#e76f51'>Exercises on If/else</font>"
   ]
  },
  {
   "cell_type": "markdown",
   "metadata": {
    "id": "saHeM4G-SlcA"
   },
   "source": []
  },
  {
   "cell_type": "markdown",
   "metadata": {
    "id": "mKUl5NKs-eIM"
   },
   "source": [
    "**Exercise**\n",
    "\n",
    "1) Define a function named `is_even` taking as input a integer number `n` and returning `True` if `n` is even, `False` if it is odd.\n",
    "\n",
    "2) Define now a function called `process_number` which takes as input a number `x`:\n",
    "* Check the type of `x` and print it (should be a float/integer)\n",
    "* Then, if `x` is not an integer, convert it (cast) to `int` and print a message saying that you are converting it to an integer.\n",
    "* use the function `is_even` to check if it is even or odd\n",
    "* if it is even, print a string saying that the number `x` is even, else odd.\n",
    "\n",
    "3) Data cleaning: you should check if the input `x` of the function is a data type that you where expecting. A careless user may attempt to use the function with a list! In python, you can check if an element is contained in a list with the following statement\n",
    "```python\n",
    "a = 3\n",
    "valid_values = [1,2,3,4]\n",
    "if (a in valid_values):\n",
    "    print('a ({}) is cointained in the list {}'.format(a, valid_values))\n",
    "else:\n",
    "    print('a ({}) is not cointained in the list {}'.format(a, valid_values))\n",
    "```\n",
    "Use this to modify the function `process_number` to check if the type of the argument `x` is float/integer (`[flaot, int]`). If the type is different, print an error message saying that the input is not valid and exit from the function (`return None`). Otherwise, do the same processing as before (check `is_even`, ...)"
   ]
  },
  {
   "cell_type": "markdown",
   "metadata": {
    "id": "EwyxrOwkSy7V"
   },
   "source": [
    "### <font color='#e76f51'>Exercises on for loops </font>"
   ]
  },
  {
   "cell_type": "markdown",
   "metadata": {
    "id": "LkNw0FwVeoBP"
   },
   "source": [
    "**Exercise**\n",
    "\n",
    "Write a python function that prints this pattern:\n",
    "\n",
    "```\n",
    "*\n",
    "* *\n",
    "* * *\n",
    "* * * *\n",
    "* * * * *\n",
    "* * * *\n",
    "* * *\n",
    "* *\n",
    "*\n",
    "```\n",
    "\n",
    "the maximum height of the triangle is defined by a parameter `n`"
   ]
  },
  {
   "cell_type": "markdown",
   "metadata": {
    "id": "UYGbB5II7znv"
   },
   "source": [
    "**Exercise**\n",
    "\n",
    "Define a function `fill_list` taking as input parameters:\n",
    "* `n` number of elements in the list\n",
    "* `mode` string indicating which type of filling mode we want to use.\n",
    "and returning a list filled in different ways, based on the `mode` we choose.\n",
    "\n",
    "Mode can assume three value: `\"odd\"`, `\"even\"` or `\"regulare\"`.\n",
    "If  regular, the list will contain `n` elements starting from 1. If `odd`, the function will multiply every odd number by `-1`. If `even`, then even number will be multiplied by `-1`.\n",
    "\n",
    "Use the function `is_even` defined in the previous exercise."
   ]
  },
  {
   "cell_type": "markdown",
   "metadata": {
    "id": "zEnqlRIG7nLb"
   },
   "source": [
    "**Exercise**\n",
    "\n",
    "Define a function `count_negatives` taking as iunput a list of numbers and counting the number of negatives. Use the function `fill_list` defined before to create a list."
   ]
  },
  {
   "cell_type": "markdown",
   "metadata": {
    "id": "NBs0lbiNFETu"
   },
   "source": [
    "**Exercise**\n",
    "\n",
    "Define a function `fill_gauss` which fills a list with `n` points sampled from a normal distribution and returns it, where `n` is an input parameter.\n",
    "\n",
    " You can sample a point from a normal distribution using the `gauss` function present in the standard module `random`. To access the functions present in this module you will need first of all to add this line to on the top of your script\n",
    "\n",
    "```python\n",
    "import random\n",
    "```\n",
    "\n",
    "what this is doing is importing all the functions available in the `random` package. A package is nothing more than a collection of custom objectes and functions.\n",
    "\n",
    "Now, you can use the function `gauss` with\n",
    "```python\n",
    "random.gauss(mu=5, sigma=1)\n",
    "```"
   ]
  },
  {
   "cell_type": "code",
   "execution_count": null,
   "metadata": {
    "colab": {
     "base_uri": "https://localhost:8080/"
    },
    "id": "rSwaBacZE9Wy",
    "outputId": "fae7050c-489c-438f-d242-f95862d18964"
   },
   "outputs": [
    {
     "name": "stdout",
     "output_type": "stream",
     "text": [
      "4.544601831390989\n"
     ]
    }
   ],
   "source": [
    "import random\n",
    "\n",
    "print(random.gauss(mu=5, sigma=1))"
   ]
  },
  {
   "cell_type": "markdown",
   "metadata": {
    "id": "nljdAjn5Gx9Q"
   },
   "source": [
    "**Exercise**\n",
    "\n",
    "Define a function taking as inpunt a list of measurements produced from the function `fill_gauss` and returns mean and standard deviation.\n",
    "$$\n",
    "\\mu = \\sum_{i=1}^N \\frac{x_i}{N} \\qquad \\sigma = \\sqrt{ \\sum_{i=1}^N \\frac{(x_i-\\mu)^2}{N-1}}\n",
    "$$\n",
    "\n",
    "try to use the square root function available in the `math` module. You will need to import it at the top of your script and then call `math.sqrt()`"
   ]
  },
  {
   "cell_type": "markdown",
   "metadata": {
    "id": "6fPEOt3rZJ3S"
   },
   "source": [
    "### <font color='#e76f51'>Exercises on while loops </font>"
   ]
  },
  {
   "cell_type": "markdown",
   "metadata": {
    "id": "IK1EH_q5ZLqz"
   },
   "source": [
    "**Exercise**\n",
    "Write a function to find the factorial of a number `n` using a while loop."
   ]
  }
 ],
 "metadata": {
  "colab": {
   "provenance": []
  },
  "kernelspec": {
   "display_name": "Python 3 (ipykernel)",
   "language": "python",
   "name": "python3"
  },
  "language_info": {
   "codemirror_mode": {
    "name": "ipython",
    "version": 3
   },
   "file_extension": ".py",
   "mimetype": "text/x-python",
   "name": "python",
   "nbconvert_exporter": "python",
   "pygments_lexer": "ipython3",
   "version": "3.9.7"
  }
 },
 "nbformat": 4,
 "nbformat_minor": 1
}
