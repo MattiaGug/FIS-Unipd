{
 "cells": [
  {
   "cell_type": "markdown",
   "metadata": {
    "deletable": false,
    "editable": false,
    "nbgrader": {
     "checksum": "bd09799d819bb3301d53cfc25ec1a05a",
     "grade": false,
     "grade_id": "header",
     "locked": true,
     "schema_version": 1,
     "solution": false
    }
   },
   "source": [
    "# 2020-01-14 Exam\n",
    "\n",
    "### General Instructions:\n",
    "\n",
    "Welcome to the **Python Programming (for Data Science)** exam session! Please, read **carefully** the instructions below before start writing code. \n",
    "This session will last **60 minutes** (plus any additional time gained during the first part of the exam) and is worth 10 points.\n",
    "\n",
    "You will earn all of the points associated to an exercise **if and only if** the answer you provide passes successfully **all** the tests for that exercise (both those that are visible and those that are hidden to you). Some exercises do not have a set of predefined tests and will be evaulated line by line.<br />\n",
    "\n",
    "To actually write down your implementation, make sure to fill in any place that says <code style=\"color:green\">**_# YOUR CODE HERE_**</code>. Note also that you should **either comment or delete** any <code style=\"color:green\">**raise NotImplementedError()**</code> exception.<br />\n",
    "\n",
    "For this exam session **you will not be allowed** to use any lecture material yet you will be able to access the following APIs:\n",
    "\n",
    "-  [Python](https://docs.python.org/)\n",
    "-  [Numpy](https://numpy.org/)\n",
    "-  [Scipy](https://docs.scipy.org/)\n",
    "-  [Pandas](https://pandas.pydata.org/)\n",
    "-  [Matplotlib](https://matplotlib.org/)\n",
    "-  [Seaborn](http://seaborn.pydata.org/)\n",
    "-  [SciKit-Learn](http://scikit-learn.org/stable/)\n",
    "\n",
    "Once you are done, save this notebook and rename it as follows:\n",
    "\n",
    "<code>**YOURUSERNAME_2021-01-14.ipynb**</code>\n",
    "\n",
    "where <code>**YOURUSERNAME**</code> is your actual username. To be consistent, we are expecting your username to be composed by your first name's initial, followed by your full lastname. As an example, in my case this notebook must be saved as <code>**dinunzio_2021-01-14.ipynb**</code> (Remember to insert an underscore <code>**'_'**</code> between your username and the date).<br />\n",
    "\n",
    "Finally, go back to [Moodle](https://esami.elearning.unipd.it/) and check for the \"**2020-01-14 Python Programming Exam**\" item; there, you will be able to upload your notebook file for grading.\n",
    "\n",
    "<center><h3>Submissions are allowed **until <span style=\"color:red\">Thursday, 14 January 2021 at 10:00 AM</span>**</h3></center>\n",
    "\n",
    "Note that there is no limit on the number of submissions; however, be careful when you upload a new version of this notebook because each submission overwrites the previous one. \n",
    "The due date indicated above is **strict**; after that, the system will not accept any more submissions and the latest uploaded notebook will be the one considered for grading.\n",
    "\n",
    "The archive you have downloaded (<code style=\"color:magenta\">**2021-01-14-exam.zip**</code>) is orgaized as follows:\n",
    "\n",
    "<code style=\"color:red\">**2021-01-14-exam**</code> (root)<br />\n",
    "|----<code style=\"color:green\">**2021-01-14.ipynb**</code> (_this_ notebook)<br />\n",
    "|----<code>**dataset.csv**</code> (the dataset you will be using for answering data science related questions)<br />\n",
    "|----<code>**factbook.db**</code> (the sqlite database of the CIA factbook)<br />\n",
    "|----<code>**factbook.sql**</code> (the sql code that was used to create the table contained in the factbook.db)<br />\n",
    "|----<code>**README.txt**</code> (a description of the dataset.csv file)\n",
    "\n",
    "<center><h3>... Now, sit back, relax, and do your best!</h3></center>"
   ]
  },
  {
   "cell_type": "markdown",
   "metadata": {
    "deletable": false,
    "nbgrader": {
     "checksum": "6555c5024084cb8965381a37a29377c9",
     "grade": false,
     "grade_id": "name",
     "locked": true,
     "schema_version": 1,
     "solution": false
    }
   },
   "source": [
    "**First Name** = Your _first name_ here\n",
    "\n",
    "**Last Name** = Your _last name_ here"
   ]
  },
  {
   "cell_type": "code",
   "execution_count": 1,
   "metadata": {
    "deletable": false,
    "nbgrader": {
     "checksum": "df28b1c7ab22dda58c560c68231fe2dd",
     "grade": false,
     "grade_id": "import",
     "locked": true,
     "schema_version": 1,
     "solution": false
    }
   },
   "outputs": [
    {
     "ename": "ModuleNotFoundError",
     "evalue": "No module named 'nose'",
     "output_type": "error",
     "traceback": [
      "\u001b[0;31m---------------------------------------------------------------------------\u001b[0m",
      "\u001b[0;31mModuleNotFoundError\u001b[0m                       Traceback (most recent call last)",
      "\u001b[0;32m<ipython-input-1-c7a4087cd5dd>\u001b[0m in \u001b[0;36m<module>\u001b[0;34m\u001b[0m\n\u001b[1;32m     10\u001b[0m \u001b[0;31m#%matplotlib inline\u001b[0m\u001b[0;34m\u001b[0m\u001b[0;34m\u001b[0m\u001b[0;34m\u001b[0m\u001b[0m\n\u001b[1;32m     11\u001b[0m \u001b[0;32mimport\u001b[0m \u001b[0mseaborn\u001b[0m \u001b[0;32mas\u001b[0m \u001b[0msns\u001b[0m\u001b[0;34m\u001b[0m\u001b[0;34m\u001b[0m\u001b[0m\n\u001b[0;32m---> 12\u001b[0;31m \u001b[0;32mfrom\u001b[0m \u001b[0mnose\u001b[0m\u001b[0;34m.\u001b[0m\u001b[0mtools\u001b[0m \u001b[0;32mimport\u001b[0m \u001b[0massert_equal\u001b[0m\u001b[0;34m\u001b[0m\u001b[0;34m\u001b[0m\u001b[0m\n\u001b[0m\u001b[1;32m     13\u001b[0m \u001b[0;32mfrom\u001b[0m \u001b[0mscipy\u001b[0m\u001b[0;34m.\u001b[0m\u001b[0mstats\u001b[0m \u001b[0;32mimport\u001b[0m \u001b[0mnorm\u001b[0m\u001b[0;34m\u001b[0m\u001b[0;34m\u001b[0m\u001b[0m\n\u001b[1;32m     14\u001b[0m \u001b[0;34m\u001b[0m\u001b[0m\n",
      "\u001b[0;31mModuleNotFoundError\u001b[0m: No module named 'nose'"
     ]
    }
   ],
   "source": [
    "import math\n",
    "from operator import itemgetter\n",
    "\n",
    "import matplotlib.pyplot as plt\n",
    "import numpy as np\n",
    "import pandas as pd\n",
    "\n",
    "# Adding the following line, allows Jupyter Notebook to visualize plots\n",
    "# produced by matplotlib directly below the code cell which generated those.\n",
    "#%matplotlib inline\n",
    "import seaborn as sns\n",
    "from nose.tools import assert_equal\n",
    "from scipy.stats import norm\n",
    "\n",
    "EPSILON = 0.0000001  # tiny tolerance for managing subtle differences resulting from floating point operations\n",
    "\n",
    "DATASET_FILE = \"dataset.csv\""
   ]
  },
  {
   "cell_type": "markdown",
   "metadata": {
    "deletable": false,
    "editable": false,
    "nbgrader": {
     "checksum": "a52bd02aadcf37b2a9a7902a274b37de",
     "grade": false,
     "grade_id": "part-2",
     "locked": true,
     "schema_version": 1,
     "solution": false
    }
   },
   "source": [
    "## Exercise 1 (1 point)\n",
    "\n",
    "In this part, you will be working with the dataset file <code>**dataset.csv**</code>. For a complete description of this data source, please refer to the <code>**README.txt**</code>.\n",
    "In a nutshell, this is a sample of **1,000 instances** from a larger dataset containing census and demographic information for a set of citizens.\n",
    "Each citizen (i.e., row in the file) is described by **14** features (i.e., columns) and labeled with an binary value (i.e., the 15th and last column called <code>**income_greater_than_50k**</code>), which takes on two values: **-1** (indicating the citizen's yearly income is **below or equal than** 50k dollars) or **+1**, otherwise.<br />\n",
    "The cell below is responsible for correctly loading the dataset from the <code>**dataset.csv**</code> file. Once this is executed, you can start answering the questions below."
   ]
  },
  {
   "cell_type": "code",
   "execution_count": null,
   "metadata": {
    "deletable": false,
    "nbgrader": {
     "checksum": "fc9f53954bf9a264ce3644816b3d9476",
     "grade": false,
     "grade_id": "part-2-required",
     "locked": true,
     "schema_version": 1,
     "solution": false
    }
   },
   "outputs": [],
   "source": [
    "# Load the dataset stored at `DATASET_FILE` in a variable names \"data\" using \",\" as field separator and '?' to detect NAs\n",
    "\n",
    "# YOUR CODE HERE\n",
    "data = pd.read_csv(\"dataset.csv\", sep=\",\", na_values=[\"?\"])\n",
    "\n",
    "# check the first lines of your dataset\n",
    "data.head()\n",
    "\n",
    "## THERE IS NO TEST OF CORRECTNESS FOR THIS PART"
   ]
  },
  {
   "cell_type": "markdown",
   "metadata": {
    "deletable": false,
    "editable": false,
    "nbgrader": {
     "checksum": "f2f21c70d077c99447baa15fd4d24d31",
     "grade": false,
     "grade_id": "exercise-2-1-text",
     "locked": true,
     "schema_version": 1,
     "solution": false
    }
   },
   "source": [
    "## Exercise 2 (1 point)\n",
    "\n",
    "Implement the function <code>**avg_capital_gain_per_age**</code> below. This takes as input a <code>**pandas.DataFrame**</code> object and an integer value <code>**age**</code>, and returns the **average** value of <code>**capital_gain**</code> of citizens having that age.\n",
    "\n",
    "(**NOTE:** If the input age is not present, the <code>**mean()**</code> function is robust and returns <code>**np.nan**</code>)"
   ]
  },
  {
   "cell_type": "code",
   "execution_count": null,
   "metadata": {
    "deletable": false,
    "nbgrader": {
     "checksum": "b68b3232f9f44f7019a50215ccb0f621",
     "grade": false,
     "grade_id": "exercise-2-1-code",
     "locked": false,
     "schema_version": 1,
     "solution": true
    }
   },
   "outputs": [],
   "source": [
    "def avg_capital_gain_per_age(data, age):\n",
    "    \"\"\"\n",
    "    Return the average value of capital gain for citizens having a specific age.\n",
    "    \"\"\"\n",
    "    # YOUR CODE HERE\n",
    "    subset = data[data[\"age\"] == age]\n",
    "    return subset[\"capital_gain\"].mean()"
   ]
  },
  {
   "cell_type": "code",
   "execution_count": null,
   "metadata": {
    "deletable": false,
    "editable": false,
    "nbgrader": {
     "checksum": "adcd920200e5b732a2a653cfed878063",
     "grade": true,
     "grade_id": "exercise-2-1-test",
     "locked": true,
     "points": 1,
     "schema_version": 1,
     "solution": false
    }
   },
   "outputs": [],
   "source": [
    "\"\"\"\n",
    "Test the correctness of the implementation of the `avg_capital_gain_per_age` function\n",
    "\"\"\"\n",
    "\n",
    "assert_equal(\n",
    "    True, np.abs(192.80769230769232 - avg_capital_gain_per_age(data, 32)) < EPSILON\n",
    ")\n",
    "assert_equal(0.0, avg_capital_gain_per_age(data, 27))\n",
    "assert_equal(2330.0, avg_capital_gain_per_age(data, 48))"
   ]
  },
  {
   "cell_type": "markdown",
   "metadata": {
    "deletable": false,
    "editable": false,
    "nbgrader": {
     "checksum": "ee3b7bfac50d3363762e53cf35b5ba4b",
     "grade": false,
     "grade_id": "exercise-2-2-text",
     "locked": true,
     "schema_version": 1,
     "solution": false
    }
   },
   "source": [
    "## Exercise 3 (1 point)\n",
    "\n",
    "Implement the function <code>**hours_per_week_stats**</code> below. This takes as input a <code>**pandas.DataFrame**</code> object and returns a tuple containing the min, max, avg, and median value of <code>**hours_per_week**</code>, yet computed on a _slice_ of the input <code>**pandas.DataFrame**</code>.<br />\n",
    "The sliced dataset represents the subpopulation containing **female** citizens whose age is **between 36 and 49 years old** (extremes included), who were born in the **United-States** and having a value of <code>**education_num**</code> **strictly greater than** the _overall_ average."
   ]
  },
  {
   "cell_type": "code",
   "execution_count": null,
   "metadata": {},
   "outputs": [],
   "source": [
    "data.head(1)"
   ]
  },
  {
   "cell_type": "code",
   "execution_count": null,
   "metadata": {
    "deletable": false,
    "nbgrader": {
     "checksum": "9e714bddf557ed341cc8ec008361126f",
     "grade": false,
     "grade_id": "exercise-2-2-code",
     "locked": false,
     "schema_version": 1,
     "solution": true
    }
   },
   "outputs": [],
   "source": [
    "def hours_per_week_stats(data):\n",
    "    \"\"\"\n",
    "    Return a tuple containing the min, max, avg, and median value of `hours_per_week` feature,\n",
    "    yet limited to a slice of the input DataFrame (data).\n",
    "    In particular, this slice will contain instances referring to female citizens\n",
    "    whose age is between 36 and 49 (extremes included) born in the United-States\n",
    "    and having a value of education_num strictly above the overall population average.\n",
    "    \"\"\"\n",
    "    # YOUR CODE HERE\n",
    "    education_num_avg = data[\"education_num\"].mean()\n",
    "    subset = data[\n",
    "        (data[\"sex\"] == \"Female\")\n",
    "        & (data[\"age\"].between(36, 49))\n",
    "        & (data[\"native_country\"] == \"United-States\")\n",
    "        & (data[\"education_num\"] > education_num_avg)\n",
    "    ]\n",
    "    \n",
    "    per_week = subset[\"hours_per_week\"]\n",
    "    return tuple([per_week.min(), per_week.max(), per_week.mean(), per_week.median()])"
   ]
  },
  {
   "cell_type": "code",
   "execution_count": null,
   "metadata": {
    "deletable": false,
    "editable": false,
    "nbgrader": {
     "checksum": "3950b368373b4fe2f374e1cc94f98255",
     "grade": true,
     "grade_id": "exercise-2-2-test",
     "locked": true,
     "points": 3,
     "schema_version": 1,
     "solution": false
    }
   },
   "outputs": [],
   "source": [
    "\"\"\"\n",
    "Test the correctness of the implementation of the `hours_per_week_stats` function\n",
    "\"\"\"\n",
    "\n",
    "# Call off `hours_per_week_stats` function\n",
    "stats = hours_per_week_stats(data)\n",
    "\n",
    "assert_equal(5, stats[0])\n",
    "assert_equal(60, stats[1])"
   ]
  },
  {
   "cell_type": "markdown",
   "metadata": {
    "deletable": false,
    "editable": false,
    "nbgrader": {
     "checksum": "167926701c33e36728bb7b47f90ec032",
     "grade": false,
     "grade_id": "exercise-2-3-text",
     "locked": true,
     "schema_version": 1,
     "solution": false
    }
   },
   "source": [
    "## Exercise 4 (2 points)\n",
    "\n",
    "Implement the function <code>**standardize_dataset**</code>, which takes as input a <code>**pandas.DataFrame**</code> object and modifies it by creating **new** columns corresponding to the **standardized** values of _numerical_ columns only, except for the target column, i.e., the very last column named <code>**income_greater_than_50k**</code>.<br />\n",
    "To standardize a column $X$, each original value $x\\in X$ should be modified with $x_{\\text{std}}$ as follows:\n",
    "\n",
    "$$\n",
    "x_{\\text{std}} = \\frac{x - \\mu_X}{\\sigma_X}\n",
    "$$\n",
    "\n",
    "where $\\mu_X$ and $\\sigma_X$ are the **mean** and **standard deviation** computed across $X$, respectively.\n",
    "\n",
    "To be sure standardization is applied to a numerical column only, you can use the following built-in function:\n",
    "\n",
    "<code>**pd.api.types.infer_dtype(data[column], skipna=True)**</code>.\n",
    "\n",
    "If the value returned by this function is equal to the string <code>**'integer'**</code>, then you can apply the standardization.\n",
    "\n",
    "Finally, the naming convention for standardized columns is as follows: if <code>**column**</code> is the name of the original column, then its standardized version will be <code>**column_std**</code>."
   ]
  },
  {
   "cell_type": "code",
   "execution_count": null,
   "metadata": {
    "deletable": false,
    "nbgrader": {
     "checksum": "0f275f76c9ea80f47070fb325f1bdb4d",
     "grade": false,
     "grade_id": "exercise-2-3-code",
     "locked": false,
     "schema_version": 1,
     "solution": true
    }
   },
   "outputs": [],
   "source": [
    "def standardize_dataset(data):\n",
    "    # YOUR CODE HERE\n",
    "    subset = data.iloc[:, :-1]\n",
    "    cols = subset.columns\n",
    "    \n",
    "    for col in cols:\n",
    "        if pd.api.types.infer_dtype(subset[col], skipna=True) == \"integer\":\n",
    "            subset[col + \"_std\"] = subset[col].apply(lambda x: (x - subset[col].mean()) / subset[col].std())\n",
    "    return subset"
   ]
  },
  {
   "cell_type": "code",
   "execution_count": null,
   "metadata": {},
   "outputs": [],
   "source": [
    "data.shape"
   ]
  },
  {
   "cell_type": "code",
   "execution_count": null,
   "metadata": {},
   "outputs": [],
   "source": [
    "standardize_dataset(data)"
   ]
  },
  {
   "cell_type": "code",
   "execution_count": null,
   "metadata": {
    "deletable": false,
    "editable": false,
    "nbgrader": {
     "checksum": "8dd2f08b5ce5abdef5e30eb10e0cf870",
     "grade": true,
     "grade_id": "exercise-2-3-test",
     "locked": true,
     "points": 5,
     "schema_version": 1,
     "solution": false
    }
   },
   "outputs": [],
   "source": [
    "\"\"\"\n",
    "Test the correctness of the implementation of the `standardize_dataset` function\n",
    "\"\"\"\n",
    "\n",
    "# Call off `standardize_dataset` function on a copy of our original dataset\n",
    "data_cpy = data.copy()\n",
    "standardize_dataset(data_cpy)\n",
    "\n",
    "assert_equal(1000, data_cpy.shape[0])\n",
    "assert_equal(21, data_cpy.shape[1])\n",
    "assert_equal(\n",
    "    True, np.abs(0.093258105603949315 - data_cpy.iloc[42][\"age_std\"]) < EPSILON\n",
    ")\n",
    "assert_equal(\n",
    "    True, np.abs(-0.21956059890921917 - data_cpy.iloc[73][\"capital_loss_std\"]) < EPSILON\n",
    ")"
   ]
  },
  {
   "cell_type": "markdown",
   "metadata": {
    "deletable": false,
    "editable": false,
    "nbgrader": {
     "checksum": "d2b3af702cfead9c97f78c8887f2ce01",
     "grade": false,
     "grade_id": "exercise-2-4-1-text",
     "locked": true,
     "schema_version": 1,
     "solution": false
    }
   },
   "source": [
    "## Exercise 5 (1 point)\n",
    "\n",
    "Connect to the CIA Factbook database factbook.db and use an SQL query to select all the data of the columns *name* and *population* contained in the table *facts*. Build a pandas DataFrame with the result set in a varibale named *countries*. Rename the columns of the dataframe with the following names: \"country\", \"population\".\n"
   ]
  },
  {
   "cell_type": "code",
   "execution_count": null,
   "metadata": {
    "deletable": false,
    "nbgrader": {
     "checksum": "92e86bad0a1645fafef2d4d58cd7d014",
     "grade": false,
     "grade_id": "exercise-2-4-1-code",
     "locked": false,
     "schema_version": 1,
     "solution": true
    }
   },
   "outputs": [],
   "source": [
    "import sqlite3\n",
    "\n",
    "# YOUR CODE HERE\n",
    "raise NotImplementedError()\n",
    "\n",
    "## THERE IS NO TEST OF CORRECTNESS FOR THIS PART"
   ]
  },
  {
   "cell_type": "markdown",
   "metadata": {},
   "source": [
    "## Exercise 6 (1 point)\n",
    "\n",
    "Merge the dataframe *data* created in exercise 1 and the dataframe *countries* built in the previous exercise using the columns *native_country* and *country*, respectvely. Save the result in a new dataframe names *data_ext*."
   ]
  },
  {
   "cell_type": "code",
   "execution_count": null,
   "metadata": {},
   "outputs": [],
   "source": [
    "# YOUR CODE HERE\n",
    "raise NotImplementedError()"
   ]
  },
  {
   "cell_type": "code",
   "execution_count": null,
   "metadata": {
    "deletable": false,
    "editable": false
   },
   "outputs": [],
   "source": [
    "\"\"\"\n",
    "Test the correctness of the size of the merged dataset\"\"\"\n",
    "\n",
    "assert_equal(True, (data_ext.shape[0] == 56))"
   ]
  },
  {
   "cell_type": "markdown",
   "metadata": {},
   "source": [
    "## Exercise 7 (1 point)\n",
    "\n",
    "Split the *data_ext* dataframe into two dataframes using the \"masking\" approach. One dataframe, named \"lower\", must contain the rows of *data_ext* that have a population lower than the mean of the population of the dataframe *countries*; the other dataframe, named \"gr_eq\", must contain the rows of *data_ext* that have a population greater or equal than the mean of the population of the dataframe *countries*.\n"
   ]
  },
  {
   "cell_type": "code",
   "execution_count": null,
   "metadata": {},
   "outputs": [],
   "source": [
    "# YOUR CODE HERE\n",
    "raise NotImplementedError()\n",
    "\n",
    "\n",
    "## THERE IS NO TEST OF CORRECTNESS FOR THIS PART"
   ]
  },
  {
   "cell_type": "markdown",
   "metadata": {
    "deletable": false,
    "editable": false,
    "nbgrader": {
     "checksum": "c038056da5a06fe1fabac57e8f86e607",
     "grade": false,
     "grade_id": "exercise-2-4-2-text",
     "locked": true,
     "schema_version": 1,
     "solution": false
    }
   },
   "source": [
    "## Exercise 8 (2 points)\n",
    "\n",
    "Build a Figure object and create a 2 x 1 matrix of subplots.\n",
    "In the first subplot you must plot the histogram of the numerical feature <code>**age**</code> of the subset of data of countries with a popoulation lower than the mean using <code>**distplot**</code>.\n",
    "In the second subplot you must plot the histogram of the numerical feature <code>**age**</code> of the subset of data of countries with a popoulation greater or equal than the mean using <code>**distplot**</code>. For both histograms, use the provided list of bins named *age_bins*.\n"
   ]
  },
  {
   "cell_type": "code",
   "execution_count": null,
   "metadata": {},
   "outputs": [],
   "source": [
    "age_bins = [0, 10, 20, 30, 40, 50, 60, 70, 80, 90, 100]\n",
    "\n",
    "# YOUR CODE HERE\n",
    "raise NotImplementedError()\n",
    "\n",
    "\n",
    "## THERE IS NO TEST OF CORRECTNESS FOR THIS PART"
   ]
  }
 ],
 "metadata": {
  "kernelspec": {
   "display_name": "Python 3",
   "language": "python",
   "name": "python3"
  },
  "language_info": {
   "codemirror_mode": {
    "name": "ipython",
    "version": 3
   },
   "file_extension": ".py",
   "mimetype": "text/x-python",
   "name": "python",
   "nbconvert_exporter": "python",
   "pygments_lexer": "ipython3",
   "version": "3.8.6"
  }
 },
 "nbformat": 4,
 "nbformat_minor": 4
}
