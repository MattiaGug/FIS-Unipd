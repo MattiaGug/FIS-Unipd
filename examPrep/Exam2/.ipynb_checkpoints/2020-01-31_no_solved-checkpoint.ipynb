{
 "cells": [
  {
   "cell_type": "markdown",
   "metadata": {
    "deletable": false,
    "editable": false,
    "nbgrader": {
     "checksum": "bd09799d819bb3301d53cfc25ec1a05a",
     "grade": false,
     "grade_id": "header",
     "locked": true,
     "schema_version": 1,
     "solution": false
    }
   },
   "source": [
    "# 2020-01-31 Exam\n",
    "\n",
    "### General Instructions:\n",
    "\n",
    "Welcome to the **Python Programming (for Data Science)** exam session! Please, read **carefully** the instructions below before start writing code. \n",
    "\n",
    "This session will last **75 minutes** and is divided into **two parts**: one about \"general\" Python programming and the other about Python programming for Data Science. Each part is made of a set of exercises, which globally accounts for **16** + **16** = **32 points**.\n",
    "You will earn all of the points associated to an exercise **if and only if** the answer you provide passes successfully **all** the tests (both those that are visible and those that are hidden to you).<br />\n",
    "At the end of these two parts, there is a part related to Machine Learning which can be considered a **bonus** for the students who will achieve at least a score of 22.\n",
    "\n",
    "To actually write down your implementation, make sure to fill in any place that says <code style=\"color:green\">**_# YOUR CODE HERE_**</code>. Note also that you should **either comment or delete** any <code style=\"color:green\">**raise NotImplementedError()**</code> exception.<br />\n",
    "\n",
    "For this exam session **you will not be allowed** to use any lecture material yet you will be able to access the following APIs:\n",
    "\n",
    "-  [Python](https://docs.python.org/)\n",
    "-  [Numpy](https://numpy.org/)\n",
    "-  [Scipy](https://docs.scipy.org/)\n",
    "-  [Pandas](https://pandas.pydata.org/)\n",
    "-  [Matplotlib](https://matplotlib.org/)\n",
    "-  [Seaborn](http://seaborn.pydata.org/)\n",
    "-  [SciKit-Learn](http://scikit-learn.org/stable/)\n",
    "\n",
    "Once you are done, save this notebook and rename it as follows:\n",
    "\n",
    "<code>**YOURUSERNAME_2020-01-31.ipynb**</code>\n",
    "\n",
    "where <code>**YOURUSERNAME**</code> is your actual username. To be consistent, we are expecting your username to be composed by your first name's initial, followed by your full lastname. As an example, in my case this notebook must be saved as <code>**dinunzio_2020-01-31.ipynb**</code> (Remember to insert an underscore <code>**'_'**</code> between your username and the date).<br />\n",
    "\n",
    "Finally, go back to [Moodle](https://elearning.studenti.math.unipd.it/esami/) and check for the \"**2020-01-31 Python Programming Exam**\" item; there, you will be able to upload your notebook file for grading.\n",
    "\n",
    "<center><h3>Submissions are allowed **until <span style=\"color:red\">Friday, 31 January 2020 at 15:15 AM</span>**</h3></center>\n",
    "\n",
    "Note that there is no limit on the number of submissions; however, be careful when you upload a new version of this notebook because each submission overwrites the previous one. \n",
    "The due date indicated above is **strict**; after that, the system will not accept any more submissions and the latest uploaded notebook will be the one considered for grading.\n",
    "\n",
    "The archive you have downloaded (<code style=\"color:magenta\">**2020-01-31-exam.tar**</code>) is orgaized as follows:\n",
    "\n",
    "<code style=\"color:red\">**2020-01-31-exam**</code> (root)<br />\n",
    "|----<code style=\"color:green\">**2020-01-31.ipynb**</code> (_this_ notebook)<br />\n",
    "|----<code>**dataset.csv**</code> (the dataset you will be using for answering data science related questions)<br />\n",
    "|----<code>**README.txt**</code> (a description of the dataset above)\n",
    "\n",
    "<center><h3>... Now, sit back, relax, and do your best!</h3></center>"
   ]
  },
  {
   "cell_type": "markdown",
   "metadata": {
    "deletable": false,
    "nbgrader": {
     "checksum": "6555c5024084cb8965381a37a29377c9",
     "grade": false,
     "grade_id": "name",
     "locked": true,
     "schema_version": 1,
     "solution": false
    }
   },
   "source": [
    "**First Name** = Your _first name_ here\n",
    "\n",
    "**Last Name** = Your _last name_ here"
   ]
  },
  {
   "cell_type": "code",
   "execution_count": 12,
   "metadata": {
    "deletable": false,
    "nbgrader": {
     "checksum": "df28b1c7ab22dda58c560c68231fe2dd",
     "grade": false,
     "grade_id": "import",
     "locked": true,
     "schema_version": 1,
     "solution": false
    }
   },
   "outputs": [],
   "source": [
    "import math\n",
    "import numpy as np\n",
    "import pandas as pd\n",
    "import matplotlib.pyplot as plt\n",
    "# Adding the following line, allows Jupyter Notebook to visualize plots\n",
    "# produced by matplotlib directly below the code cell which generated those.\n",
    "%matplotlib inline\n",
    "import seaborn as sns\n",
    "from scipy.stats import norm\n",
    "from nose.tools import assert_equal\n",
    "from operator import itemgetter\n",
    "\n",
    "EPSILON = .0000001 # tiny tolerance for managing subtle differences resulting from floating point operations\n",
    "\n",
    "DATASET_FILE = \"dataset.csv\""
   ]
  },
  {
   "cell_type": "markdown",
   "metadata": {
    "deletable": false,
    "editable": false,
    "nbgrader": {
     "checksum": "925fe318bb5b3c40e50c66dcc2b05849",
     "grade": false,
     "grade_id": "part-1",
     "locked": true,
     "schema_version": 1,
     "solution": false
    }
   },
   "source": [
    "# Part 1: General Coding (16 points)\n",
    "\n",
    "For **Part 1**, you will be asked to use the _nested_ dictionary below - called <code>**ratings**</code> - which contains ratings given to movies by a small set of **7 users**.<br /> \n",
    "Please, execute the cell right below and answer the following questions."
   ]
  },
  {
   "cell_type": "code",
   "execution_count": 6,
   "metadata": {
    "deletable": false,
    "nbgrader": {
     "checksum": "ce0ec9230b1443666c9e37b949ef44ca",
     "grade": false,
     "grade_id": "part-1-required",
     "locked": true,
     "schema_version": 1,
     "solution": false
    }
   },
   "outputs": [],
   "source": [
    "ratings = {\n",
    "    'Lisa Rose': {\n",
    "        'Lady in the Water': 2.5,\n",
    "        'Snakes on a Plane': 3.5,\n",
    "        'Just My Luck': 3.0,\n",
    "        'Superman Returns': 3.5,\n",
    "        'You, Me and Dupree': 2.5,\n",
    "        'The Night Listener': 3.0,\n",
    "    },\n",
    "    'Gene Seymour': {\n",
    "        'Lady in the Water': 3.0,\n",
    "        'Snakes on a Plane': 3.5,\n",
    "        'Just My Luck': 1.5,\n",
    "        'Superman Returns': 5.0,\n",
    "        'The Night Listener': 3.0,\n",
    "        'You, Me and Dupree': 3.5,\n",
    "    },\n",
    "    'Michael Phillips': {\n",
    "        'Lady in the Water': 2.5,\n",
    "        'Snakes on a Plane': 3.0,\n",
    "        'Superman Returns': 3.5,\n",
    "        'The Night Listener': 4.0,\n",
    "    },\n",
    "    'Claudia Puig': {\n",
    "        'Snakes on a Plane': 3.5,\n",
    "        'Just My Luck': 3.0,\n",
    "        'The Night Listener': 4.5,\n",
    "        'Superman Returns': 4.0,\n",
    "        'You, Me and Dupree': 2.5,\n",
    "    },\n",
    "    'Mick LaSalle': {\n",
    "        'Lady in the Water': 3.0,\n",
    "        'Snakes on a Plane': 4.0,\n",
    "        'Just My Luck': 2.0,\n",
    "        'Superman Returns': 3.0,\n",
    "        'The Night Listener': 3.0,\n",
    "        'You, Me and Dupree': 2.0,\n",
    "    },\n",
    "    'Jack Matthews': {\n",
    "        'Lady in the Water': 3.0,\n",
    "        'Snakes on a Plane': 4.0,\n",
    "        'The Night Listener': 3.0,\n",
    "        'Superman Returns': 5.0,\n",
    "        'You, Me and Dupree': 3.5,\n",
    "    },\n",
    "    'Toby Jones': {\n",
    "        'Snakes on a Plane': 4.5, \n",
    "        'You, Me and Dupree': 1.0,\n",
    "        'Superman Returns': 4.0},\n",
    "}"
   ]
  },
  {
   "cell_type": "markdown",
   "metadata": {
    "deletable": false,
    "editable": false,
    "nbgrader": {
     "checksum": "def18ad0edf124fbb4addb7369c6418c",
     "grade": false,
     "grade_id": "exercise-1-1-text",
     "locked": true,
     "schema_version": 1,
     "solution": false
    }
   },
   "source": [
    "## Exercise 1.1 (1 point)\n",
    "\n",
    "Implement the function <code>**has_rated**</code> which takes as input two strings, i.e., <code>**user**</code> and <code>**movie**</code>, and returns <code>**True**</code> iff <code>**ratings**</code> contains a rating value for <code>**movie**</code> provided by <code>**user**</code>. If <code>**user**</code> has not provided _any_ rating at all, the function should **return** (i.e., not print!) the following string message: <code style=\"color:red\">**'User {user} has not rated any movie'**</code>, where <code>**{user}**</code> stands for the actual value referenced by <code>**user**</code>. For example, if <code>**user = 'John Smith'**</code> this will be: <code style=\"color:red\">**'User John Smith has not rated any movie'**</code>."
   ]
  },
  {
   "cell_type": "code",
   "execution_count": 7,
   "metadata": {
    "deletable": false,
    "nbgrader": {
     "checksum": "39589196d4bf8d8618e5f877bd88bbd4",
     "grade": false,
     "grade_id": "exercise-1-1-code",
     "locked": false,
     "schema_version": 1,
     "solution": true
    }
   },
   "outputs": [],
   "source": [
    "def has_rated(user, movie):\n",
    "    \"\"\"\n",
    "    Return True iff user has rated movie in the database of ratings,\n",
    "    otherwise print the following message: 'User {user} has not rated any movie'.\n",
    "    \"\"\"\n",
    "    \n",
    "    "
   ]
  },
  {
   "cell_type": "code",
   "execution_count": 8,
   "metadata": {
    "deletable": false,
    "nbgrader": {
     "checksum": "5263d9fd183f0fe479e226659cdde3b9",
     "grade": true,
     "grade_id": "exercise-1-1-test",
     "locked": true,
     "points": 1,
     "schema_version": 1,
     "solution": false
    }
   },
   "outputs": [
    {
     "ename": "AssertionError",
     "evalue": "True != None",
     "output_type": "error",
     "traceback": [
      "\u001b[0;31m---------------------------------------------------------------------------\u001b[0m",
      "\u001b[0;31mAssertionError\u001b[0m                            Traceback (most recent call last)",
      "\u001b[0;32m/var/folders/pg/ccyl3brd18x3ytjk5l39tgy00000gn/T/ipykernel_21143/1517170983.py\u001b[0m in \u001b[0;36m<cell line: 6>\u001b[0;34m()\u001b[0m\n\u001b[1;32m      4\u001b[0m \u001b[0;34m\u001b[0m\u001b[0m\n\u001b[1;32m      5\u001b[0m \u001b[0;31m# Tests\u001b[0m\u001b[0;34m\u001b[0m\u001b[0;34m\u001b[0m\u001b[0m\n\u001b[0;32m----> 6\u001b[0;31m \u001b[0massert_equal\u001b[0m\u001b[0;34m(\u001b[0m\u001b[0;32mTrue\u001b[0m\u001b[0;34m,\u001b[0m \u001b[0mhas_rated\u001b[0m\u001b[0;34m(\u001b[0m\u001b[0;34m'Jack Matthews'\u001b[0m\u001b[0;34m,\u001b[0m \u001b[0;34m'Snakes on a Plane'\u001b[0m\u001b[0;34m)\u001b[0m\u001b[0;34m)\u001b[0m\u001b[0;34m\u001b[0m\u001b[0;34m\u001b[0m\u001b[0m\n\u001b[0m\u001b[1;32m      7\u001b[0m \u001b[0massert_equal\u001b[0m\u001b[0;34m(\u001b[0m\u001b[0;32mFalse\u001b[0m\u001b[0;34m,\u001b[0m \u001b[0mhas_rated\u001b[0m\u001b[0;34m(\u001b[0m\u001b[0;34m'Claudia Puig'\u001b[0m\u001b[0;34m,\u001b[0m \u001b[0;34m'Jaws'\u001b[0m\u001b[0;34m)\u001b[0m\u001b[0;34m)\u001b[0m\u001b[0;34m\u001b[0m\u001b[0;34m\u001b[0m\u001b[0m\n\u001b[1;32m      8\u001b[0m \u001b[0massert_equal\u001b[0m\u001b[0;34m(\u001b[0m\u001b[0;34m'User Bill Gates has not rated any movie'\u001b[0m\u001b[0;34m,\u001b[0m \u001b[0mhas_rated\u001b[0m\u001b[0;34m(\u001b[0m\u001b[0;34m'Bill Gates'\u001b[0m\u001b[0;34m,\u001b[0m \u001b[0;34m'Lady in the Water'\u001b[0m\u001b[0;34m)\u001b[0m\u001b[0;34m)\u001b[0m\u001b[0;34m\u001b[0m\u001b[0;34m\u001b[0m\u001b[0m\n",
      "\u001b[0;32m~/opt/anaconda3/lib/python3.9/unittest/case.py\u001b[0m in \u001b[0;36massertEqual\u001b[0;34m(self, first, second, msg)\u001b[0m\n\u001b[1;32m    827\u001b[0m         \"\"\"\n\u001b[1;32m    828\u001b[0m         \u001b[0massertion_func\u001b[0m \u001b[0;34m=\u001b[0m \u001b[0mself\u001b[0m\u001b[0;34m.\u001b[0m\u001b[0m_getAssertEqualityFunc\u001b[0m\u001b[0;34m(\u001b[0m\u001b[0mfirst\u001b[0m\u001b[0;34m,\u001b[0m \u001b[0msecond\u001b[0m\u001b[0;34m)\u001b[0m\u001b[0;34m\u001b[0m\u001b[0;34m\u001b[0m\u001b[0m\n\u001b[0;32m--> 829\u001b[0;31m         \u001b[0massertion_func\u001b[0m\u001b[0;34m(\u001b[0m\u001b[0mfirst\u001b[0m\u001b[0;34m,\u001b[0m \u001b[0msecond\u001b[0m\u001b[0;34m,\u001b[0m \u001b[0mmsg\u001b[0m\u001b[0;34m=\u001b[0m\u001b[0mmsg\u001b[0m\u001b[0;34m)\u001b[0m\u001b[0;34m\u001b[0m\u001b[0;34m\u001b[0m\u001b[0m\n\u001b[0m\u001b[1;32m    830\u001b[0m \u001b[0;34m\u001b[0m\u001b[0m\n\u001b[1;32m    831\u001b[0m     \u001b[0;32mdef\u001b[0m \u001b[0massertNotEqual\u001b[0m\u001b[0;34m(\u001b[0m\u001b[0mself\u001b[0m\u001b[0;34m,\u001b[0m \u001b[0mfirst\u001b[0m\u001b[0;34m,\u001b[0m \u001b[0msecond\u001b[0m\u001b[0;34m,\u001b[0m \u001b[0mmsg\u001b[0m\u001b[0;34m=\u001b[0m\u001b[0;32mNone\u001b[0m\u001b[0;34m)\u001b[0m\u001b[0;34m:\u001b[0m\u001b[0;34m\u001b[0m\u001b[0;34m\u001b[0m\u001b[0m\n",
      "\u001b[0;32m~/opt/anaconda3/lib/python3.9/unittest/case.py\u001b[0m in \u001b[0;36m_baseAssertEqual\u001b[0;34m(self, first, second, msg)\u001b[0m\n\u001b[1;32m    820\u001b[0m             \u001b[0mstandardMsg\u001b[0m \u001b[0;34m=\u001b[0m \u001b[0;34m'%s != %s'\u001b[0m \u001b[0;34m%\u001b[0m \u001b[0m_common_shorten_repr\u001b[0m\u001b[0;34m(\u001b[0m\u001b[0mfirst\u001b[0m\u001b[0;34m,\u001b[0m \u001b[0msecond\u001b[0m\u001b[0;34m)\u001b[0m\u001b[0;34m\u001b[0m\u001b[0;34m\u001b[0m\u001b[0m\n\u001b[1;32m    821\u001b[0m             \u001b[0mmsg\u001b[0m \u001b[0;34m=\u001b[0m \u001b[0mself\u001b[0m\u001b[0;34m.\u001b[0m\u001b[0m_formatMessage\u001b[0m\u001b[0;34m(\u001b[0m\u001b[0mmsg\u001b[0m\u001b[0;34m,\u001b[0m \u001b[0mstandardMsg\u001b[0m\u001b[0;34m)\u001b[0m\u001b[0;34m\u001b[0m\u001b[0;34m\u001b[0m\u001b[0m\n\u001b[0;32m--> 822\u001b[0;31m             \u001b[0;32mraise\u001b[0m \u001b[0mself\u001b[0m\u001b[0;34m.\u001b[0m\u001b[0mfailureException\u001b[0m\u001b[0;34m(\u001b[0m\u001b[0mmsg\u001b[0m\u001b[0;34m)\u001b[0m\u001b[0;34m\u001b[0m\u001b[0;34m\u001b[0m\u001b[0m\n\u001b[0m\u001b[1;32m    823\u001b[0m \u001b[0;34m\u001b[0m\u001b[0m\n\u001b[1;32m    824\u001b[0m     \u001b[0;32mdef\u001b[0m \u001b[0massertEqual\u001b[0m\u001b[0;34m(\u001b[0m\u001b[0mself\u001b[0m\u001b[0;34m,\u001b[0m \u001b[0mfirst\u001b[0m\u001b[0;34m,\u001b[0m \u001b[0msecond\u001b[0m\u001b[0;34m,\u001b[0m \u001b[0mmsg\u001b[0m\u001b[0;34m=\u001b[0m\u001b[0;32mNone\u001b[0m\u001b[0;34m)\u001b[0m\u001b[0;34m:\u001b[0m\u001b[0;34m\u001b[0m\u001b[0;34m\u001b[0m\u001b[0m\n",
      "\u001b[0;31mAssertionError\u001b[0m: True != None"
     ]
    }
   ],
   "source": [
    "\"\"\"\n",
    "Test the correctness of the implementation of the `has_rated` function\n",
    "\"\"\"\n",
    "\n",
    "# Tests\n",
    "assert_equal(True, has_rated('Jack Matthews', 'Snakes on a Plane'))\n",
    "assert_equal(False, has_rated('Claudia Puig', 'Jaws'))\n",
    "assert_equal('User Bill Gates has not rated any movie', has_rated('Bill Gates', 'Lady in the Water'))"
   ]
  },
  {
   "cell_type": "markdown",
   "metadata": {
    "deletable": false,
    "editable": false,
    "nbgrader": {
     "checksum": "0cff4a811285a1ef0adbdff5eaa4dd01",
     "grade": false,
     "grade_id": "exercise-1-2-text",
     "locked": true,
     "schema_version": 1,
     "solution": false
    }
   },
   "source": [
    "## Exercise 1.2 (3 points)\n",
    "\n",
    "Implement the function <code>**avg_user_rating**</code>, which takes as input a user <code>**user**</code> and returns the average rating provided by _that_ user. If the user has not rated any movie (i.e., if he/she is not in the database of ratings) the function will return <code>**-1**</code>."
   ]
  },
  {
   "cell_type": "code",
   "execution_count": 9,
   "metadata": {
    "deletable": false,
    "nbgrader": {
     "checksum": "0f4663a68c52397ad6f83d827ab173d1",
     "grade": false,
     "grade_id": "exercise-1-2-code",
     "locked": false,
     "schema_version": 1,
     "solution": true
    }
   },
   "outputs": [],
   "source": [
    "def avg_user_rating(user):\n",
    "    \"\"\"\n",
    "    Return the average rating for this user.\n",
    "    \"\"\"\n",
    "    pass\n",
    "    "
   ]
  },
  {
   "cell_type": "code",
   "execution_count": 10,
   "metadata": {
    "deletable": false,
    "nbgrader": {
     "checksum": "f62043e32afea743228b4ca01f0db489",
     "grade": true,
     "grade_id": "cell-1-2-test",
     "locked": true,
     "points": 3,
     "schema_version": 1,
     "solution": false
    }
   },
   "outputs": [
    {
     "ename": "TypeError",
     "evalue": "unsupported operand type(s) for -: 'NoneType' and 'float'",
     "output_type": "error",
     "traceback": [
      "\u001b[0;31m---------------------------------------------------------------------------\u001b[0m",
      "\u001b[0;31mTypeError\u001b[0m                                 Traceback (most recent call last)",
      "\u001b[0;32m/var/folders/pg/ccyl3brd18x3ytjk5l39tgy00000gn/T/ipykernel_21143/3507487495.py\u001b[0m in \u001b[0;36m<cell line: 6>\u001b[0;34m()\u001b[0m\n\u001b[1;32m      4\u001b[0m \u001b[0;34m\u001b[0m\u001b[0m\n\u001b[1;32m      5\u001b[0m \u001b[0;31m# Tests\u001b[0m\u001b[0;34m\u001b[0m\u001b[0;34m\u001b[0m\u001b[0m\n\u001b[0;32m----> 6\u001b[0;31m \u001b[0massert_equal\u001b[0m\u001b[0;34m(\u001b[0m\u001b[0;32mTrue\u001b[0m\u001b[0;34m,\u001b[0m \u001b[0;34m(\u001b[0m\u001b[0mnp\u001b[0m\u001b[0;34m.\u001b[0m\u001b[0mabs\u001b[0m\u001b[0;34m(\u001b[0m\u001b[0mavg_user_rating\u001b[0m\u001b[0;34m(\u001b[0m\u001b[0;34m'Lisa Rose'\u001b[0m\u001b[0;34m)\u001b[0m \u001b[0;34m-\u001b[0m \u001b[0;36m3.0\u001b[0m\u001b[0;34m)\u001b[0m\u001b[0;34m)\u001b[0m \u001b[0;34m<\u001b[0m \u001b[0mEPSILON\u001b[0m\u001b[0;34m)\u001b[0m\u001b[0;34m\u001b[0m\u001b[0;34m\u001b[0m\u001b[0m\n\u001b[0m\u001b[1;32m      7\u001b[0m \u001b[0massert_equal\u001b[0m\u001b[0;34m(\u001b[0m\u001b[0;32mTrue\u001b[0m\u001b[0;34m,\u001b[0m \u001b[0;34m(\u001b[0m\u001b[0mnp\u001b[0m\u001b[0;34m.\u001b[0m\u001b[0mabs\u001b[0m\u001b[0;34m(\u001b[0m\u001b[0mavg_user_rating\u001b[0m\u001b[0;34m(\u001b[0m\u001b[0;34m'Jack Matthews'\u001b[0m\u001b[0;34m)\u001b[0m \u001b[0;34m-\u001b[0m \u001b[0;36m3.7\u001b[0m\u001b[0;34m)\u001b[0m\u001b[0;34m)\u001b[0m \u001b[0;34m<\u001b[0m \u001b[0mEPSILON\u001b[0m\u001b[0;34m)\u001b[0m\u001b[0;34m\u001b[0m\u001b[0;34m\u001b[0m\u001b[0m\n\u001b[1;32m      8\u001b[0m \u001b[0massert_equal\u001b[0m\u001b[0;34m(\u001b[0m\u001b[0;32mTrue\u001b[0m\u001b[0;34m,\u001b[0m \u001b[0;34m(\u001b[0m\u001b[0mnp\u001b[0m\u001b[0;34m.\u001b[0m\u001b[0mabs\u001b[0m\u001b[0;34m(\u001b[0m\u001b[0mavg_user_rating\u001b[0m\u001b[0;34m(\u001b[0m\u001b[0;34m'Claudia Puig'\u001b[0m\u001b[0;34m)\u001b[0m \u001b[0;34m-\u001b[0m \u001b[0;36m3.5\u001b[0m\u001b[0;34m)\u001b[0m\u001b[0;34m)\u001b[0m \u001b[0;34m<\u001b[0m \u001b[0mEPSILON\u001b[0m\u001b[0;34m)\u001b[0m\u001b[0;34m\u001b[0m\u001b[0;34m\u001b[0m\u001b[0m\n",
      "\u001b[0;31mTypeError\u001b[0m: unsupported operand type(s) for -: 'NoneType' and 'float'"
     ]
    }
   ],
   "source": [
    "\"\"\"\n",
    "Test the correctness of the implementation of the `avg_user_rating` function\n",
    "\"\"\"\n",
    "\n",
    "# Tests\n",
    "assert_equal(True, (np.abs(avg_user_rating('Lisa Rose') - 3.0)) < EPSILON)\n",
    "assert_equal(True, (np.abs(avg_user_rating('Jack Matthews') - 3.7)) < EPSILON)\n",
    "assert_equal(True, (np.abs(avg_user_rating('Claudia Puig') - 3.5)) < EPSILON)"
   ]
  },
  {
   "cell_type": "markdown",
   "metadata": {
    "deletable": false,
    "editable": false,
    "nbgrader": {
     "checksum": "d9df3b84dfac93d8153f09a1150e8c8a",
     "grade": false,
     "grade_id": "exercise-1-3-text",
     "locked": true,
     "schema_version": 1,
     "solution": false
    }
   },
   "source": [
    "## Exercise 1.3 (5 points)\n",
    "\n",
    "Implement the function <code>**movie_rating_stats**</code>, which returns a custom data structure, i.e., dictionary, where each key is a movie and each value is a tuple containing the <code>**min**</code>, <code>**max**</code>, <code>**avg**</code>, and <code>**median**</code> values (in this very specific order), computed across users who have rated _that_ movie."
   ]
  },
  {
   "cell_type": "code",
   "execution_count": 11,
   "metadata": {
    "deletable": false,
    "nbgrader": {
     "checksum": "fadf35bf2b44073a356a292e9887f1d2",
     "grade": false,
     "grade_id": "exercise-1-3-code",
     "locked": false,
     "schema_version": 1,
     "solution": true
    }
   },
   "outputs": [],
   "source": [
    "def movie_rating_stats():\n",
    "    \"\"\"\n",
    "    Return a dictionary where each key is a movie and each value is a tuple containing \n",
    "    the min, max, avg, and median values of that movie.\n",
    "    \"\"\"\n",
    "    pass\n",
    "                \n",
    "    "
   ]
  },
  {
   "cell_type": "code",
   "execution_count": 31,
   "metadata": {
    "deletable": false,
    "nbgrader": {
     "checksum": "9d18988ce3d8fc1e66aa707a1de83300",
     "grade": true,
     "grade_id": "exercise-1-3-test",
     "locked": true,
     "points": 5,
     "schema_version": 1,
     "solution": false
    }
   },
   "outputs": [],
   "source": [
    "\"\"\"\n",
    "Test the correctness of the implementation of the `movie_rating_stats` function\n",
    "\"\"\"\n",
    "\n",
    "# Call off the function implemented above\n",
    "stats = movie_rating_stats()\n",
    "\n",
    "# Tests\n",
    "assert_equal(2.5, stats['Lady in the Water'][0]) # minimum rating of 'Lady in the Water'\n",
    "assert_equal(5.0, stats['Superman Returns'][1]) # maximum rating of 'Superman Returns'\n",
    "assert_equal(True, np.abs(3.7142857142857144 - stats['Snakes on a Plane'][2]) \n",
    "             < EPSILON) # average rating of 'Snakes on a Plane'\n",
    "assert_equal(3.0, stats['The Night Listener'][3]) # median rating of 'The Night Listener'"
   ]
  },
  {
   "cell_type": "markdown",
   "metadata": {
    "deletable": false,
    "editable": false,
    "nbgrader": {
     "checksum": "97ac99a866cd717e47a745370dede23c",
     "grade": false,
     "grade_id": "exercise-1-4-text",
     "locked": true,
     "schema_version": 1,
     "solution": false
    }
   },
   "source": [
    "## Exercise 1.4 (7 points)\n",
    "\n",
    "Implement the function <code>**get_most_similar_users**</code>, which takes as input a user <code>**user**</code> and returns an **ordered list** of most similar users to <code>**user**</code>. Similarity between two users $u$ and $v$ is defined by means of <i>cosine_similarity</i>, which is computed as follows:\n",
    "\n",
    "$$\n",
    "\\textit{cosine_similarity}(u, v) = \\frac{{\\bf u} \\cdot {\\bf v}}{||{\\bf u}||~||{\\bf v}||} = \\frac{\\sum_{i=1}^n u_i~v_i}{\\sqrt{\\sum_{i=1}^n u_i^2}~\\sqrt{\\sum_{i=1}^n v_i^2}}\n",
    "$$\n",
    "\n",
    "where ${\\bf u}=(u_1, u_2, \\ldots, u_n)$ is the $n$-dimensional vector associated with the user $u$, and $||{\\bf u}||$ is the **Euclidean norm** of the vector ${\\bf u}$. More specifically, this measures the _cosine_ of the angle between the two vectors ${\\bf u}$ and ${\\bf v}$, therefore ranging in $[-1, 1]$. The highest the cosine similarity, the larger is the similarity between users.<br />\n",
    "The number of dimensions $n$ of each user vector correspond to the total number of movies in the database of ratings, and each entry is evaluated as follows:\n",
    "\n",
    "$$\n",
    "u_i =  \n",
    "\\begin{cases}\n",
    "    ratings[u][i],& \\text{if user } u\\text{ has rated movie }i\\\\\n",
    "    0,              & \\text{otherwise}\n",
    "\\end{cases}\n",
    "$$\n",
    "\n",
    "For a given input user $u$, this function will return a list $L(u)$, where each element is a pair $(v, \\textit{cosine_similarity}(u, v))$, such that $v \\neq u$. In addition, $L(u)$ must be ranked by cosine similarity in **not ascending order** (i.e., from the highest to the lowest), and if two or more users have the same cosine similarity those should appear in alphabetical order.\n",
    "\n",
    "(**SUGGESTIONS:** Implement the helper function <code>**cosine_similarity(u, v)**</code> which computes the cosine similarity between two vectors, as prepared for you below. Note that only non-zero components of <code>**u**</code> and <code>**v**</code> contribute to the dot product of the two vectors...)"
   ]
  },
  {
   "cell_type": "code",
   "execution_count": null,
   "metadata": {
    "deletable": false,
    "nbgrader": {
     "checksum": "4606ff021e05096a96a4e65ba75aa74f",
     "grade": false,
     "grade_id": "exercise-1-4-code",
     "locked": false,
     "schema_version": 1,
     "solution": true
    }
   },
   "outputs": [],
   "source": [
    "### SUGGESTION: Implement the function `cosine_similarity` below which will return the cosine similarity between two input vectors.\n",
    "### If you don't want to use this approach, please remember to delete this helper function before running the cell!\n",
    "def cosine_similarity(u, v):\n",
    "    # YOUR CODE HERE\n",
    "    raise NotImplementedError()\n",
    "    \n",
    "\n",
    "def get_most_similar_users(user):\n",
    "    \"\"\"\n",
    "    Return a list of pairs (v, cosine_similarity(user, v) [v != user] \n",
    "    sorted by cosine similarity (from the highest to the lowest) and by user name.\n",
    "    \"\"\"\n",
    "    most_similar_users = [] # This is the variable that you shall return\n",
    "    \n",
    "    # YOUR CODE HERE\n",
    "    raise NotImplementedError()\n",
    "    \n",
    "   "
   ]
  },
  {
   "cell_type": "code",
   "execution_count": null,
   "metadata": {
    "deletable": false,
    "nbgrader": {
     "checksum": "5d2e2076fe8487760c6af7eeb47f7e6b",
     "grade": true,
     "grade_id": "exercise-1-4-test",
     "locked": true,
     "points": 7,
     "schema_version": 1,
     "solution": false
    }
   },
   "outputs": [],
   "source": [
    "\"\"\"\n",
    "Test the correctness of the implementation of the `get_most_similar_users` function\n",
    "\"\"\"\n",
    "\n",
    "assert_equal('Michael Phillips', get_most_similar_users('Jack Matthews')[3][0])\n",
    "assert_equal(True, np.abs(0.8847891964365634 - get_most_similar_users('Gene Seymour')[3][1]) < EPSILON)\n",
    "assert_equal(('Jack Matthews', 0.80555004051484014), get_most_similar_users('Toby Jones')[0])"
   ]
  },
  {
   "cell_type": "markdown",
   "metadata": {
    "deletable": false,
    "editable": false,
    "nbgrader": {
     "checksum": "a52bd02aadcf37b2a9a7902a274b37de",
     "grade": false,
     "grade_id": "part-2",
     "locked": true,
     "schema_version": 1,
     "solution": false
    }
   },
   "source": [
    "# Part 2: Data Science (16 points)\n",
    "\n",
    "In this part, you will be working with the dataset file <code>**dataset.csv**</code>. For a complete description of this data source, please refer to the <code>**README.txt**</code>.\n",
    "In a nutshell, this is a sample of **1,000 instances** from a larger dataset containing census and demographic information for a set of citizens.\n",
    "Each citizen (i.e., row in the file) is described by **14** features (i.e., columns) and labeled with an binary value (i.e., the 15th and last column called <code>**income_greater_than_50k**</code>), which takes on two values: **-1** (indicating the citizen's yearly income is **below or equal than** 50k dollars) or **+1**, otherwise.<br />\n",
    "The cell below is responsible for correctly loading the dataset from the <code>**dataset.csv**</code> file. Once this is executed, you can start answering the questions below."
   ]
  },
  {
   "cell_type": "code",
   "execution_count": 34,
   "metadata": {
    "deletable": false,
    "nbgrader": {
     "checksum": "fc9f53954bf9a264ce3644816b3d9476",
     "grade": false,
     "grade_id": "part-2-required",
     "locked": true,
     "schema_version": 1,
     "solution": false
    }
   },
   "outputs": [
    {
     "data": {
      "text/html": [
       "<div>\n",
       "<style scoped>\n",
       "    .dataframe tbody tr th:only-of-type {\n",
       "        vertical-align: middle;\n",
       "    }\n",
       "\n",
       "    .dataframe tbody tr th {\n",
       "        vertical-align: top;\n",
       "    }\n",
       "\n",
       "    .dataframe thead th {\n",
       "        text-align: right;\n",
       "    }\n",
       "</style>\n",
       "<table border=\"1\" class=\"dataframe\">\n",
       "  <thead>\n",
       "    <tr style=\"text-align: right;\">\n",
       "      <th></th>\n",
       "      <th>age</th>\n",
       "      <th>workclass</th>\n",
       "      <th>fnlwgt</th>\n",
       "      <th>education</th>\n",
       "      <th>education_num</th>\n",
       "      <th>marital_status</th>\n",
       "      <th>occupation</th>\n",
       "      <th>relationship</th>\n",
       "      <th>race</th>\n",
       "      <th>sex</th>\n",
       "      <th>capital_gain</th>\n",
       "      <th>capital_loss</th>\n",
       "      <th>hours_per_week</th>\n",
       "      <th>native_country</th>\n",
       "      <th>income_greater_than_50k</th>\n",
       "    </tr>\n",
       "  </thead>\n",
       "  <tbody>\n",
       "    <tr>\n",
       "      <th>0</th>\n",
       "      <td>49</td>\n",
       "      <td>Private</td>\n",
       "      <td>153536</td>\n",
       "      <td>Some-college</td>\n",
       "      <td>10</td>\n",
       "      <td>Divorced</td>\n",
       "      <td>Prof-specialty</td>\n",
       "      <td>Not-in-family</td>\n",
       "      <td>White</td>\n",
       "      <td>Male</td>\n",
       "      <td>14084</td>\n",
       "      <td>0</td>\n",
       "      <td>44</td>\n",
       "      <td>United-States</td>\n",
       "      <td>1</td>\n",
       "    </tr>\n",
       "    <tr>\n",
       "      <th>1</th>\n",
       "      <td>19</td>\n",
       "      <td>Private</td>\n",
       "      <td>417657</td>\n",
       "      <td>HS-grad</td>\n",
       "      <td>9</td>\n",
       "      <td>Never-married</td>\n",
       "      <td>Handlers-cleaners</td>\n",
       "      <td>Own-child</td>\n",
       "      <td>White</td>\n",
       "      <td>Male</td>\n",
       "      <td>0</td>\n",
       "      <td>0</td>\n",
       "      <td>50</td>\n",
       "      <td>United-States</td>\n",
       "      <td>-1</td>\n",
       "    </tr>\n",
       "    <tr>\n",
       "      <th>2</th>\n",
       "      <td>41</td>\n",
       "      <td>Private</td>\n",
       "      <td>143046</td>\n",
       "      <td>Masters</td>\n",
       "      <td>14</td>\n",
       "      <td>Never-married</td>\n",
       "      <td>Adm-clerical</td>\n",
       "      <td>Not-in-family</td>\n",
       "      <td>White</td>\n",
       "      <td>Female</td>\n",
       "      <td>0</td>\n",
       "      <td>0</td>\n",
       "      <td>40</td>\n",
       "      <td>United-States</td>\n",
       "      <td>-1</td>\n",
       "    </tr>\n",
       "    <tr>\n",
       "      <th>3</th>\n",
       "      <td>46</td>\n",
       "      <td>Private</td>\n",
       "      <td>377401</td>\n",
       "      <td>HS-grad</td>\n",
       "      <td>9</td>\n",
       "      <td>Married-civ-spouse</td>\n",
       "      <td>Transport-moving</td>\n",
       "      <td>Husband</td>\n",
       "      <td>White</td>\n",
       "      <td>Male</td>\n",
       "      <td>0</td>\n",
       "      <td>1902</td>\n",
       "      <td>70</td>\n",
       "      <td>Canada</td>\n",
       "      <td>1</td>\n",
       "    </tr>\n",
       "    <tr>\n",
       "      <th>4</th>\n",
       "      <td>40</td>\n",
       "      <td>Private</td>\n",
       "      <td>224232</td>\n",
       "      <td>Bachelors</td>\n",
       "      <td>13</td>\n",
       "      <td>Married-civ-spouse</td>\n",
       "      <td>Sales</td>\n",
       "      <td>Husband</td>\n",
       "      <td>White</td>\n",
       "      <td>Male</td>\n",
       "      <td>0</td>\n",
       "      <td>0</td>\n",
       "      <td>40</td>\n",
       "      <td>United-States</td>\n",
       "      <td>1</td>\n",
       "    </tr>\n",
       "  </tbody>\n",
       "</table>\n",
       "</div>"
      ],
      "text/plain": [
       "   age workclass  fnlwgt     education  education_num      marital_status  \\\n",
       "0   49   Private  153536  Some-college             10            Divorced   \n",
       "1   19   Private  417657       HS-grad              9       Never-married   \n",
       "2   41   Private  143046       Masters             14       Never-married   \n",
       "3   46   Private  377401       HS-grad              9  Married-civ-spouse   \n",
       "4   40   Private  224232     Bachelors             13  Married-civ-spouse   \n",
       "\n",
       "          occupation   relationship   race     sex  capital_gain  \\\n",
       "0     Prof-specialty  Not-in-family  White    Male         14084   \n",
       "1  Handlers-cleaners      Own-child  White    Male             0   \n",
       "2       Adm-clerical  Not-in-family  White  Female             0   \n",
       "3   Transport-moving        Husband  White    Male             0   \n",
       "4              Sales        Husband  White    Male             0   \n",
       "\n",
       "   capital_loss  hours_per_week native_country  income_greater_than_50k  \n",
       "0             0              44  United-States                        1  \n",
       "1             0              50  United-States                       -1  \n",
       "2             0              40  United-States                       -1  \n",
       "3          1902              70         Canada                        1  \n",
       "4             0              40  United-States                        1  "
      ]
     },
     "execution_count": 34,
     "metadata": {},
     "output_type": "execute_result"
    }
   ],
   "source": [
    "# Load the dataset stored at `DATASET_FILE` using \",\" as field separator and '?' to detect NAs\n",
    "data = pd.read_csv(DATASET_FILE, \n",
    "                   sep=\",\", \n",
    "                   na_values='?')\n",
    "data.head()"
   ]
  },
  {
   "cell_type": "markdown",
   "metadata": {
    "deletable": false,
    "editable": false,
    "nbgrader": {
     "checksum": "f2f21c70d077c99447baa15fd4d24d31",
     "grade": false,
     "grade_id": "exercise-2-1-text",
     "locked": true,
     "schema_version": 1,
     "solution": false
    }
   },
   "source": [
    "## Exercise 2.1 (1 point)\n",
    "\n",
    "Implement the function <code>**avg_capital_gain_per_age**</code> below. This takes as input a <code>**pandas.DataFrame**</code> object and an integer value <code>**age**</code>, and returns the **average** value of <code>**capital_gain**</code> of citizens having that age.\n",
    "\n",
    "(**NOTE:** If the input age is not present, the <code>**mean()**</code> function is robust and returns <code>**np.nan**</code>)"
   ]
  },
  {
   "cell_type": "code",
   "execution_count": 35,
   "metadata": {
    "deletable": false,
    "nbgrader": {
     "checksum": "b68b3232f9f44f7019a50215ccb0f621",
     "grade": false,
     "grade_id": "exercise-2-1-code",
     "locked": false,
     "schema_version": 1,
     "solution": true
    }
   },
   "outputs": [],
   "source": [
    "def avg_capital_gain_per_age(data, age):\n",
    "    \"\"\"\n",
    "    Return the average value of capital gain for citizens having a specific age.\n",
    "    \"\"\"\n",
    "    pass"
   ]
  },
  {
   "cell_type": "code",
   "execution_count": 36,
   "metadata": {
    "deletable": false,
    "nbgrader": {
     "checksum": "adcd920200e5b732a2a653cfed878063",
     "grade": true,
     "grade_id": "exercise-2-1-test",
     "locked": true,
     "points": 1,
     "schema_version": 1,
     "solution": false
    }
   },
   "outputs": [],
   "source": [
    "\"\"\"\n",
    "Test the correctness of the implementation of the `avg_capital_gain_per_age` function\n",
    "\"\"\"\n",
    "\n",
    "assert_equal(True, np.abs(192.80769230769232 - avg_capital_gain_per_age(data, 32)) < EPSILON)\n",
    "assert_equal(0.0, avg_capital_gain_per_age(data, 27))\n",
    "assert_equal(2330.0, avg_capital_gain_per_age(data, 48))"
   ]
  },
  {
   "cell_type": "markdown",
   "metadata": {
    "deletable": false,
    "editable": false,
    "nbgrader": {
     "checksum": "ee3b7bfac50d3363762e53cf35b5ba4b",
     "grade": false,
     "grade_id": "exercise-2-2-text",
     "locked": true,
     "schema_version": 1,
     "solution": false
    }
   },
   "source": [
    "## Exercise 2.2 (3 points)\n",
    "\n",
    "Implement the function <code>**hours_per_week_stats**</code> below. This takes as input a <code>**pandas.DataFrame**</code> object and returns a tuple containing the min, max, avg, and median value of <code>**hours_per_week**</code>, yet computed on a _slice_ of the input <code>**pandas.DataFrame**</code>.<br />\n",
    "The sliced dataset represents the subpopulation containing **female** citizens whose age is **between 36 and 49 years old** (extremes included), who were born in the **United-States** and having a value of <code>**education_num**</code> **strictly greater than** the _overall_ average."
   ]
  },
  {
   "cell_type": "code",
   "execution_count": 46,
   "metadata": {
    "deletable": false,
    "nbgrader": {
     "checksum": "9e714bddf557ed341cc8ec008361126f",
     "grade": false,
     "grade_id": "exercise-2-2-code",
     "locked": false,
     "schema_version": 1,
     "solution": true
    }
   },
   "outputs": [],
   "source": [
    "def hours_per_week_stats(data):\n",
    "    \"\"\"\n",
    "    Return a tuple containing the min, max, avg, and median value of `hours_per_week` feature,\n",
    "    yet limited to a slice of the input DataFrame (data). \n",
    "    In particular, this slice will contain instances referring to female citizens\n",
    "    whose age is between 36 and 49 (extremes included) born in the United-States\n",
    "    and having a value of education_num strictly above the overall population average.\n",
    "    \"\"\"\n",
    "    pass\n",
    "\n",
    "\n",
    "\n",
    "    "
   ]
  },
  {
   "cell_type": "code",
   "execution_count": 47,
   "metadata": {
    "deletable": false,
    "nbgrader": {
     "checksum": "3950b368373b4fe2f374e1cc94f98255",
     "grade": true,
     "grade_id": "exercise-2-2-test",
     "locked": true,
     "points": 3,
     "schema_version": 1,
     "solution": false
    }
   },
   "outputs": [],
   "source": [
    "\"\"\"\n",
    "Test the correctness of the implementation of the `hours_per_week_stats` function\n",
    "\"\"\"\n",
    "\n",
    "# Call off `hours_per_week_stats` function\n",
    "stats = hours_per_week_stats(data)\n",
    "\n",
    "assert_equal(5, stats[0])\n",
    "assert_equal(60, stats[1])"
   ]
  },
  {
   "cell_type": "markdown",
   "metadata": {
    "deletable": false,
    "editable": false,
    "nbgrader": {
     "checksum": "167926701c33e36728bb7b47f90ec032",
     "grade": false,
     "grade_id": "exercise-2-3-text",
     "locked": true,
     "schema_version": 1,
     "solution": false
    }
   },
   "source": [
    "## Exercise 2.3 (5 points)\n",
    "\n",
    "Implement the function <code>**standardize_dataset**</code>, which takes as input a <code>**pandas.DataFrame**</code> object and modifies it by creating **new** columns corresponding to the **standardized** values of _numerical_ columns only, except for the target column, i.e., the very last column named <code>**income_greater_than_50k**</code>.<br />\n",
    "To standardize a column $X$, each original value $x\\in X$ should be modified with $x_{\\text{std}}$ as follows:\n",
    "\n",
    "$$\n",
    "x_{\\text{std}} = \\frac{x - \\mu_X}{\\sigma_X}\n",
    "$$\n",
    "\n",
    "where $\\mu_X$ and $\\sigma_X$ are the **mean** and **standard deviation** computed across $X$, respectively.\n",
    "\n",
    "To be sure standardization is applied to a numerical column only, you can use the following built-in function:\n",
    "\n",
    "<code>**pd.api.types.infer_dtype(data[column], skipna=True)**</code>, which may return either <code>**'string'**</code> or <code>**'integer'**</code>, in our very specific case.\n",
    "\n",
    "Finally, the naming convention for standardized columns is as follows: if <code>**column**</code> is the name of the original column, then its standardized version will be <code>**column_std**</code>."
   ]
  },
  {
   "cell_type": "code",
   "execution_count": 50,
   "metadata": {
    "deletable": false,
    "nbgrader": {
     "checksum": "0f275f76c9ea80f47070fb325f1bdb4d",
     "grade": false,
     "grade_id": "exercise-2-3-code",
     "locked": false,
     "schema_version": 1,
     "solution": true
    }
   },
   "outputs": [],
   "source": [
    "def standardize_dataset(data):\n",
    "    pass\n"
   ]
  },
  {
   "cell_type": "code",
   "execution_count": 51,
   "metadata": {
    "deletable": false,
    "nbgrader": {
     "checksum": "8dd2f08b5ce5abdef5e30eb10e0cf870",
     "grade": true,
     "grade_id": "exercise-2-3-test",
     "locked": true,
     "points": 5,
     "schema_version": 1,
     "solution": false
    }
   },
   "outputs": [],
   "source": [
    "\"\"\"\n",
    "Test the correctness of the implementation of the `standardize_dataset` function\n",
    "\"\"\"\n",
    "\n",
    "# Call off `standardize_dataset` function on a copy of our original dataset\n",
    "data_cpy = data.copy()\n",
    "standardize_dataset(data_cpy)\n",
    "\n",
    "assert_equal(1000, data_cpy.shape[0])\n",
    "assert_equal(21, data_cpy.shape[1])\n",
    "assert_equal(True, np.abs(0.093258105603949315 - data_cpy.iloc[42]['age_std']) < EPSILON)\n",
    "assert_equal(True, np.abs(-0.21956059890921917 - data_cpy.iloc[73]['capital_loss_std']) < EPSILON)"
   ]
  },
  {
   "cell_type": "markdown",
   "metadata": {
    "deletable": false,
    "editable": false,
    "nbgrader": {
     "checksum": "078359a02c74006c5c57c79ed11339e1",
     "grade": false,
     "grade_id": "exercise-2-4-text",
     "locked": true,
     "schema_version": 1,
     "solution": false
    }
   },
   "source": [
    "## Exercise 2.4 (7 points)\n",
    "\n",
    "This exercise is made of **3** main questions, which you can answer independently to each other."
   ]
  },
  {
   "cell_type": "markdown",
   "metadata": {
    "deletable": false,
    "editable": false,
    "nbgrader": {
     "checksum": "d2b3af702cfead9c97f78c8887f2ce01",
     "grade": false,
     "grade_id": "exercise-2-4-1-text",
     "locked": true,
     "schema_version": 1,
     "solution": false
    }
   },
   "source": [
    "### Question 1 (1 point)\n",
    "\n",
    "Feature <code>**education_num**</code> represents an ordinal (numerical) variable which can take on **16** distinct values.\n",
    "Assign to the variable <code>**highest_education**</code> below the total number of citizens in the dataset exhibiting the highest education degree which corresponds to the value **16**."
   ]
  },
  {
   "cell_type": "code",
   "execution_count": 58,
   "metadata": {
    "deletable": false,
    "nbgrader": {
     "checksum": "92e86bad0a1645fafef2d4d58cd7d014",
     "grade": false,
     "grade_id": "exercise-2-4-1-code",
     "locked": false,
     "schema_version": 1,
     "solution": true
    }
   },
   "outputs": [
    {
     "name": "stdout",
     "output_type": "stream",
     "text": [
      "17\n",
      "17\n"
     ]
    }
   ],
   "source": [
    "pass\n"
   ]
  },
  {
   "cell_type": "code",
   "execution_count": 59,
   "metadata": {
    "deletable": false,
    "nbgrader": {
     "checksum": "ef3bec9ee8f4dc0b247ee41ce4f8c6ca",
     "grade": true,
     "grade_id": "exercise-2-4-1-test",
     "locked": true,
     "points": 1,
     "schema_version": 1,
     "solution": false
    }
   },
   "outputs": [],
   "source": [
    "\"\"\"\n",
    "Test the correctness of the `highest_education`\n",
    "\"\"\"\n",
    "\n",
    "assert_equal(False, (highest_education == None))"
   ]
  },
  {
   "cell_type": "markdown",
   "metadata": {
    "deletable": false,
    "editable": false,
    "nbgrader": {
     "checksum": "c038056da5a06fe1fabac57e8f86e607",
     "grade": false,
     "grade_id": "exercise-2-4-2-text",
     "locked": true,
     "schema_version": 1,
     "solution": false
    }
   },
   "source": [
    "### Question 2 (2 points)\n",
    "\n",
    "Plot the distribution of the numerical feature <code>**age**</code> using <code>**distplot**</code> and assign the result of the plot to the variable <code>**dist_plot_age**</code>. In addition to that, assign to the variables <code>**mu**</code> and <code>**sigma**</code> the result of fitting the data to a Normal distribution. This can be achieved using the <code>**norm.fit**</code> scipy's built-in function on the observed data of interest."
   ]
  },
  {
   "cell_type": "code",
   "execution_count": 63,
   "metadata": {
    "deletable": false,
    "nbgrader": {
     "checksum": "a4e8efdcca2c4bebdcb78b56fed30421",
     "grade": false,
     "grade_id": "exercise-2-4-2-code",
     "locked": false,
     "schema_version": 1,
     "solution": true
    }
   },
   "outputs": [
    {
     "name": "stdout",
     "output_type": "stream",
     "text": [
      "(38.747, 13.42910983647092)\n"
     ]
    },
    {
     "data": {
      "image/png": "[encoded data removed]",
      "text/plain": [
       "<Figure size 360x360 with 1 Axes>"
      ]
     },
     "metadata": {
      "needs_background": "light"
     },
     "output_type": "display_data"
    }
   ],
   "source": [
    "pass\n"
   ]
  },
  {
   "cell_type": "code",
   "execution_count": null,
   "metadata": {
    "deletable": false,
    "nbgrader": {
     "checksum": "4ff0fb9bc67037eaaa8d1f61b35a55b4",
     "grade": true,
     "grade_id": "exercise-2-4-2-test",
     "locked": true,
     "points": 2,
     "schema_version": 1,
     "solution": false
    }
   },
   "outputs": [],
   "source": [
    "\"\"\"\n",
    "Test the correctness of `dist_plot_age`, `mu` and `sigma`\n",
    "\"\"\"\n",
    "\n",
    "assert_equal(False, (dist_plot_age == None))\n",
    "assert_equal(False, (mu == None))\n",
    "assert_equal(False, (sigma == None))"
   ]
  },
  {
   "cell_type": "markdown",
   "metadata": {
    "deletable": false,
    "editable": false,
    "nbgrader": {
     "checksum": "cb5ede012b47553125cd8dd1df7e2d3a",
     "grade": false,
     "grade_id": "exercise-2-4-3-text",
     "locked": true,
     "schema_version": 1,
     "solution": false
    }
   },
   "source": [
    "### Question 3 (4 points)\n",
    "\n",
    "Implement the function <code>**n_left_hpw_outliers**</code> below, which takes as input a <code>**pandas.DataFrame**</code> object and returns the number of left outliers of the column <code>**hours_per_week**</code> (if any).<br />\n",
    "Any data point **less than** (resp., greater than) of the left (resp., right) fence is considered an outlier. Both left and right fences are empirically computed as follows:\n",
    "\n",
    "$$\n",
    "F_\\textrm{left} = Q_1 - 1.5 * \\texttt{IQR};~~F_\\textrm{right} = Q_3 + 1.5 * \\texttt{IQR}\n",
    "$$\n",
    "\n",
    "where $Q_1$ and $Q_3$ represents the 1st and 3rd quartile of the distribution of interest **without considering NAs**, and $\\texttt{IQR} = Q_3 - Q_1$.\n",
    "\n",
    "(**SUGGESTIONS:** Start from drawing the box plot and visually check whether there is any outlier or not. You can either invoke the <code>**quantile**</code> function defined on a <code>**pandas.Series**</code> object **or** use the <code>**numpy.percentile**</code> function which takes as input a <code>**pandas.Series**</code> object or, more generally, any object that can easily be converted into a <code>**numpy.array**</code>)."
   ]
  },
  {
   "cell_type": "code",
   "execution_count": 4,
   "metadata": {
    "deletable": false,
    "nbgrader": {
     "checksum": "7c0c920eae69aed20f61de6679291f67",
     "grade": false,
     "grade_id": "exercise-2-4-3-code",
     "locked": false,
     "schema_version": 1,
     "solution": true
    }
   },
   "outputs": [],
   "source": [
    "# SUGGESTION: visualize the box plot first!\n",
    "# Create a Figure containing 1x1 subplots\n",
    "\n",
    "\n",
    "\n",
    "\n",
    "def n_left_hpw_outliers(data):\n",
    "    pass"
   ]
  },
  {
   "cell_type": "code",
   "execution_count": 65,
   "metadata": {
    "deletable": false,
    "nbgrader": {
     "checksum": "ce72f1a873a65c2567f27ed789a89f60",
     "grade": true,
     "grade_id": "exercise-2-4-3-test",
     "locked": true,
     "points": 4,
     "schema_version": 1,
     "solution": false
    }
   },
   "outputs": [],
   "source": [
    "\"\"\"\n",
    "Test the correctness of the `n_left_hpw_outliers`\n",
    "\"\"\"\n",
    "\n",
    "# Call off the function `n_left_hpw_outliers`\n",
    "outliers = n_left_hpw_outliers(data)\n",
    "\n",
    "assert_equal(False, outliers==None)\n",
    "assert_equal(True, outliers > 100)"
   ]
  },
  {
   "cell_type": "markdown",
   "metadata": {
    "deletable": false,
    "editable": false
   },
   "source": [
    "# Bonus: Machine Learning \n",
    "## Extra points if your score is > 22\n",
    "\n",
    "In this part, you will be able to show your machine learning skills! Use the scikit-learn package to import all the subpackages that you need. Please follow the structure indicated in the following steps to train a classifier of your choice. The goal is to predict whether a person will have an income greater than 50K."
   ]
  },
  {
   "cell_type": "code",
   "execution_count": null,
   "metadata": {},
   "outputs": [],
   "source": [
    "# import packages\n",
    "\n",
    "### YOUR CODE HERE\n",
    "\n",
    "\"\"\"\n",
    "Extract the feature matrix X from our original DataFrame.\n",
    "\"\"\"\n",
    "\n",
    "### YOUR CODE HERE\n",
    "\n",
    "\n",
    "\"\"\"\n",
    "Similarly, we want to extract the target class column vector y.\n",
    "\"\"\"\n",
    "\n",
    "### YOUR CODE HERE\n",
    "\n",
    "\n",
    "\"\"\"\n",
    "Use a simple stratified train/test split\n",
    "\"\"\"\n",
    "X_train, X_test, y_train, y_test = train_test_split(X, y, \n",
    "                                                    test_size = 0.2, \n",
    "                                                    random_state = 123, \n",
    "                                                    stratify = y)\n",
    "\n",
    "print(\"Training Set shape: {}\".format(X_train.shape))\n",
    "print(\"Test Set shape: {}\".format(X_test.shape))"
   ]
  },
  {
   "cell_type": "markdown",
   "metadata": {
    "deletable": false,
    "editable": false
   },
   "source": [
    "## Train\n",
    "Implement the following code to train a model of your choice."
   ]
  },
  {
   "cell_type": "code",
   "execution_count": null,
   "metadata": {},
   "outputs": [],
   "source": [
    "# Create model object\n",
    "\n",
    "### YOUR CODE HERE\n",
    "\n",
    "# Fit the model to the training set\n",
    "model.fit(X_train, y_train)"
   ]
  },
  {
   "cell_type": "markdown",
   "metadata": {
    "deletable": false,
    "editable": false
   },
   "source": [
    "## Evaluate\n",
    "\n",
    "Run the following code to implement a function which evaluates the effectiveness of your classifier."
   ]
  },
  {
   "cell_type": "code",
   "execution_count": null,
   "metadata": {},
   "outputs": [],
   "source": [
    "\"\"\"\n",
    "General function used to assess the quality of predictions\n",
    "in terms of two scores: accuracy and ROC AUC (Area Under the ROC Curve)\n",
    "\"\"\"\n",
    "from sklearn.metrics import accuracy_score\n",
    "from sklearn.metrics import roc_auc_score\n",
    "\n",
    "def evaluate(true_values, predicted_values):\n",
    "    # Classification Accuracy\n",
    "    print(\"Accuracy = {:.3f}\".\n",
    "          format(accuracy_score(true_values, predicted_values)))\n",
    "    # Explained variance score: 1 is perfect prediction\n",
    "    print(\"Area Under the ROC Curve (ROC AUC) = {:.3f}\".\n",
    "          format(roc_auc_score(true_values, predicted_values)))\n",
    "\n"
   ]
  },
  {
   "cell_type": "markdown",
   "metadata": {
    "deletable": false,
    "editable": false
   },
   "source": [
    "Implement the following code to test your model."
   ]
  },
  {
   "cell_type": "code",
   "execution_count": null,
   "metadata": {},
   "outputs": [],
   "source": [
    "# Assess the quality of predictions made on the test set\n",
    "print(\"***** Evaluate Performance on Test Set *****\") \n",
    "\n",
    "### YOUR CODE HERE"
   ]
  }
 ],
 "metadata": {
  "kernelspec": {
   "display_name": "Python 3 (ipykernel)",
   "language": "python",
   "name": "python3"
  },
  "language_info": {
   "codemirror_mode": {
    "name": "ipython",
    "version": 3
   },
   "file_extension": ".py",
   "mimetype": "text/x-python",
   "name": "python",
   "nbconvert_exporter": "python",
   "pygments_lexer": "ipython3",
   "version": "3.9.7"
  }
 },
 "nbformat": 4,
 "nbformat_minor": 4
}
