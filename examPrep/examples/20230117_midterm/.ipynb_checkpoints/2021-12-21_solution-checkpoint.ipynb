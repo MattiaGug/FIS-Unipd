{
 "cells": [
  {
   "cell_type": "markdown",
   "metadata": {
    "nbgrader": {
     "checksum": "bd09799d819bb3301d53cfc25ec1a05a",
     "grade": false,
     "grade_id": "header",
     "locked": true,
     "schema_version": 1,
     "solution": false
    }
   },
   "source": [
    "# 2021-12-21 Exam\n",
    "\n",
    "### General Instructions:\n",
    "\n",
    "Welcome to the **Python Programming (for Data Science)** exam session! Please, read **carefully** the instructions below before start writing code. \n",
    "This session will last **60 minutes** (plus any additional time gained during the first part of the exam) and is worth 10 points.\n",
    "\n",
    "You will earn all of the points associated to an exercise **if and only if** the answer you provide passes successfully **all** the tests for that exercise (both those that are visible and those that are hidden to you). Some exercises do not have a set of predefined tests and will be evaulated line by line.<br />\n",
    "\n",
    "To actually write down your implementation, make sure to fill in any place that says <code style=\"color:green\">**_# YOUR CODE HERE_**</code>. Note also that you should **either comment or delete** any <code style=\"color:green\">**raise NotImplementedError()**</code> exception.<br />\n",
    "\n",
    "For this exam session **you will not be allowed** to use any lecture material yet you will be able to access the following APIs:\n",
    "\n",
    "-  [Python](https://docs.python.org/)\n",
    "-  [Numpy](https://numpy.org/)\n",
    "-  [Scipy](https://docs.scipy.org/)\n",
    "-  [Pandas](https://pandas.pydata.org/)\n",
    "-  [Matplotlib](https://matplotlib.org/)\n",
    "-  [Seaborn](http://seaborn.pydata.org/)\n",
    "-  [SciKit-Learn](http://scikit-learn.org/stable/)\n",
    "\n",
    "Once you are done, save this notebook and rename it as follows:\n",
    "\n",
    "<code>**YOURUSERNAME_2021-12-21.ipynb**</code>\n",
    "\n",
    "where <code>**YOURUSERNAME**</code> is your actual username. To be consistent, we are expecting your username to be composed by your first name's initial, followed by your full lastname. As an example, in my case this notebook must be saved as <code>**dinunzio_2021-12-21.ipynb**</code> (Remember to insert an underscore <code>**'_'**</code> between your username and the date).<br />\n",
    "\n",
    "Finally, go back to [Moodle](https://esami.elearning.unipd.it/) and check for the \"**2021-12-21 Python Programming Exam**\" item; there, you will be able to upload your notebook file for grading.\n",
    "\n",
    "<center><h3>Submissions are allowed **until <span style=\"color:red\">Tuesday, 21 December 2021 at 10:00 AM</span>**</h3></center>\n",
    "\n",
    "Note that there is no limit on the number of submissions; however, be careful when you upload a new version of this notebook because each submission overwrites the previous one. \n",
    "The due date indicated above is **strict**; after that, the system will not accept any more submissions and the latest uploaded notebook will be the one considered for grading.\n",
    "\n",
    "The archive you have downloaded (<code style=\"color:magenta\">**2021-12-21-exam.zip**</code>) is orgaized as follows:\n",
    "\n",
    "<code style=\"color:red\">**2021-12-21-exam**</code> (root)<br />\n",
    "|----<code style=\"color:green\">**2021-12-21.ipynb**</code> (_this_ notebook)<br />\n",
    "|----<code>**dataset.csv**</code> (the dataset you will be using for answering data science related questions)<br />\n",
    "|----<code>**factbook.db**</code> (the sqlite database of the CIA factbook)<br />\n",
    "|----<code>**factbook.sql**</code> (the sql code that was used to create the table contained in the factbook.db)<br />\n",
    "|----<code>**README.txt**</code> (a description of the dataset.csv file)\n",
    "\n",
    "<center><h3>... Now, sit back, relax, and do your best!</h3></center>"
   ]
  },
  {
   "cell_type": "markdown",
   "metadata": {
    "nbgrader": {
     "checksum": "6555c5024084cb8965381a37a29377c9",
     "grade": false,
     "grade_id": "name",
     "locked": true,
     "schema_version": 1,
     "solution": false
    }
   },
   "source": [
    "**First Name** = Your _first name_ here\n",
    "\n",
    "**Last Name** = Your _last name_ here"
   ]
  },
  {
   "cell_type": "code",
   "execution_count": 1,
   "metadata": {
    "nbgrader": {
     "checksum": "df28b1c7ab22dda58c560c68231fe2dd",
     "grade": false,
     "grade_id": "import",
     "locked": true,
     "schema_version": 1,
     "solution": false
    }
   },
   "outputs": [],
   "source": [
    "import math\n",
    "import numpy as np\n",
    "import pandas as pd\n",
    "import matplotlib.pyplot as plt\n",
    "# Adding the following line, allows Jupyter Notebook to visualize plots\n",
    "# produced by matplotlib directly below the code cell which generated those.\n",
    "#%matplotlib inline\n",
    "import seaborn as sns\n",
    "from scipy.stats import norm\n",
    "from nose.tools import assert_equal\n",
    "from operator import itemgetter\n",
    "\n",
    "EPSILON = .0000001 # tiny tolerance for managing subtle differences resulting from floating point operations\n",
    "\n",
    "DATASET_FILE = \"dataset.csv\""
   ]
  },
  {
   "cell_type": "markdown",
   "metadata": {
    "nbgrader": {
     "checksum": "a52bd02aadcf37b2a9a7902a274b37de",
     "grade": false,
     "grade_id": "part-2",
     "locked": true,
     "schema_version": 1,
     "solution": false
    }
   },
   "source": [
    "## Exercise 1 (1 point)\n",
    "\n",
    "In this part, you will be working with the dataset file <code>**dataset.csv**</code>. For a complete description of this data source, please refer to the <code>**README.txt**</code>.\n",
    "In a nutshell, this is a sample of **1,000 instances** from a larger dataset containing census and demographic information for a set of citizens.\n",
    "Each citizen (i.e., row in the file) is described by **14** features (i.e., columns) and labeled with an binary value (i.e., the 15th and last column called <code>**income_greater_than_50k**</code>), which takes on two values: **-1** (indicating the citizen's yearly income is **below or equal than** 50k dollars) or **+1**, otherwise.<br />\n",
    "The cell below is responsible for correctly loading the dataset from the <code>**dataset.csv**</code> file. "
   ]
  },
  {
   "cell_type": "code",
   "execution_count": 6,
   "metadata": {
    "nbgrader": {
     "checksum": "fc9f53954bf9a264ce3644816b3d9476",
     "grade": false,
     "grade_id": "part-2-required",
     "locked": true,
     "schema_version": 1,
     "solution": false
    }
   },
   "outputs": [
    {
     "ename": "NotImplementedError",
     "evalue": "",
     "output_type": "error",
     "traceback": [
      "\u001b[0;31m---------------------------------------------------------------------------\u001b[0m",
      "\u001b[0;31mNotImplementedError\u001b[0m                       Traceback (most recent call last)",
      "\u001b[0;32m/var/folders/h6/cfyfx7js6xz184t8sm55cjj40000gn/T/ipykernel_95975/2883502785.py\u001b[0m in \u001b[0;36m<module>\u001b[0;34m\u001b[0m\n\u001b[1;32m      3\u001b[0m \u001b[0;34m\u001b[0m\u001b[0m\n\u001b[1;32m      4\u001b[0m \u001b[0;31m# YOUR CODE HERE\u001b[0m\u001b[0;34m\u001b[0m\u001b[0;34m\u001b[0m\u001b[0;34m\u001b[0m\u001b[0m\n\u001b[0;32m----> 5\u001b[0;31m \u001b[0;32mraise\u001b[0m \u001b[0mNotImplementedError\u001b[0m\u001b[0;34m(\u001b[0m\u001b[0;34m)\u001b[0m\u001b[0;34m\u001b[0m\u001b[0;34m\u001b[0m\u001b[0m\n\u001b[0m\u001b[1;32m      6\u001b[0m \u001b[0;34m\u001b[0m\u001b[0m\n\u001b[1;32m      7\u001b[0m \u001b[0;31m# check the first lines of your dataset\u001b[0m\u001b[0;34m\u001b[0m\u001b[0;34m\u001b[0m\u001b[0;34m\u001b[0m\u001b[0m\n",
      "\u001b[0;31mNotImplementedError\u001b[0m: "
     ]
    }
   ],
   "source": [
    "# Load the dataset stored at `DATASET_FILE` in a variable names \"data\" \n",
    "# us2 \",\" as field separator and '?' to detect NAs\n",
    "\n",
    "# YOUR CODE HERE\n",
    "raise NotImplementedError()\n",
    "\n",
    "# check the first lines of your dataset\n",
    "data.head()\n",
    "\n",
    "## THERE IS NO TEST OF CORRECTNESS FOR THIS PART"
   ]
  },
  {
   "cell_type": "code",
   "execution_count": 7,
   "metadata": {},
   "outputs": [
    {
     "data": {
      "text/html": [
       "<div>\n",
       "<style scoped>\n",
       "    .dataframe tbody tr th:only-of-type {\n",
       "        vertical-align: middle;\n",
       "    }\n",
       "\n",
       "    .dataframe tbody tr th {\n",
       "        vertical-align: top;\n",
       "    }\n",
       "\n",
       "    .dataframe thead th {\n",
       "        text-align: right;\n",
       "    }\n",
       "</style>\n",
       "<table border=\"1\" class=\"dataframe\">\n",
       "  <thead>\n",
       "    <tr style=\"text-align: right;\">\n",
       "      <th></th>\n",
       "      <th>age</th>\n",
       "      <th>workclass</th>\n",
       "      <th>fnlwgt</th>\n",
       "      <th>education</th>\n",
       "      <th>education_num</th>\n",
       "      <th>marital_status</th>\n",
       "      <th>occupation</th>\n",
       "      <th>relationship</th>\n",
       "      <th>race</th>\n",
       "      <th>sex</th>\n",
       "      <th>capital_gain</th>\n",
       "      <th>capital_loss</th>\n",
       "      <th>hours_per_week</th>\n",
       "      <th>native_country</th>\n",
       "      <th>income_greater_than_50k</th>\n",
       "    </tr>\n",
       "  </thead>\n",
       "  <tbody>\n",
       "    <tr>\n",
       "      <th>0</th>\n",
       "      <td>49</td>\n",
       "      <td>Private</td>\n",
       "      <td>153536</td>\n",
       "      <td>Some-college</td>\n",
       "      <td>10</td>\n",
       "      <td>Divorced</td>\n",
       "      <td>Prof-specialty</td>\n",
       "      <td>Not-in-family</td>\n",
       "      <td>White</td>\n",
       "      <td>Male</td>\n",
       "      <td>14084</td>\n",
       "      <td>0</td>\n",
       "      <td>44</td>\n",
       "      <td>United-States</td>\n",
       "      <td>1</td>\n",
       "    </tr>\n",
       "    <tr>\n",
       "      <th>1</th>\n",
       "      <td>19</td>\n",
       "      <td>Private</td>\n",
       "      <td>417657</td>\n",
       "      <td>HS-grad</td>\n",
       "      <td>9</td>\n",
       "      <td>Never-married</td>\n",
       "      <td>Handlers-cleaners</td>\n",
       "      <td>Own-child</td>\n",
       "      <td>White</td>\n",
       "      <td>Male</td>\n",
       "      <td>0</td>\n",
       "      <td>0</td>\n",
       "      <td>50</td>\n",
       "      <td>United-States</td>\n",
       "      <td>-1</td>\n",
       "    </tr>\n",
       "    <tr>\n",
       "      <th>2</th>\n",
       "      <td>41</td>\n",
       "      <td>Private</td>\n",
       "      <td>143046</td>\n",
       "      <td>Masters</td>\n",
       "      <td>14</td>\n",
       "      <td>Never-married</td>\n",
       "      <td>Adm-clerical</td>\n",
       "      <td>Not-in-family</td>\n",
       "      <td>White</td>\n",
       "      <td>Female</td>\n",
       "      <td>0</td>\n",
       "      <td>0</td>\n",
       "      <td>40</td>\n",
       "      <td>United-States</td>\n",
       "      <td>-1</td>\n",
       "    </tr>\n",
       "    <tr>\n",
       "      <th>3</th>\n",
       "      <td>46</td>\n",
       "      <td>Private</td>\n",
       "      <td>377401</td>\n",
       "      <td>HS-grad</td>\n",
       "      <td>9</td>\n",
       "      <td>Married-civ-spouse</td>\n",
       "      <td>Transport-moving</td>\n",
       "      <td>Husband</td>\n",
       "      <td>White</td>\n",
       "      <td>Male</td>\n",
       "      <td>0</td>\n",
       "      <td>1902</td>\n",
       "      <td>70</td>\n",
       "      <td>Canada</td>\n",
       "      <td>1</td>\n",
       "    </tr>\n",
       "    <tr>\n",
       "      <th>4</th>\n",
       "      <td>40</td>\n",
       "      <td>Private</td>\n",
       "      <td>224232</td>\n",
       "      <td>Bachelors</td>\n",
       "      <td>13</td>\n",
       "      <td>Married-civ-spouse</td>\n",
       "      <td>Sales</td>\n",
       "      <td>Husband</td>\n",
       "      <td>White</td>\n",
       "      <td>Male</td>\n",
       "      <td>0</td>\n",
       "      <td>0</td>\n",
       "      <td>40</td>\n",
       "      <td>United-States</td>\n",
       "      <td>1</td>\n",
       "    </tr>\n",
       "  </tbody>\n",
       "</table>\n",
       "</div>"
      ],
      "text/plain": [
       "   age workclass  fnlwgt     education  education_num      marital_status  \\\n",
       "0   49   Private  153536  Some-college             10            Divorced   \n",
       "1   19   Private  417657       HS-grad              9       Never-married   \n",
       "2   41   Private  143046       Masters             14       Never-married   \n",
       "3   46   Private  377401       HS-grad              9  Married-civ-spouse   \n",
       "4   40   Private  224232     Bachelors             13  Married-civ-spouse   \n",
       "\n",
       "          occupation   relationship   race     sex  capital_gain  \\\n",
       "0     Prof-specialty  Not-in-family  White    Male         14084   \n",
       "1  Handlers-cleaners      Own-child  White    Male             0   \n",
       "2       Adm-clerical  Not-in-family  White  Female             0   \n",
       "3   Transport-moving        Husband  White    Male             0   \n",
       "4              Sales        Husband  White    Male             0   \n",
       "\n",
       "   capital_loss  hours_per_week native_country  income_greater_than_50k  \n",
       "0             0              44  United-States                        1  \n",
       "1             0              50  United-States                       -1  \n",
       "2             0              40  United-States                       -1  \n",
       "3          1902              70         Canada                        1  \n",
       "4             0              40  United-States                        1  "
      ]
     },
     "execution_count": 7,
     "metadata": {},
     "output_type": "execute_result"
    }
   ],
   "source": [
    "# Load the dataset stored at `DATASET_FILE` \n",
    "# use \",\" as field separator and '?' to detect NAs\n",
    "data = pd.read_csv(DATASET_FILE, \n",
    "                   sep=\",\", \n",
    "                   na_values='?')\n",
    "data.head()"
   ]
  },
  {
   "cell_type": "markdown",
   "metadata": {
    "nbgrader": {
     "checksum": "f2f21c70d077c99447baa15fd4d24d31",
     "grade": false,
     "grade_id": "exercise-2-1-text",
     "locked": true,
     "schema_version": 1,
     "solution": false
    }
   },
   "source": [
    "## Exercise 2 (1 point)\n",
    "\n",
    "Implement the function <code>**avg_capital_gain_per_age**</code> below. This takes as input a <code>**pandas.DataFrame**</code> object and an integer value <code>**age**</code>, and returns the **average** value of <code>**capital_gain**</code> of citizens having that age.\n",
    "\n",
    "(**NOTE:** If the input age is not present, the <code>**mean()**</code> function is robust and returns <code>**np.nan**</code>)"
   ]
  },
  {
   "cell_type": "code",
   "execution_count": 17,
   "metadata": {
    "nbgrader": {
     "checksum": "b68b3232f9f44f7019a50215ccb0f621",
     "grade": false,
     "grade_id": "exercise-2-1-code",
     "locked": false,
     "schema_version": 1,
     "solution": true
    }
   },
   "outputs": [],
   "source": [
    "def avg_capital_gain_per_age(data, age):\n",
    "    \"\"\"\n",
    "    Return the average value of capital gain for citizens having a specific age.\n",
    "    \"\"\"\n",
    "    # YOUR CODE HERE\n",
    "    raise NotImplementedError()"
   ]
  },
  {
   "cell_type": "code",
   "execution_count": 18,
   "metadata": {},
   "outputs": [],
   "source": [
    "def avg_capital_gain_per_age(data, age):\n",
    "    \"\"\"\n",
    "    Return the average value of capital gain for citizens having a specific age.\n",
    "    \"\"\"\n",
    "    return data[data.age == age]['capital_gain'].mean()\n",
    "    #return np.mean(data[data.age == age]['capital_gain'])"
   ]
  },
  {
   "cell_type": "code",
   "execution_count": 19,
   "metadata": {
    "nbgrader": {
     "checksum": "adcd920200e5b732a2a653cfed878063",
     "grade": true,
     "grade_id": "exercise-2-1-test",
     "locked": true,
     "points": 1,
     "schema_version": 1,
     "solution": false
    }
   },
   "outputs": [],
   "source": [
    "\"\"\"\n",
    "Test the correctness of the implementation of the `avg_capital_gain_per_age` function\n",
    "\"\"\"\n",
    "\n",
    "assert_equal(True, np.abs(192.80769230769232 - avg_capital_gain_per_age(data, 32)) < EPSILON)\n",
    "assert_equal(0.0, avg_capital_gain_per_age(data, 27))\n",
    "assert_equal(2330.0, avg_capital_gain_per_age(data, 48))"
   ]
  },
  {
   "cell_type": "markdown",
   "metadata": {
    "nbgrader": {
     "checksum": "ee3b7bfac50d3363762e53cf35b5ba4b",
     "grade": false,
     "grade_id": "exercise-2-2-text",
     "locked": true,
     "schema_version": 1,
     "solution": false
    }
   },
   "source": [
    "## Exercise 3 (1 point)\n",
    "\n",
    "Implement the function <code>**hours_per_week_stats**</code> below. This takes as input a <code>**pandas.DataFrame**</code> object and returns a tuple containing the min, max, avg, and median value of <code>**hours_per_week**</code>, yet computed on a _slice_ of the input <code>**pandas.DataFrame**</code>.<br />\n",
    "The sliced dataset represents the subpopulation containing **female** citizens whose age is **between 36 and 49 years old** (extremes included), who were born in the **United-States** and having a value of <code>**education_num**</code> **strictly greater than** the _overall_ average."
   ]
  },
  {
   "cell_type": "code",
   "execution_count": 20,
   "metadata": {
    "nbgrader": {
     "checksum": "9e714bddf557ed341cc8ec008361126f",
     "grade": false,
     "grade_id": "exercise-2-2-code",
     "locked": false,
     "schema_version": 1,
     "solution": true
    }
   },
   "outputs": [],
   "source": [
    "def hours_per_week_stats(data):\n",
    "    \"\"\"\n",
    "    Return a tuple containing the min, max, avg, and median value of `hours_per_week` feature,\n",
    "    yet limited to a slice of the input DataFrame (data). \n",
    "    In particular, this slice will contain instances referring to female citizens\n",
    "    whose age is between 36 and 49 (extremes included) born in the United-States\n",
    "    and having a value of education_num strictly above the overall population average.\n",
    "    \"\"\"\n",
    "    # YOUR CODE HERE\n",
    "    raise NotImplementedError()"
   ]
  },
  {
   "cell_type": "code",
   "execution_count": 21,
   "metadata": {},
   "outputs": [],
   "source": [
    "def hours_per_week_stats(data):\n",
    "    \"\"\"\n",
    "    Return a tuple containing the min, max, avg, and median value of `hours_per_week` feature,\n",
    "    yet limited to a slice of the input DataFrame (data). \n",
    "    In particular, this slice will contain instances referring to female citizens\n",
    "    whose age is between 36 and 49 (extremes included) born in the United-States\n",
    "    and having a value of education_num strictly above the overall population average.\n",
    "    \"\"\"\n",
    "    sliced = data[(data.age >= 36) & \n",
    "                  (data.age <=49) & \n",
    "                  (data.native_country=='United-States') &\n",
    "                  (data.sex=='Female') &\n",
    "                  (data.education_num > data.education_num.mean())\n",
    "                 ]\n",
    "    return (\n",
    "        sliced['hours_per_week'].min(),\n",
    "        sliced['hours_per_week'].max(),\n",
    "        sliced['hours_per_week'].mean(),\n",
    "        sliced['hours_per_week'].median(),\n",
    "    )"
   ]
  },
  {
   "cell_type": "code",
   "execution_count": 22,
   "metadata": {
    "nbgrader": {
     "checksum": "3950b368373b4fe2f374e1cc94f98255",
     "grade": true,
     "grade_id": "exercise-2-2-test",
     "locked": true,
     "points": 3,
     "schema_version": 1,
     "solution": false
    }
   },
   "outputs": [],
   "source": [
    "\"\"\"\n",
    "Test the correctness of the implementation of the `hours_per_week_stats` function\n",
    "\"\"\"\n",
    "\n",
    "# Call off `hours_per_week_stats` function\n",
    "stats = hours_per_week_stats(data)\n",
    "\n",
    "assert_equal(5, stats[0])\n",
    "assert_equal(60, stats[1])"
   ]
  },
  {
   "cell_type": "markdown",
   "metadata": {
    "nbgrader": {
     "checksum": "167926701c33e36728bb7b47f90ec032",
     "grade": false,
     "grade_id": "exercise-2-3-text",
     "locked": true,
     "schema_version": 1,
     "solution": false
    }
   },
   "source": [
    "## Exercise 4 (2 points)\n",
    "\n",
    "Implement the function <code>**standardize_dataset**</code>, which takes as input a <code>**pandas.DataFrame**</code> object and modifies it by creating **new** columns corresponding to the **standardized** values of _numerical_ columns only, except for the target column, i.e., the very last column named <code>**income_greater_than_50k**</code>.<br />\n",
    "To standardize a column $X$, each original value $x\\in X$ should be modified with $x_{\\text{std}}$ as follows:\n",
    "\n",
    "$$\n",
    "x_{\\text{std}} = \\frac{x - \\mu_X}{\\sigma_X}\n",
    "$$\n",
    "\n",
    "where $\\mu_X$ and $\\sigma_X$ are the **mean** and **standard deviation** computed across $X$, respectively.\n",
    "\n",
    "To be sure standardization is applied to a numerical column only, you can use the following built-in function:\n",
    "\n",
    "<code>**pd.api.types.infer_dtype(data[column], skipna=True)**</code>.\n",
    "\n",
    "If the value returned by this function is equal to the string <code>**'integer'**</code>, then you can apply the standardization.\n",
    "\n",
    "Finally, the naming convention for standardized columns is as follows: if <code>**column**</code> is the name of the original column, then its standardized version will be <code>**column_std**</code>."
   ]
  },
  {
   "cell_type": "code",
   "execution_count": 23,
   "metadata": {
    "nbgrader": {
     "checksum": "0f275f76c9ea80f47070fb325f1bdb4d",
     "grade": false,
     "grade_id": "exercise-2-3-code",
     "locked": false,
     "schema_version": 1,
     "solution": true
    }
   },
   "outputs": [],
   "source": [
    "def standardize_dataset(data):\n",
    "    # YOUR CODE HERE\n",
    "    raise NotImplementedError()"
   ]
  },
  {
   "cell_type": "code",
   "execution_count": 24,
   "metadata": {},
   "outputs": [],
   "source": [
    "def standardize_dataset(data):\n",
    "    cols = data.columns[:-1]\n",
    "    for col in cols:\n",
    "        if pd.api.types.infer_dtype(data[col], skipna=True) == 'integer':\n",
    "            data[col + '_std'] = (data[col] - data[col].mean()) / data[col].std()\n",
    "    return data"
   ]
  },
  {
   "cell_type": "code",
   "execution_count": 25,
   "metadata": {
    "nbgrader": {
     "checksum": "8dd2f08b5ce5abdef5e30eb10e0cf870",
     "grade": true,
     "grade_id": "exercise-2-3-test",
     "locked": true,
     "points": 5,
     "schema_version": 1,
     "solution": false
    }
   },
   "outputs": [],
   "source": [
    "\"\"\"\n",
    "Test the correctness of the implementation of the `standardize_dataset` function\n",
    "\"\"\"\n",
    "\n",
    "# Call off `standardize_dataset` function on a copy of our original dataset\n",
    "data_cpy = data.copy()\n",
    "standardize_dataset(data_cpy)\n",
    "\n",
    "assert_equal(1000, data_cpy.shape[0])\n",
    "assert_equal(21, data_cpy.shape[1])\n",
    "assert_equal(True, np.abs(0.093258105603949315 - data_cpy.iloc[42]['age_std']) < EPSILON)\n",
    "assert_equal(True, np.abs(-0.21956059890921917 - data_cpy.iloc[73]['capital_loss_std']) < EPSILON)"
   ]
  },
  {
   "cell_type": "markdown",
   "metadata": {
    "nbgrader": {
     "checksum": "d2b3af702cfead9c97f78c8887f2ce01",
     "grade": false,
     "grade_id": "exercise-2-4-1-text",
     "locked": true,
     "schema_version": 1,
     "solution": false
    }
   },
   "source": [
    "## Exercise 5 (1 point)\n",
    "\n",
    "Connect to the CIA Factbook database factbook.db and use an SQL query to select all the data of the columns *name* and *population* contained in the table *facts*. Build a pandas DataFrame with the result set in a varibale named *countries*. Rename the columns of the dataframe with the following names: \"country\", \"population\".\n"
   ]
  },
  {
   "cell_type": "code",
   "execution_count": 26,
   "metadata": {
    "nbgrader": {
     "checksum": "92e86bad0a1645fafef2d4d58cd7d014",
     "grade": false,
     "grade_id": "exercise-2-4-1-code",
     "locked": false,
     "schema_version": 1,
     "solution": true
    }
   },
   "outputs": [
    {
     "ename": "NotImplementedError",
     "evalue": "",
     "output_type": "error",
     "traceback": [
      "\u001b[0;31m---------------------------------------------------------------------------\u001b[0m",
      "\u001b[0;31mNotImplementedError\u001b[0m                       Traceback (most recent call last)",
      "\u001b[0;32m/var/folders/h6/cfyfx7js6xz184t8sm55cjj40000gn/T/ipykernel_95975/2838414036.py\u001b[0m in \u001b[0;36m<module>\u001b[0;34m\u001b[0m\n\u001b[1;32m      2\u001b[0m \u001b[0;34m\u001b[0m\u001b[0m\n\u001b[1;32m      3\u001b[0m \u001b[0;31m# YOUR CODE HERE\u001b[0m\u001b[0;34m\u001b[0m\u001b[0;34m\u001b[0m\u001b[0;34m\u001b[0m\u001b[0m\n\u001b[0;32m----> 4\u001b[0;31m \u001b[0;32mraise\u001b[0m \u001b[0mNotImplementedError\u001b[0m\u001b[0;34m(\u001b[0m\u001b[0;34m)\u001b[0m\u001b[0;34m\u001b[0m\u001b[0;34m\u001b[0m\u001b[0m\n\u001b[0m\u001b[1;32m      5\u001b[0m \u001b[0;34m\u001b[0m\u001b[0m\n\u001b[1;32m      6\u001b[0m \u001b[0;31m## THERE IS NO TEST OF CORRECTNESS FOR THIS PART\u001b[0m\u001b[0;34m\u001b[0m\u001b[0;34m\u001b[0m\u001b[0;34m\u001b[0m\u001b[0m\n",
      "\u001b[0;31mNotImplementedError\u001b[0m: "
     ]
    }
   ],
   "source": [
    "import sqlite3\n",
    "\n",
    "# YOUR CODE HERE\n",
    "raise NotImplementedError()\n",
    "\n",
    "## THERE IS NO TEST OF CORRECTNESS FOR THIS PART\n"
   ]
  },
  {
   "cell_type": "code",
   "execution_count": 27,
   "metadata": {
    "nbgrader": {
     "checksum": "ef3bec9ee8f4dc0b247ee41ce4f8c6ca",
     "grade": true,
     "grade_id": "exercise-2-4-1-test",
     "locked": true,
     "points": 1,
     "schema_version": 1,
     "solution": false
    }
   },
   "outputs": [
    {
     "name": "stdout",
     "output_type": "stream",
     "text": [
      "       country  population\n",
      "0  Afghanistan  32564342.0\n",
      "1      Albania   3029278.0\n",
      "2      Algeria  39542166.0\n",
      "3      Andorra     85580.0\n",
      "4       Angola  19625353.0\n"
     ]
    }
   ],
   "source": [
    "import sqlite3\n",
    "\n",
    "# Connect to the database \"factbook.db\" and read all the rows in the table \"facts\".\n",
    "conn = sqlite3.connect('factbook.db')\n",
    "cur = conn.cursor()\n",
    "cur.execute(\"SELECT name, population FROM facts;\")\n",
    "results = cur.fetchall()\n",
    "\n",
    "countries = pd.DataFrame(results, columns=[\"country\", \"population\"])\n",
    "\n",
    "print(countries.head())\n",
    "\n"
   ]
  },
  {
   "cell_type": "markdown",
   "metadata": {},
   "source": [
    "## Exercise 6 (1 point)\n",
    "\n",
    "Merge the dataframe *data* created in exercise 1 and the dataframe *countries* built in the previous exercise using the columns *native_country* and *country*, respectvely. Save the result in a new dataframe names *data_ext*."
   ]
  },
  {
   "cell_type": "code",
   "execution_count": 28,
   "metadata": {},
   "outputs": [
    {
     "ename": "NotImplementedError",
     "evalue": "",
     "output_type": "error",
     "traceback": [
      "\u001b[0;31m---------------------------------------------------------------------------\u001b[0m",
      "\u001b[0;31mNotImplementedError\u001b[0m                       Traceback (most recent call last)",
      "\u001b[0;32m/var/folders/h6/cfyfx7js6xz184t8sm55cjj40000gn/T/ipykernel_95975/1577608556.py\u001b[0m in \u001b[0;36m<module>\u001b[0;34m\u001b[0m\n\u001b[1;32m      1\u001b[0m \u001b[0;31m# YOUR CODE HERE\u001b[0m\u001b[0;34m\u001b[0m\u001b[0;34m\u001b[0m\u001b[0;34m\u001b[0m\u001b[0m\n\u001b[0;32m----> 2\u001b[0;31m \u001b[0;32mraise\u001b[0m \u001b[0mNotImplementedError\u001b[0m\u001b[0;34m(\u001b[0m\u001b[0;34m)\u001b[0m\u001b[0;34m\u001b[0m\u001b[0;34m\u001b[0m\u001b[0m\n\u001b[0m",
      "\u001b[0;31mNotImplementedError\u001b[0m: "
     ]
    }
   ],
   "source": [
    "# YOUR CODE HERE\n",
    "raise NotImplementedError()\n"
   ]
  },
  {
   "cell_type": "code",
   "execution_count": 29,
   "metadata": {},
   "outputs": [],
   "source": [
    "# YOUR CODE HERE\n",
    "data_ext = pd.merge(data, countries, left_on = \"native_country\", right_on = \"country\")"
   ]
  },
  {
   "cell_type": "code",
   "execution_count": 30,
   "metadata": {},
   "outputs": [],
   "source": [
    "\"\"\"\n",
    "Test the correctness of `dist_plot_age`, `mu` and `sigma`\n",
    "\"\"\"\n",
    "\n",
    "assert_equal(True, (data_ext.shape[0] == 56))\n"
   ]
  },
  {
   "cell_type": "markdown",
   "metadata": {},
   "source": [
    "## Exercise 7 (1 point)\n",
    "\n",
    "Split the *data_ext* dataframe into two dataframes using the \"masking\" approach. One dataframe, named \"lower\", must contain the rows of *data_ext* that have a population lower than the mean of the population of the dataframe *countries*; the other dataframe, named \"gr_eq\", must contain the rows of *data_ext* that have a population greater or equal than the mean of the population of the dataframe *countries*.\n"
   ]
  },
  {
   "cell_type": "code",
   "execution_count": 31,
   "metadata": {},
   "outputs": [
    {
     "ename": "NotImplementedError",
     "evalue": "",
     "output_type": "error",
     "traceback": [
      "\u001b[0;31m---------------------------------------------------------------------------\u001b[0m",
      "\u001b[0;31mNotImplementedError\u001b[0m                       Traceback (most recent call last)",
      "\u001b[0;32m/var/folders/h6/cfyfx7js6xz184t8sm55cjj40000gn/T/ipykernel_95975/2480413840.py\u001b[0m in \u001b[0;36m<module>\u001b[0;34m\u001b[0m\n\u001b[1;32m      1\u001b[0m \u001b[0;31m# YOUR CODE HERE\u001b[0m\u001b[0;34m\u001b[0m\u001b[0;34m\u001b[0m\u001b[0;34m\u001b[0m\u001b[0m\n\u001b[0;32m----> 2\u001b[0;31m \u001b[0;32mraise\u001b[0m \u001b[0mNotImplementedError\u001b[0m\u001b[0;34m(\u001b[0m\u001b[0;34m)\u001b[0m\u001b[0;34m\u001b[0m\u001b[0;34m\u001b[0m\u001b[0m\n\u001b[0m\u001b[1;32m      3\u001b[0m \u001b[0;34m\u001b[0m\u001b[0m\n\u001b[1;32m      4\u001b[0m \u001b[0;34m\u001b[0m\u001b[0m\n\u001b[1;32m      5\u001b[0m \u001b[0;31m## THERE IS NO TEST OF CORRECTNESS FOR THIS PART\u001b[0m\u001b[0;34m\u001b[0m\u001b[0;34m\u001b[0m\u001b[0;34m\u001b[0m\u001b[0m\n",
      "\u001b[0;31mNotImplementedError\u001b[0m: "
     ]
    }
   ],
   "source": [
    "# YOUR CODE HERE\n",
    "raise NotImplementedError()\n",
    "\n",
    "\n",
    "## THERE IS NO TEST OF CORRECTNESS FOR THIS PART\n"
   ]
  },
  {
   "cell_type": "code",
   "execution_count": 32,
   "metadata": {},
   "outputs": [
    {
     "name": "stdout",
     "output_type": "stream",
     "text": [
      "81824270.0\n",
      "(23, 17)\n",
      "(33, 17)\n"
     ]
    }
   ],
   "source": [
    "print(data_ext[\"population\"].median())\n",
    "\n",
    "lower = data_ext[data_ext[\"population\"] < countries[\"population\"].mean()]\n",
    "gr_eq = data_ext[data_ext[\"population\"] >= countries[\"population\"].mean()]\n",
    "\n",
    "print(lower.shape)\n",
    "print(gr_eq.shape)"
   ]
  },
  {
   "cell_type": "markdown",
   "metadata": {
    "nbgrader": {
     "checksum": "c038056da5a06fe1fabac57e8f86e607",
     "grade": false,
     "grade_id": "exercise-2-4-2-text",
     "locked": true,
     "schema_version": 1,
     "solution": false
    }
   },
   "source": [
    "## Exercise 8 (2 points)\n",
    "\n",
    "Build a Figure object and create a 2 x 1 matrix of subplots.\n",
    "In the first subplot you must plot the distribution of the numerical feature <code>**age**</code> of the subset of data of countries with a popoulation lower than the mean using the <code>**distplot**</code> function.\n",
    "In the second subplot you must plot the distribution of the numerical feature <code>**age**</code> of the subset of data of countries with a popoulation greater or equal than the mean using the <code>**hist**</code> function.\n"
   ]
  },
  {
   "cell_type": "code",
   "execution_count": 33,
   "metadata": {},
   "outputs": [
    {
     "ename": "NotImplementedError",
     "evalue": "",
     "output_type": "error",
     "traceback": [
      "\u001b[0;31m---------------------------------------------------------------------------\u001b[0m",
      "\u001b[0;31mNotImplementedError\u001b[0m                       Traceback (most recent call last)",
      "\u001b[0;32m/var/folders/h6/cfyfx7js6xz184t8sm55cjj40000gn/T/ipykernel_95975/2480413840.py\u001b[0m in \u001b[0;36m<module>\u001b[0;34m\u001b[0m\n\u001b[1;32m      1\u001b[0m \u001b[0;31m# YOUR CODE HERE\u001b[0m\u001b[0;34m\u001b[0m\u001b[0;34m\u001b[0m\u001b[0;34m\u001b[0m\u001b[0m\n\u001b[0;32m----> 2\u001b[0;31m \u001b[0;32mraise\u001b[0m \u001b[0mNotImplementedError\u001b[0m\u001b[0;34m(\u001b[0m\u001b[0;34m)\u001b[0m\u001b[0;34m\u001b[0m\u001b[0;34m\u001b[0m\u001b[0m\n\u001b[0m\u001b[1;32m      3\u001b[0m \u001b[0;34m\u001b[0m\u001b[0m\n\u001b[1;32m      4\u001b[0m \u001b[0;34m\u001b[0m\u001b[0m\n\u001b[1;32m      5\u001b[0m \u001b[0;31m## THERE IS NO TEST OF CORRECTNESS FOR THIS PART\u001b[0m\u001b[0;34m\u001b[0m\u001b[0;34m\u001b[0m\u001b[0;34m\u001b[0m\u001b[0m\n",
      "\u001b[0;31mNotImplementedError\u001b[0m: "
     ]
    }
   ],
   "source": [
    "# YOUR CODE HERE\n",
    "raise NotImplementedError()\n",
    "\n",
    "\n",
    "## THERE IS NO TEST OF CORRECTNESS FOR THIS PART\n"
   ]
  },
  {
   "cell_type": "code",
   "execution_count": 37,
   "metadata": {},
   "outputs": [
    {
     "data": {
      "image/png": "[encoded data removed]",
      "text/plain": [
       "<Figure size 432x288 with 2 Axes>"
      ]
     },
     "metadata": {
      "needs_background": "light"
     },
     "output_type": "display_data"
    }
   ],
   "source": [
    "# Create a Figure object\n",
    "fig = plt.figure()\n",
    "\n",
    "# Add a 2x2 subplot and selecting the 1st one (numbering starts from 1)\n",
    "ax1 = fig.add_subplot(2, 1, 1)\n",
    "\n",
    "# Add a 2x2 subplot and selecting the 2nd one\n",
    "ax2 = fig.add_subplot(2, 1, 2)\n",
    "\n",
    "# Call the instance method on each AxesSubplot\n",
    "_ = ax1.hist(lower.age, bins=[0, 10, 20, 30, 40, 50, 60, 70 ,80, 90, 100])\n",
    "_ = ax2.hist(gr_eq.age, bins=[0, 10, 20, 30, 40, 50, 60, 70 ,80, 90, 100])"
   ]
  },
  {
   "cell_type": "markdown",
   "metadata": {},
   "source": [
    "# Bonus: Machine Learning (3 points)\n",
    "\n",
    "In this part, you will be able to show your machine learning skills! Use the scikit-learn package to import all the subpackages that you need. Please follow the structure indicated in the following steps to train a classifier of your choice. \n",
    "\n",
    "The goal is to predict whether the income of a person is greater than 50k!"
   ]
  },
  {
   "cell_type": "code",
   "execution_count": 53,
   "metadata": {},
   "outputs": [
    {
     "name": "stdout",
     "output_type": "stream",
     "text": [
      "Training Set shape: (800, 3)\n",
      "Test Set shape: (200, 3)\n"
     ]
    }
   ],
   "source": [
    "# import packages\n",
    "\n",
    "### YOUR CODE HERE\n",
    "from sklearn.model_selection import train_test_split\n",
    "from sklearn.linear_model import RidgeClassifier\n",
    "\"\"\"\n",
    "Extract the feature matrix X from our original DataFrame.\n",
    "\"\"\"\n",
    "\n",
    "### YOUR CODE HERE\n",
    "X = data.loc[:, ['age', 'education_num', 'hours_per_week']]   #just numerical variables considered for sake of simplicity\n",
    "\n",
    "\"\"\"\n",
    "Similarly, we want to extract the target class column vector y.\n",
    "\"\"\"\n",
    "\n",
    "### YOUR CODE HERE\n",
    "\n",
    "y = data.iloc[:, -1]\n",
    "\n",
    "\"\"\"\n",
    "Use a simple stratified train/test split\n",
    "\"\"\"\n",
    "X_train, X_test, y_train, y_test = train_test_split(X, y, \n",
    "                                                    test_size = 0.2, \n",
    "                                                    random_state = 321, \n",
    "                                                    stratify = y)\n",
    "\n",
    "print(\"Training Set shape: {}\".format(X_train.shape))\n",
    "print(\"Test Set shape: {}\".format(X_test.shape))"
   ]
  },
  {
   "cell_type": "markdown",
   "metadata": {},
   "source": [
    "## Train\n",
    "Implement the following code to train a model of your choice."
   ]
  },
  {
   "cell_type": "code",
   "execution_count": 54,
   "metadata": {},
   "outputs": [
    {
     "data": {
      "text/plain": [
       "RidgeClassifier()"
      ]
     },
     "execution_count": 54,
     "metadata": {},
     "output_type": "execute_result"
    }
   ],
   "source": [
    "# Create model object\n",
    "\n",
    "### YOUR CODE HERE\n",
    "model = RidgeClassifier()\n",
    "# Fit the model to the training set\n",
    "model.fit(X_train, y_train)"
   ]
  },
  {
   "cell_type": "markdown",
   "metadata": {},
   "source": [
    "## Evaluate\n",
    "\n",
    "Run the following code to implement a function which evaluates the effectiveness of your classifier."
   ]
  },
  {
   "cell_type": "code",
   "execution_count": 55,
   "metadata": {},
   "outputs": [],
   "source": [
    "\"\"\"\n",
    "General function used to assess the quality of predictions\n",
    "in terms of two scores: accuracy and ROC AUC (Area Under the ROC Curve)\n",
    "\"\"\"\n",
    "from sklearn.metrics import accuracy_score\n",
    "from sklearn.metrics import roc_auc_score\n",
    "\n",
    "def evaluate(true_values, predicted_values):\n",
    "    # Classification Accuracy\n",
    "    print(\"Accuracy = {:.3f}\".\n",
    "          format(accuracy_score(true_values, predicted_values)))\n",
    "    # Explained variance score: 1 is perfect prediction\n",
    "    print(\"Area Under the ROC Curve (ROC AUC) = {:.3f}\".\n",
    "          format(roc_auc_score(true_values, predicted_values)))\n",
    "\n"
   ]
  },
  {
   "cell_type": "markdown",
   "metadata": {},
   "source": [
    "Implement the following code to test your model."
   ]
  },
  {
   "cell_type": "code",
   "execution_count": 56,
   "metadata": {},
   "outputs": [
    {
     "name": "stdout",
     "output_type": "stream",
     "text": [
      "***** Evaluate Performance on Test Set *****\n",
      "Accuracy = 0.780\n",
      "Area Under the ROC Curve (ROC AUC) = 0.607\n"
     ]
    }
   ],
   "source": [
    "# Assess the quality of predictions made on the test set\n",
    "print(\"***** Evaluate Performance on Test Set *****\") \n",
    "\n",
    "### YOUR CODE HERE\n",
    "predicted_values = model.predict(X_test)\n",
    "\n",
    "evaluate(y_test, predicted_values)"
   ]
  },
  {
   "cell_type": "code",
   "execution_count": null,
   "metadata": {},
   "outputs": [],
   "source": []
  }
 ],
 "metadata": {
  "kernelspec": {
   "display_name": "Python 3 (ipykernel)",
   "language": "python",
   "name": "python3"
  },
  "language_info": {
   "codemirror_mode": {
    "name": "ipython",
    "version": 3
   },
   "file_extension": ".py",
   "mimetype": "text/x-python",
   "name": "python",
   "nbconvert_exporter": "python",
   "pygments_lexer": "ipython3",
   "version": "3.9.4"
  }
 },
 "nbformat": 4,
 "nbformat_minor": 4
}
