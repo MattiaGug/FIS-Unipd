{
 "cells": [
  {
   "cell_type": "markdown",
   "metadata": {},
   "source": [
    "## Tutorship Session 2 - 06112023"
   ]
  },
  {
   "cell_type": "markdown",
   "metadata": {},
   "source": [
    "Implementation of Perceptron algorithm "
   ]
  },
  {
   "cell_type": "code",
   "execution_count": 4,
   "metadata": {},
   "outputs": [],
   "source": [
    "import numpy as np"
   ]
  },
  {
   "cell_type": "code",
   "execution_count": 5,
   "metadata": {},
   "outputs": [],
   "source": [
    "T = np.array([[1, 1], [0, 2], [3, 0]])\n",
    "l = np.array([1, -1, 1])"
   ]
  },
  {
   "cell_type": "code",
   "execution_count": 28,
   "metadata": {},
   "outputs": [
    {
     "name": "stdout",
     "output_type": "stream",
     "text": [
      "Starting vector: W =  [0. 0.]\n",
      "w =  [1. 1.] error on  [1 1] ,  1\n",
      "w =  [ 1. -1.] error on  [0 2] ,  -1\n",
      "w =  [2. 0.] error on  [1 1] ,  1\n",
      "w =  [ 2. -2.] error on  [0 2] ,  -1\n",
      "w =  [ 3. -1.] error on  [1 1] ,  1\n",
      "final vector: W =  [ 3. -1.]\n"
     ]
    }
   ],
   "source": [
    "w = np.zeros(2)\n",
    "print(\"Starting vector: W = \", w)\n",
    "\n",
    "m = 1\n",
    "\n",
    "while m > 0:\n",
    "    m = 0 \n",
    "    for i in range(np.shape(T)[0]):\n",
    "        if np.dot(w.T, T[i, :]) * l[i] <= 0:\n",
    "            w += T[i, :]* l[i]\n",
    "            m += 1\n",
    "            print(\"w = \", w, \"error on \", T[i, :], \", \", l[i])\n",
    "            \n",
    "print(\"final vector: W = \", w)\n",
    "        "
   ]
  },
  {
   "cell_type": "code",
   "execution_count": 29,
   "metadata": {},
   "outputs": [],
   "source": [
    "from matplotlib import pyplot as plt"
   ]
  },
  {
   "cell_type": "code",
   "execution_count": 32,
   "metadata": {},
   "outputs": [
    {
     "data": {
      "image/png": "[encoded data removed]",
      "text/plain": [
       "<Figure size 432x288 with 1 Axes>"
      ]
     },
     "metadata": {},
     "output_type": "display_data"
    }
   ],
   "source": [
    "plt.plot(T[[0, 2], 0], T[[0, 2], 1], \"bo\" )\n",
    "plt.plot(T[1, 0], T[1, 1], \"ro\")\n",
    "x_graph = np.arange(-0.5, 4)\n",
    "plt.plot(x_graph, -w[0]/w[1]*x_graph)\n",
    "plt.grid()\n",
    "plt.show()"
   ]
  },
  {
   "cell_type": "code",
   "execution_count": 33,
   "metadata": {},
   "outputs": [
    {
     "name": "stdout",
     "output_type": "stream",
     "text": [
      "Starting vector: W =  [0. 0.]\n",
      "w =  [1. 1.] error on  [1 1] ,  1\n",
      "w =  [ 1. -1.] error on  [0 2] ,  -1\n",
      "w =  [2. 0.] error on  [1 1] ,  1\n",
      "w =  [ 2. -2.] error on  [0 2] ,  -1\n",
      "w =  [ 3. -1.] error on  [1 1] ,  1\n"
     ]
    },
    {
     "name": "stderr",
     "output_type": "stream",
     "text": [
      "/usr/lib/python3/dist-packages/ipykernel_launcher.py:17: RuntimeWarning: divide by zero encountered in double_scalars\n"
     ]
    },
    {
     "data": {
      "image/png": "[encoded data removed]",
      "text/plain": [
       "<Figure size 432x288 with 1 Axes>"
      ]
     },
     "metadata": {},
     "output_type": "display_data"
    }
   ],
   "source": [
    "plt.plot(T[[0, 2], 0], T[[0, 2], 1], \"bo\" )\n",
    "plt.plot(T[1, 0], T[1, 1], \"ro\")\n",
    "x_graph = np.arange(-0.5, 4)\n",
    "\n",
    "w = np.zeros(2)\n",
    "print(\"Starting vector: W = \", w)\n",
    "\n",
    "m = 1\n",
    "\n",
    "while m > 0:\n",
    "    m = 0 \n",
    "    for i in range(np.shape(T)[0]):\n",
    "        if np.dot(w.T, T[i, :]) * l[i] <= 0:\n",
    "            w += T[i, :]* l[i]\n",
    "            m += 1\n",
    "            print(\"w = \", w, \"error on \", T[i, :], \", \", l[i])\n",
    "            plt.plot(x_graph, -w[0]/w[1] * x_graph, \"--r\", label = str(w))\n",
    "            \n",
    "\n",
    "\n",
    "plt.plot(x_graph, -w[0]/w[1]*x_graph, label = str(w))\n",
    "plt.grid()\n",
    "plt.show()"
   ]
  },
  {
   "cell_type": "code",
   "execution_count": 16,
   "metadata": {},
   "outputs": [],
   "source": [
    "# Other way to implement\n",
    "\n",
    "data = [([1, 1], 1),\n",
    "        ([0, 2], -1),\n",
    "        ([3, 0], 1)]\n",
    "\n",
    "#splitting the features and labels\n",
    "\n",
    "X = []\n",
    "Y = []\n",
    "\n",
    "for x, label in data:\n",
    "    X.append(x)\n",
    "    Y.append(label)\n",
    "X = np.array(X)\n",
    "Y = np.array(Y)\n"
   ]
  },
  {
   "cell_type": "code",
   "execution_count": 24,
   "metadata": {},
   "outputs": [],
   "source": [
    "m = 0 \n",
    "\n",
    "W = np.zeros(2).reshape(1, 2)\n",
    "while m > 0:\n",
    "    m = 0 \n",
    "    for x, y in zip(X, Y):\n",
    "        if (np.dot(W.shape, np.array(x).reshape(2, 1)) * y)[0] <= 0:\n",
    "            W += np.array(x) * y \n",
    "            m +=1\n",
    "            print(W)"
   ]
  },
  {
   "cell_type": "code",
   "execution_count": 25,
   "metadata": {},
   "outputs": [
    {
     "data": {
      "text/plain": [
       "array([[1, 1],\n",
       "       [0, 2],\n",
       "       [3, 0]])"
      ]
     },
     "execution_count": 25,
     "metadata": {},
     "output_type": "execute_result"
    }
   ],
   "source": [
    "X"
   ]
  },
  {
   "cell_type": "code",
   "execution_count": null,
   "metadata": {},
   "outputs": [],
   "source": [
    "for x, y in zip(X, Y):\n",
    "    print(np.dot(W, np.arra))"
   ]
  }
 ],
 "metadata": {
  "kernelspec": {
   "display_name": "Python 3",
   "language": "python",
   "name": "python3"
  },
  "language_info": {
   "codemirror_mode": {
    "name": "ipython",
    "version": 3
   },
   "file_extension": ".py",
   "mimetype": "text/x-python",
   "name": "python",
   "nbconvert_exporter": "python",
   "pygments_lexer": "ipython3",
   "version": "3.6.9"
  }
 },
 "nbformat": 4,
 "nbformat_minor": 2
}
