{
 "cells": [
  {
   "cell_type": "markdown",
   "metadata": {
    "id": "3PcpcHoovAnq"
   },
   "source": [
    "# 2020-01-14 Exam\n",
    "\n",
    "### General Instructions:\n",
    "\n",
    "Welcome to the **Python Programming (for Data Science)** exam session! Please, read **carefully** the instructions below before start writing code. \n",
    "This session will last **60 minutes** (plus any additional time gained during the first part of the exam) and is worth 10 points.\n",
    "\n",
    "You will earn all of the points associated to an exercise **if and only if** the answer you provide passes successfully **all** the tests for that exercise (both those that are visible and those that are hidden to you). Some exercises do not have a set of predefined tests and will be evaulated line by line.<br />\n",
    "\n",
    "To actually write down your implementation, make sure to fill in any place that says <code style=\"color:green\">**_# YOUR CODE HERE_**</code>. Note also that you should **either comment or delete** any <code style=\"color:green\">**raise NotImplementedError()**</code> exception.<br />\n",
    "\n",
    "For this exam session **you will not be allowed** to use any lecture material yet you will be able to access the following APIs:\n",
    "\n",
    "-  [Python](https://docs.python.org/)\n",
    "-  [Numpy](https://numpy.org/)\n",
    "-  [Scipy](https://docs.scipy.org/)\n",
    "-  [Pandas](https://pandas.pydata.org/)\n",
    "-  [Matplotlib](https://matplotlib.org/)\n",
    "-  [Seaborn](http://seaborn.pydata.org/)\n",
    "-  [SciKit-Learn](http://scikit-learn.org/stable/)\n",
    "\n",
    "Once you are done, save this notebook and rename it as follows:\n",
    "\n",
    "<code>**YOURUSERNAME_2021-01-14.ipynb**</code>\n",
    "\n",
    "where <code>**YOURUSERNAME**</code> is your actual username. To be consistent, we are expecting your username to be composed by your first name's initial, followed by your full lastname. As an example, in my case this notebook must be saved as <code>**dinunzio_2021-01-14.ipynb**</code> (Remember to insert an underscore <code>**'_'**</code> between your username and the date).<br />\n",
    "\n",
    "Finally, go back to [Moodle](https://esami.elearning.unipd.it/) and check for the \"**2020-01-14 Python Programming Exam**\" item; there, you will be able to upload your notebook file for grading.\n",
    "\n",
    "<center><h3>Submissions are allowed **until <span style=\"color:red\">Thursday, 14 January 2021 at 10:00 AM</span>**</h3></center>\n",
    "\n",
    "Note that there is no limit on the number of submissions; however, be careful when you upload a new version of this notebook because each submission overwrites the previous one. \n",
    "The due date indicated above is **strict**; after that, the system will not accept any more submissions and the latest uploaded notebook will be the one considered for grading.\n",
    "\n",
    "The archive you have downloaded (<code style=\"color:magenta\">**2021-01-14-exam.zip**</code>) is orgaized as follows:\n",
    "\n",
    "<code style=\"color:red\">**2021-01-14-exam**</code> (root)<br />\n",
    "|----<code style=\"color:green\">**2021-01-14.ipynb**</code> (_this_ notebook)<br />\n",
    "|----<code>**dataset.csv**</code> (the dataset you will be using for answering data science related questions)<br />\n",
    "|----<code>**factbook.db**</code> (the sqlite database of the CIA factbook)<br />\n",
    "|----<code>**factbook.sql**</code> (the sql code that was used to create the table contained in the factbook.db)<br />\n",
    "|----<code>**README.txt**</code> (a description of the dataset.csv file)\n",
    "\n",
    "<center><h3>... Now, sit back, relax, and do your best!</h3></center>"
   ]
  },
  {
   "cell_type": "markdown",
   "metadata": {
    "id": "-JOxouJyvAn2"
   },
   "source": [
    "**First Name** = Your _first name_ here\n",
    "\n",
    "**Last Name** = Your _last name_ here"
   ]
  },
  {
   "cell_type": "code",
   "execution_count": 13,
   "metadata": {
    "colab": {
     "background_save": true
    },
    "id": "BLJvo9qD9H2x"
   },
   "outputs": [
    {
     "name": "stdout",
     "output_type": "stream",
     "text": [
      "Requirement already satisfied: nose in /Users/mattiagugole/opt/anaconda3/lib/python3.9/site-packages (1.3.7)\n",
      "Note: you may need to restart the kernel to use updated packages.\n"
     ]
    }
   ],
   "source": [
    "pip install nose"
   ]
  },
  {
   "cell_type": "code",
   "execution_count": 14,
   "metadata": {
    "id": "un4as8F69JkX"
   },
   "outputs": [],
   "source": [
    "#from google.colab import drive\n",
    "#drive.mount('/content/drive')"
   ]
  },
  {
   "cell_type": "code",
   "execution_count": 15,
   "metadata": {
    "id": "o0rOx5rAvAn3"
   },
   "outputs": [],
   "source": [
    "import math\n",
    "import numpy as np\n",
    "import pandas as pd\n",
    "import matplotlib.pyplot as plt\n",
    "# Adding the following line, allows Jupyter Notebook to visualize plots\n",
    "# produced by matplotlib directly below the code cell which generated those.\n",
    "#%matplotlib inline\n",
    "import seaborn as sns\n",
    "from scipy.stats import norm\n",
    "from nose.tools import assert_equal\n",
    "from operator import itemgetter\n",
    "\n",
    "EPSILON = .0000001 # tiny tolerance for managing subtle differences resulting from floating point operations\n",
    "\n",
    "DATASET_FILE = \"dataset.csv\""
   ]
  },
  {
   "cell_type": "markdown",
   "metadata": {
    "id": "6xQre5ScvAn6"
   },
   "source": [
    "## Exercise 1 (1 point)\n",
    "\n",
    "In this part, you will be working with the dataset file <code>**dataset.csv**</code>. For a complete description of this data source, please refer to the <code>**README.txt**</code>.\n",
    "In a nutshell, this is a sample of **1,000 instances** from a larger dataset containing census and demographic information for a set of citizens.\n",
    "Each citizen (i.e., row in the file) is described by **14** features (i.e., columns) and labeled with an binary value (i.e., the 15th and last column called <code>**income_greater_than_50k**</code>), which takes on two values: **-1** (indicating the citizen's yearly income is **below or equal than** 50k dollars) or **+1**, otherwise.<br />\n",
    "The cell below is responsible for correctly loading the dataset from the <code>**dataset.csv**</code> file. Once this is executed, you can start answering the questions below."
   ]
  },
  {
   "cell_type": "code",
   "execution_count": 16,
   "metadata": {
    "id": "-dvHu-XKFbGv"
   },
   "outputs": [],
   "source": [
    "pd.read_csv??"
   ]
  },
  {
   "cell_type": "code",
   "execution_count": 17,
   "metadata": {
    "colab": {
     "base_uri": "https://localhost:8080/"
    },
    "executionInfo": {
     "elapsed": 1279,
     "status": "ok",
     "timestamp": 1669200142659,
     "user": {
      "displayName": "mojtaba amini",
      "userId": "16386290129088016569"
     },
     "user_tz": -60
    },
    "id": "va8_yET8vAn8",
    "outputId": "a8cc02be-13c9-421c-a0af-aefc45f3e633"
   },
   "outputs": [
    {
     "data": {
      "text/plain": [
       "(1000, 15)"
      ]
     },
     "execution_count": 17,
     "metadata": {},
     "output_type": "execute_result"
    }
   ],
   "source": [
    "# Load the dataset stored at `DATASET_FILE` in a variable names \"data\" using \",\" as field separator and '?' to detect NAs\n",
    "\n",
    "# YOUR CODE HERE\n",
    "# raise NotImplementedError()\n",
    "data = pd.read_csv(DATASET_FILE, sep = \",\", na_values=[\"?\"])\n",
    "# check the first lines of your dataset\n",
    "data.head()\n",
    "data.shape\n",
    "## THERE IS NO TEST OF CORRECTNESS FOR THIS PART"
   ]
  },
  {
   "cell_type": "markdown",
   "metadata": {
    "id": "PxGmweyevAn-"
   },
   "source": [
    "## Exercise 2 (1 point)\n",
    "\n",
    "Implement the function <code>**avg_capital_gain_per_age**</code> below. This takes as input a <code>**pandas.DataFrame**</code> object and an integer value <code>**age**</code>, and returns the **average** value of <code>**capital_gain**</code> of citizens having that age.\n",
    "\n",
    "(**NOTE:** If the input age is not present, the <code>**mean()**</code> function is robust and returns <code>**np.nan**</code>)"
   ]
  },
  {
   "cell_type": "code",
   "execution_count": 18,
   "metadata": {
    "id": "tGchEI63vAn_"
   },
   "outputs": [],
   "source": [
    "def avg_capital_gain_per_age(data, age):\n",
    "    \"\"\"\n",
    "    Return the average value of capital gain for citizens having a specific age.\n",
    "    \"\"\"\n",
    "    # YOUR CODE HERE\n",
    "    \n",
    "    if age in data[\"age\"].unique():\n",
    "        return data[data[\"age\"] == age][\"capital_gain\"].mean()\n",
    "    else:\n",
    "        return np.nan\n"
   ]
  },
  {
   "cell_type": "code",
   "execution_count": 19,
   "metadata": {},
   "outputs": [
    {
     "name": "stdout",
     "output_type": "stream",
     "text": [
      "name 'y' is not defined\n"
     ]
    }
   ],
   "source": [
    "try:\n",
    "    print(y)\n",
    "    x = 1/0\n",
    "except ZeroDivisionError:\n",
    "    print(\"division by zero error\")\n",
    "except Exception as e: \n",
    "    print(e)"
   ]
  },
  {
   "cell_type": "code",
   "execution_count": 20,
   "metadata": {
    "id": "LGXEa_UBvAoC"
   },
   "outputs": [],
   "source": [
    "\"\"\"\n",
    "Test the correctness of the implementation of the `avg_capital_gain_per_age` function\n",
    "\"\"\"\n",
    "\n",
    "assert_equal(True, np.abs(192.80769230769232 - avg_capital_gain_per_age(data, 32)) < EPSILON)\n",
    "assert_equal(0.0, avg_capital_gain_per_age(data, 27))\n",
    "assert_equal(2330.0, avg_capital_gain_per_age(data, 48))"
   ]
  },
  {
   "cell_type": "markdown",
   "metadata": {
    "id": "E4_5870JvAoE"
   },
   "source": [
    "## Exercise 3 (1 point)\n",
    "\n",
    "Implement the function <code>**hours_per_week_stats**</code> below. This takes as input a <code>**pandas.DataFrame**</code> object and returns a tuple containing the min, max, avg, and median value of <code>**hours_per_week**</code>, yet computed on a _slice_ of the input <code>**pandas.DataFrame**</code>.<br />\n",
    "The sliced dataset represents the subpopulation containing **female** citizens whose age is **between 36 and 49 years old** (extremes included), who were born in the **United-States** and having a value of <code>**education_num**</code> **strictly greater than** the _overall_ average."
   ]
  },
  {
   "cell_type": "code",
   "execution_count": 21,
   "metadata": {
    "colab": {
     "base_uri": "https://localhost:8080/",
     "height": 357
    },
    "executionInfo": {
     "elapsed": 309,
     "status": "ok",
     "timestamp": 1669200510117,
     "user": {
      "displayName": "mojtaba amini",
      "userId": "16386290129088016569"
     },
     "user_tz": -60
    },
    "id": "mHsS1TmTvAoF",
    "outputId": "d9a94f55-530d-4f1b-93f2-81cb1a9b75c9"
   },
   "outputs": [
    {
     "data": {
      "text/html": [
       "<div>\n",
       "<style scoped>\n",
       "    .dataframe tbody tr th:only-of-type {\n",
       "        vertical-align: middle;\n",
       "    }\n",
       "\n",
       "    .dataframe tbody tr th {\n",
       "        vertical-align: top;\n",
       "    }\n",
       "\n",
       "    .dataframe thead th {\n",
       "        text-align: right;\n",
       "    }\n",
       "</style>\n",
       "<table border=\"1\" class=\"dataframe\">\n",
       "  <thead>\n",
       "    <tr style=\"text-align: right;\">\n",
       "      <th></th>\n",
       "      <th>age</th>\n",
       "      <th>workclass</th>\n",
       "      <th>fnlwgt</th>\n",
       "      <th>education</th>\n",
       "      <th>education_num</th>\n",
       "      <th>marital_status</th>\n",
       "      <th>occupation</th>\n",
       "      <th>relationship</th>\n",
       "      <th>race</th>\n",
       "      <th>sex</th>\n",
       "      <th>capital_gain</th>\n",
       "      <th>capital_loss</th>\n",
       "      <th>hours_per_week</th>\n",
       "      <th>native_country</th>\n",
       "      <th>income_greater_than_50k</th>\n",
       "    </tr>\n",
       "  </thead>\n",
       "  <tbody>\n",
       "    <tr>\n",
       "      <th>0</th>\n",
       "      <td>49</td>\n",
       "      <td>Private</td>\n",
       "      <td>153536</td>\n",
       "      <td>Some-college</td>\n",
       "      <td>10</td>\n",
       "      <td>Divorced</td>\n",
       "      <td>Prof-specialty</td>\n",
       "      <td>Not-in-family</td>\n",
       "      <td>White</td>\n",
       "      <td>Male</td>\n",
       "      <td>14084</td>\n",
       "      <td>0</td>\n",
       "      <td>44</td>\n",
       "      <td>United-States</td>\n",
       "      <td>1</td>\n",
       "    </tr>\n",
       "    <tr>\n",
       "      <th>1</th>\n",
       "      <td>19</td>\n",
       "      <td>Private</td>\n",
       "      <td>417657</td>\n",
       "      <td>HS-grad</td>\n",
       "      <td>9</td>\n",
       "      <td>Never-married</td>\n",
       "      <td>Handlers-cleaners</td>\n",
       "      <td>Own-child</td>\n",
       "      <td>White</td>\n",
       "      <td>Male</td>\n",
       "      <td>0</td>\n",
       "      <td>0</td>\n",
       "      <td>50</td>\n",
       "      <td>United-States</td>\n",
       "      <td>-1</td>\n",
       "    </tr>\n",
       "    <tr>\n",
       "      <th>2</th>\n",
       "      <td>41</td>\n",
       "      <td>Private</td>\n",
       "      <td>143046</td>\n",
       "      <td>Masters</td>\n",
       "      <td>14</td>\n",
       "      <td>Never-married</td>\n",
       "      <td>Adm-clerical</td>\n",
       "      <td>Not-in-family</td>\n",
       "      <td>White</td>\n",
       "      <td>Female</td>\n",
       "      <td>0</td>\n",
       "      <td>0</td>\n",
       "      <td>40</td>\n",
       "      <td>United-States</td>\n",
       "      <td>-1</td>\n",
       "    </tr>\n",
       "    <tr>\n",
       "      <th>3</th>\n",
       "      <td>46</td>\n",
       "      <td>Private</td>\n",
       "      <td>377401</td>\n",
       "      <td>HS-grad</td>\n",
       "      <td>9</td>\n",
       "      <td>Married-civ-spouse</td>\n",
       "      <td>Transport-moving</td>\n",
       "      <td>Husband</td>\n",
       "      <td>White</td>\n",
       "      <td>Male</td>\n",
       "      <td>0</td>\n",
       "      <td>1902</td>\n",
       "      <td>70</td>\n",
       "      <td>Canada</td>\n",
       "      <td>1</td>\n",
       "    </tr>\n",
       "    <tr>\n",
       "      <th>4</th>\n",
       "      <td>40</td>\n",
       "      <td>Private</td>\n",
       "      <td>224232</td>\n",
       "      <td>Bachelors</td>\n",
       "      <td>13</td>\n",
       "      <td>Married-civ-spouse</td>\n",
       "      <td>Sales</td>\n",
       "      <td>Husband</td>\n",
       "      <td>White</td>\n",
       "      <td>Male</td>\n",
       "      <td>0</td>\n",
       "      <td>0</td>\n",
       "      <td>40</td>\n",
       "      <td>United-States</td>\n",
       "      <td>1</td>\n",
       "    </tr>\n",
       "  </tbody>\n",
       "</table>\n",
       "</div>"
      ],
      "text/plain": [
       "   age workclass  fnlwgt     education  education_num      marital_status  \\\n",
       "0   49   Private  153536  Some-college             10            Divorced   \n",
       "1   19   Private  417657       HS-grad              9       Never-married   \n",
       "2   41   Private  143046       Masters             14       Never-married   \n",
       "3   46   Private  377401       HS-grad              9  Married-civ-spouse   \n",
       "4   40   Private  224232     Bachelors             13  Married-civ-spouse   \n",
       "\n",
       "          occupation   relationship   race     sex  capital_gain  \\\n",
       "0     Prof-specialty  Not-in-family  White    Male         14084   \n",
       "1  Handlers-cleaners      Own-child  White    Male             0   \n",
       "2       Adm-clerical  Not-in-family  White  Female             0   \n",
       "3   Transport-moving        Husband  White    Male             0   \n",
       "4              Sales        Husband  White    Male             0   \n",
       "\n",
       "   capital_loss  hours_per_week native_country  income_greater_than_50k  \n",
       "0             0              44  United-States                        1  \n",
       "1             0              50  United-States                       -1  \n",
       "2             0              40  United-States                       -1  \n",
       "3          1902              70         Canada                        1  \n",
       "4             0              40  United-States                        1  "
      ]
     },
     "execution_count": 21,
     "metadata": {},
     "output_type": "execute_result"
    }
   ],
   "source": [
    "data.head()"
   ]
  },
  {
   "cell_type": "code",
   "execution_count": 27,
   "metadata": {
    "id": "lI_z1aahvAoG"
   },
   "outputs": [],
   "source": [
    "def hours_per_week_stats(data):\n",
    "    \"\"\"\n",
    "    Return a tuple containing the min, max, avg, and median value of `hours_per_week` feature,\n",
    "    yet limited to a slice of the input DataFrame (data). \n",
    "    In particular, this slice will contain instances referring to female citizens\n",
    "    whose age is between 36 and 49 (extremes included) born in the United-States\n",
    "    and having a value of education_num strictly above the overall population average.\n",
    "    \"\"\"\n",
    "    # YOUR CODE HERE\n",
    "    s = data.loc[\n",
    "        (data['sex'] == 'Female') &\n",
    "        (data['age'] >= 36) & \n",
    "        (data['age'] <= 49) &\n",
    "        (data['native_country'] == 'United-States') & \n",
    "        (data['education_num'] > data['education_num'].mean())\n",
    "    ]['hours_per_week']\n",
    "    return (s.min(), s.max(), s.mean(), s.median())"
   ]
  },
  {
   "cell_type": "code",
   "execution_count": 28,
   "metadata": {
    "id": "apoXtgNsvAoH"
   },
   "outputs": [],
   "source": [
    "\"\"\"\n",
    "Test the correctness of the implementation of the `hours_per_week_stats` function\n",
    "\"\"\"\n",
    "\n",
    "# Call off `hours_per_week_stats` function\n",
    "stats = hours_per_week_stats(data)\n",
    "\n",
    "assert_equal(5, stats[0])\n",
    "assert_equal(60, stats[1])"
   ]
  },
  {
   "cell_type": "markdown",
   "metadata": {
    "id": "lH09ESpHvAoI"
   },
   "source": [
    "## Exercise 4 (2 points)\n",
    "\n",
    "Implement the function <code>**standardize_dataset**</code>, which takes as input a <code>**pandas.DataFrame**</code> object and modifies it by creating **new** columns corresponding to the **standardized** values of _numerical_ columns only, except for the target column, i.e., the very last column named <code>**income_greater_than_50k**</code>.<br />\n",
    "To standardize a column $X$, each original value $x\\in X$ should be modified with $x_{\\text{std}}$ as follows:\n",
    "\n",
    "$$\n",
    "x_{\\text{std}} = \\frac{x - \\mu_X}{\\sigma_X}\n",
    "$$\n",
    "\n",
    "where $\\mu_X$ and $\\sigma_X$ are the **mean** and **standard deviation** computed across $X$, respectively.\n",
    "\n",
    "To be sure standardization is applied to a numerical column only, you can use the following built-in function:\n",
    "\n",
    "<code>**pd.api.types.infer_dtype(data[column], skipna=True)**</code>.\n",
    "\n",
    "If the value returned by this function is equal to the string <code>**'integer'**</code>, then you can apply the standardization.\n",
    "\n",
    "Finally, the naming convention for standardized columns is as follows: if <code>**column**</code> is the name of the original column, then its standardized version will be <code>**column_std**</code>."
   ]
  },
  {
   "cell_type": "code",
   "execution_count": 29,
   "metadata": {
    "id": "jQDVlx1TvAoJ"
   },
   "outputs": [],
   "source": [
    "def standardize_dataset(data):\n",
    "    # YOUR CODE HERE\n",
    "    for col in data.columns:\n",
    "        if (data[col].dtype == 'int64' or data[col].dtype == 'float64') and (col != 'income_greater_than_50k'):\n",
    "            data[col + '_std'] = (data[col] - data[col].mean()) / (data[col].std())\n"
   ]
  },
  {
   "cell_type": "code",
   "execution_count": 30,
   "metadata": {
    "id": "AntT0kV3vAoK"
   },
   "outputs": [],
   "source": [
    "\"\"\"\n",
    "Test the correctness of the implementation of the `standardize_dataset` function\n",
    "\"\"\"\n",
    "\n",
    "# Call off `standardize_dataset` function on a copy of our original dataset\n",
    "data_cpy = data.copy()\n",
    "standardize_dataset(data_cpy)\n",
    "\n",
    "assert_equal(1000, data_cpy.shape[0])\n",
    "assert_equal(21, data_cpy.shape[1])\n",
    "assert_equal(True, np.abs(0.093258105603949315 - data_cpy.iloc[42]['age_std']) < EPSILON)\n",
    "assert_equal(True, np.abs(-0.21956059890921917 - data_cpy.iloc[73]['capital_loss_std']) < EPSILON)"
   ]
  },
  {
   "cell_type": "code",
   "execution_count": 31,
   "metadata": {
    "colab": {
     "base_uri": "https://localhost:8080/",
     "height": 386
    },
    "executionInfo": {
     "elapsed": 261,
     "status": "ok",
     "timestamp": 1669201828515,
     "user": {
      "displayName": "mojtaba amini",
      "userId": "16386290129088016569"
     },
     "user_tz": -60
    },
    "id": "85gS9VppvAoL",
    "outputId": "17ea913e-af22-417e-f8ec-8a95029aec16"
   },
   "outputs": [
    {
     "data": {
      "text/html": [
       "<div>\n",
       "<style scoped>\n",
       "    .dataframe tbody tr th:only-of-type {\n",
       "        vertical-align: middle;\n",
       "    }\n",
       "\n",
       "    .dataframe tbody tr th {\n",
       "        vertical-align: top;\n",
       "    }\n",
       "\n",
       "    .dataframe thead th {\n",
       "        text-align: right;\n",
       "    }\n",
       "</style>\n",
       "<table border=\"1\" class=\"dataframe\">\n",
       "  <thead>\n",
       "    <tr style=\"text-align: right;\">\n",
       "      <th></th>\n",
       "      <th>age</th>\n",
       "      <th>workclass</th>\n",
       "      <th>fnlwgt</th>\n",
       "      <th>education</th>\n",
       "      <th>education_num</th>\n",
       "      <th>marital_status</th>\n",
       "      <th>occupation</th>\n",
       "      <th>relationship</th>\n",
       "      <th>race</th>\n",
       "      <th>sex</th>\n",
       "      <th>...</th>\n",
       "      <th>capital_loss</th>\n",
       "      <th>hours_per_week</th>\n",
       "      <th>native_country</th>\n",
       "      <th>income_greater_than_50k</th>\n",
       "      <th>age_std</th>\n",
       "      <th>fnlwgt_std</th>\n",
       "      <th>education_num_std</th>\n",
       "      <th>capital_gain_std</th>\n",
       "      <th>capital_loss_std</th>\n",
       "      <th>hours_per_week_std</th>\n",
       "    </tr>\n",
       "  </thead>\n",
       "  <tbody>\n",
       "    <tr>\n",
       "      <th>0</th>\n",
       "      <td>49</td>\n",
       "      <td>Private</td>\n",
       "      <td>153536</td>\n",
       "      <td>Some-college</td>\n",
       "      <td>10</td>\n",
       "      <td>Divorced</td>\n",
       "      <td>Prof-specialty</td>\n",
       "      <td>Not-in-family</td>\n",
       "      <td>White</td>\n",
       "      <td>Male</td>\n",
       "      <td>...</td>\n",
       "      <td>0</td>\n",
       "      <td>44</td>\n",
       "      <td>United-States</td>\n",
       "      <td>1</td>\n",
       "      <td>0.763109</td>\n",
       "      <td>-0.329267</td>\n",
       "      <td>-0.042209</td>\n",
       "      <td>2.105746</td>\n",
       "      <td>-0.219561</td>\n",
       "      <td>0.278114</td>\n",
       "    </tr>\n",
       "    <tr>\n",
       "      <th>1</th>\n",
       "      <td>19</td>\n",
       "      <td>Private</td>\n",
       "      <td>417657</td>\n",
       "      <td>HS-grad</td>\n",
       "      <td>9</td>\n",
       "      <td>Never-married</td>\n",
       "      <td>Handlers-cleaners</td>\n",
       "      <td>Own-child</td>\n",
       "      <td>White</td>\n",
       "      <td>Male</td>\n",
       "      <td>...</td>\n",
       "      <td>0</td>\n",
       "      <td>50</td>\n",
       "      <td>United-States</td>\n",
       "      <td>-1</td>\n",
       "      <td>-1.469727</td>\n",
       "      <td>2.165592</td>\n",
       "      <td>-0.433034</td>\n",
       "      <td>-0.181888</td>\n",
       "      <td>-0.219561</td>\n",
       "      <td>0.788883</td>\n",
       "    </tr>\n",
       "    <tr>\n",
       "      <th>2</th>\n",
       "      <td>41</td>\n",
       "      <td>Private</td>\n",
       "      <td>143046</td>\n",
       "      <td>Masters</td>\n",
       "      <td>14</td>\n",
       "      <td>Never-married</td>\n",
       "      <td>Adm-clerical</td>\n",
       "      <td>Not-in-family</td>\n",
       "      <td>White</td>\n",
       "      <td>Female</td>\n",
       "      <td>...</td>\n",
       "      <td>0</td>\n",
       "      <td>40</td>\n",
       "      <td>United-States</td>\n",
       "      <td>-1</td>\n",
       "      <td>0.167686</td>\n",
       "      <td>-0.428354</td>\n",
       "      <td>1.521092</td>\n",
       "      <td>-0.181888</td>\n",
       "      <td>-0.219561</td>\n",
       "      <td>-0.062399</td>\n",
       "    </tr>\n",
       "    <tr>\n",
       "      <th>3</th>\n",
       "      <td>46</td>\n",
       "      <td>Private</td>\n",
       "      <td>377401</td>\n",
       "      <td>HS-grad</td>\n",
       "      <td>9</td>\n",
       "      <td>Married-civ-spouse</td>\n",
       "      <td>Transport-moving</td>\n",
       "      <td>Husband</td>\n",
       "      <td>White</td>\n",
       "      <td>Male</td>\n",
       "      <td>...</td>\n",
       "      <td>1902</td>\n",
       "      <td>70</td>\n",
       "      <td>Canada</td>\n",
       "      <td>1</td>\n",
       "      <td>0.539825</td>\n",
       "      <td>1.785338</td>\n",
       "      <td>-0.433034</td>\n",
       "      <td>-0.181888</td>\n",
       "      <td>4.581151</td>\n",
       "      <td>2.491447</td>\n",
       "    </tr>\n",
       "    <tr>\n",
       "      <th>4</th>\n",
       "      <td>40</td>\n",
       "      <td>Private</td>\n",
       "      <td>224232</td>\n",
       "      <td>Bachelors</td>\n",
       "      <td>13</td>\n",
       "      <td>Married-civ-spouse</td>\n",
       "      <td>Sales</td>\n",
       "      <td>Husband</td>\n",
       "      <td>White</td>\n",
       "      <td>Male</td>\n",
       "      <td>...</td>\n",
       "      <td>0</td>\n",
       "      <td>40</td>\n",
       "      <td>United-States</td>\n",
       "      <td>1</td>\n",
       "      <td>0.093258</td>\n",
       "      <td>0.338520</td>\n",
       "      <td>1.130267</td>\n",
       "      <td>-0.181888</td>\n",
       "      <td>-0.219561</td>\n",
       "      <td>-0.062399</td>\n",
       "    </tr>\n",
       "  </tbody>\n",
       "</table>\n",
       "<p>5 rows × 21 columns</p>\n",
       "</div>"
      ],
      "text/plain": [
       "   age workclass  fnlwgt     education  education_num      marital_status  \\\n",
       "0   49   Private  153536  Some-college             10            Divorced   \n",
       "1   19   Private  417657       HS-grad              9       Never-married   \n",
       "2   41   Private  143046       Masters             14       Never-married   \n",
       "3   46   Private  377401       HS-grad              9  Married-civ-spouse   \n",
       "4   40   Private  224232     Bachelors             13  Married-civ-spouse   \n",
       "\n",
       "          occupation   relationship   race     sex  ...  capital_loss  \\\n",
       "0     Prof-specialty  Not-in-family  White    Male  ...             0   \n",
       "1  Handlers-cleaners      Own-child  White    Male  ...             0   \n",
       "2       Adm-clerical  Not-in-family  White  Female  ...             0   \n",
       "3   Transport-moving        Husband  White    Male  ...          1902   \n",
       "4              Sales        Husband  White    Male  ...             0   \n",
       "\n",
       "   hours_per_week  native_country income_greater_than_50k   age_std  \\\n",
       "0              44   United-States                       1  0.763109   \n",
       "1              50   United-States                      -1 -1.469727   \n",
       "2              40   United-States                      -1  0.167686   \n",
       "3              70          Canada                       1  0.539825   \n",
       "4              40   United-States                       1  0.093258   \n",
       "\n",
       "   fnlwgt_std  education_num_std  capital_gain_std  capital_loss_std  \\\n",
       "0   -0.329267          -0.042209          2.105746         -0.219561   \n",
       "1    2.165592          -0.433034         -0.181888         -0.219561   \n",
       "2   -0.428354           1.521092         -0.181888         -0.219561   \n",
       "3    1.785338          -0.433034         -0.181888          4.581151   \n",
       "4    0.338520           1.130267         -0.181888         -0.219561   \n",
       "\n",
       "   hours_per_week_std  \n",
       "0            0.278114  \n",
       "1            0.788883  \n",
       "2           -0.062399  \n",
       "3            2.491447  \n",
       "4           -0.062399  \n",
       "\n",
       "[5 rows x 21 columns]"
      ]
     },
     "execution_count": 31,
     "metadata": {},
     "output_type": "execute_result"
    }
   ],
   "source": [
    "data_cpy.head()"
   ]
  },
  {
   "cell_type": "markdown",
   "metadata": {
    "id": "tJqa70QHvAoL"
   },
   "source": [
    "## Exercise 5 (1 point)\n",
    "\n",
    "Connect to the CIA Factbook database factbook.db and use an SQL query to select all the data of the columns *name* and *population* contained in the table *facts*. Build a pandas DataFrame with the result set in a varibale named *countries*. Rename the columns of the dataframe with the following names: \"country\", \"population\".\n"
   ]
  },
  {
   "cell_type": "code",
   "execution_count": null,
   "metadata": {
    "colab": {
     "base_uri": "https://localhost:8080/",
     "height": 206
    },
    "executionInfo": {
     "elapsed": 618,
     "status": "ok",
     "timestamp": 1669201879995,
     "user": {
      "displayName": "mojtaba amini",
      "userId": "16386290129088016569"
     },
     "user_tz": -60
    },
    "id": "OgCB2olWvAoM",
    "outputId": "947d285b-585e-423c-fd55-3ec582d30888"
   },
   "outputs": [],
   "source": [
    "import sqlite3 \n",
    "# YOUR CODE HERE\n",
    "## THERE IS NO TEST OF CORRECTNESS FOR THIS PART\n",
    "\n"
   ]
  },
  {
   "cell_type": "markdown",
   "metadata": {
    "id": "YGFnuKT5vAoN"
   },
   "source": [
    "## Exercise 6 (1 point)\n",
    "\n",
    "Merge the dataframe *data* created in exercise 1 and the dataframe *countries* built in the previous exercise using the columns *native_country* and *country*, respectvely. Save the result in a new dataframe names *data_ext*."
   ]
  },
  {
   "cell_type": "code",
   "execution_count": null,
   "metadata": {
    "id": "QRusR7tEvAoN"
   },
   "outputs": [],
   "source": [
    "# YOUR CODE HERE\n",
    "\n"
   ]
  },
  {
   "cell_type": "code",
   "execution_count": null,
   "metadata": {
    "id": "D1vXHk2MvAoO"
   },
   "outputs": [],
   "source": [
    "\"\"\"\n",
    "Test the correctness of the size of the merged dataset\"\"\"\n",
    "\n",
    "assert_equal(True, (data_ext.shape[0] == 56))"
   ]
  },
  {
   "cell_type": "markdown",
   "metadata": {
    "id": "oWUIy-NDvAoP"
   },
   "source": [
    "## Exercise 7 (1 point)\n",
    "\n",
    "Split the *data_ext* dataframe into two dataframes using the \"masking\" approach. One dataframe, named \"lower\", must contain the rows of *data_ext* that have a population lower than the mean of the population of the dataframe *countries*; the other dataframe, named \"gr_eq\", must contain the rows of *data_ext* that have a population greater or equal than the mean of the population of the dataframe *countries*.\n"
   ]
  },
  {
   "cell_type": "code",
   "execution_count": null,
   "metadata": {
    "id": "WTDDjoFkvAoQ",
    "outputId": "4bdc0b27-b88c-47a5-b693-be80947c5f00"
   },
   "outputs": [],
   "source": [
    "# YOUR CODE HERE\n",
    "\n",
    "## THERE IS NO TEST OF CORRECTNESS FOR THIS PART"
   ]
  },
  {
   "cell_type": "markdown",
   "metadata": {
    "id": "eHcIurXDvAoR"
   },
   "source": [
    "## Exercise 8 (2 points)\n",
    "\n",
    "Build a Figure object and create a 2 x 1 matrix of subplots.\n",
    "In the first subplot you must plot the histogram of the numerical feature <code>**age**</code> of the subset of data of countries with a popoulation lower than the mean using <code>**distplot**</code>.\n",
    "In the second subplot you must plot the histogram of the numerical feature <code>**age**</code> of the subset of data of countries with a popoulation greater or equal than the mean using <code>**distplot**</code>. For both histograms, use the provided list of bins named *age_bins*.\n"
   ]
  },
  {
   "cell_type": "code",
   "execution_count": null,
   "metadata": {
    "colab": {
     "base_uri": "https://localhost:8080/",
     "height": 370
    },
    "executionInfo": {
     "elapsed": 826,
     "status": "ok",
     "timestamp": 1640038008313,
     "user": {
      "displayName": "mojtaba amini",
      "photoUrl": "https://lh3.googleusercontent.com/a-/AOh14GhUMqKsR6gKyTKO3hHaiopxzRHICgDDna5pfrArmg=s64",
      "userId": "16386290129088016569"
     },
     "user_tz": -60
    },
    "id": "FAeG5DB2vAoS",
    "outputId": "8635f60d-bc3c-480c-e4a8-fb2e7196c632"
   },
   "outputs": [],
   "source": [
    "age_bins = [0, 10, 20, 30, 40, 50, 60, 70 ,80, 90, 100]\n",
    "\n",
    "# YOUR CODE HERE\n",
    "\n",
    "\n",
    "## THERE IS NO TEST OF CORRECTNESS FOR THIS PART\n"
   ]
  }
 ],
 "metadata": {
  "colab": {
   "name": "",
   "version": ""
  },
  "kernelspec": {
   "display_name": "Python 3 (ipykernel)",
   "language": "python",
   "name": "python3"
  },
  "language_info": {
   "codemirror_mode": {
    "name": "ipython",
    "version": 3
   },
   "file_extension": ".py",
   "mimetype": "text/x-python",
   "name": "python",
   "nbconvert_exporter": "python",
   "pygments_lexer": "ipython3",
   "version": "3.9.7"
  }
 },
 "nbformat": 4,
 "nbformat_minor": 1
}
