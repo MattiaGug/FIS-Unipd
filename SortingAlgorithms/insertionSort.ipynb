{
 "cells": [
  {
   "cell_type": "markdown",
   "id": "e3083805",
   "metadata": {},
   "source": [
    "# Insertion Sort\n",
    "Notebook containing the insertion sort algorithm and its complexity analysis\n"
   ]
  },
  {
   "cell_type": "code",
   "execution_count": 1,
   "id": "c44961f9",
   "metadata": {},
   "outputs": [
    {
     "name": "stdout",
     "output_type": "stream",
     "text": [
      "The number in position 0 is: 5\n",
      "The number in position 1 is: 4\n",
      "The number in position 2 is: 6\n",
      "The number in position 3 is: 1\n",
      "The number in position 4 is: 3\n"
     ]
    }
   ],
   "source": [
    "array = [5, 4, 6, 1, 3]\n",
    "\n",
    "# Let's check the index position of each element\n",
    "\n",
    "for i in range(len(array)):\n",
    "    print(\"The number in position\", i, \"is: {}\".format(array[i]))"
   ]
  },
  {
   "cell_type": "code",
   "execution_count": 2,
   "id": "e6535dae",
   "metadata": {},
   "outputs": [],
   "source": [
    "# Insertion Sort consideres the most left elements as the one in order\n",
    "# Hence, we start the algorithm from the second element unorderedList[1]\n",
    "\n",
    "import time\n",
    "\n",
    "# Start time\n",
    "start_time = time.time()\n",
    "\n",
    "def insertionSort(array):\n",
    "    for j in range(1, len(array)):\n",
    "        key = array[j]\n",
    "        i = j \n",
    "        while i > 0 & array[i-1] > key:\n",
    "            array[i] = array[i-1]\n",
    "            i = i - 1\n",
    "        array[i] = key\n",
    "                \n",
    "# End timer\n",
    "end_time = time.time() \n",
    "\n",
    "\n",
    "# Calculate elapsed time\n",
    "elapsed_time = end_time - start_time"
   ]
  },
  {
   "cell_type": "code",
   "execution_count": 3,
   "id": "dab56acb",
   "metadata": {},
   "outputs": [
    {
     "name": "stdout",
     "output_type": "stream",
     "text": [
      "[5, 4, 6, 1, 3]\n",
      "Elapsed time:  0.0005009174346923828\n"
     ]
    }
   ],
   "source": [
    "array = [5, 4, 6, 1, 3]\n",
    "insertionSort(array)\n",
    "\n",
    "print(array)\n",
    "print(\"Elapsed time: \", elapsed_time) "
   ]
  }
 ],
 "metadata": {
  "kernelspec": {
   "display_name": "Python 3 (ipykernel)",
   "language": "python",
   "name": "python3"
  },
  "language_info": {
   "codemirror_mode": {
    "name": "ipython",
    "version": 3
   },
   "file_extension": ".py",
   "mimetype": "text/x-python",
   "name": "python",
   "nbconvert_exporter": "python",
   "pygments_lexer": "ipython3",
   "version": "3.9.7"
  }
 },
 "nbformat": 4,
 "nbformat_minor": 5
}
