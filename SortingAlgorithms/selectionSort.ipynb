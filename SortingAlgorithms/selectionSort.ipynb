{
 "cells": [
  {
   "cell_type": "markdown",
   "id": "6089db03",
   "metadata": {},
   "source": [
    "## Insertion Sort\n",
    "Notebook containing the insertion sort algorithm and its complexity analysis"
   ]
  },
  {
   "cell_type": "code",
   "execution_count": 5,
   "id": "6364d435",
   "metadata": {},
   "outputs": [
    {
     "name": "stdout",
     "output_type": "stream",
     "text": [
      "This is the input array: [3, 2, 65, 54, 53, 73, 12]\n",
      "This is the output array: [2, 3, 12, 53, 54, 65, 73]\n",
      "Elapsed time: 0.00036787986755371094\n"
     ]
    }
   ],
   "source": [
    "import time\n",
    "\n",
    "array = [3, 2, 65, 54, 53, 73, 12]\n",
    "size = len(array)\n",
    "\n",
    "# Start timer\n",
    "start_time = time.time()\n",
    "\n",
    "\n",
    "def selectionSort(lst, size):\n",
    "    for step in range(size):\n",
    "        min_idx = step\n",
    "        \n",
    "        for i in range(step + 1, size):\n",
    "            if lst[i] < lst[min_idx]:\n",
    "                min_idx = i\n",
    "        (lst[step], lst[min_idx]) = (lst[min_idx], lst[step])\n",
    "        \n",
    "\n",
    "# End timer\n",
    "end_time = time.time() \n",
    "\n",
    "\n",
    "# Calculate elapsed time\n",
    "elapsed_time = end_time - start_time \n",
    "        \n",
    "\n",
    "print(\"This is the input array: {}\".format(array))\n",
    "selectionSort(array, size)\n",
    "print(\"This is the output array: {}\".format(array))\n",
    "print(\"Elapsed time: {}\".format(elapsed_time))\n",
    "\n"
   ]
  }
 ],
 "metadata": {
  "kernelspec": {
   "display_name": "Python 3 (ipykernel)",
   "language": "python",
   "name": "python3"
  },
  "language_info": {
   "codemirror_mode": {
    "name": "ipython",
    "version": 3
   },
   "file_extension": ".py",
   "mimetype": "text/x-python",
   "name": "python",
   "nbconvert_exporter": "python",
   "pygments_lexer": "ipython3",
   "version": "3.9.7"
  }
 },
 "nbformat": 4,
 "nbformat_minor": 5
}
